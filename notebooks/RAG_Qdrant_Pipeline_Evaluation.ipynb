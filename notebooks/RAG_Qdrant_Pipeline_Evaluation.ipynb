{
  "cells": [
    {
      "cell_type": "code",
      "execution_count": null,
      "metadata": {
        "colab": {
          "base_uri": "https://localhost:8080/"
        },
        "collapsed": true,
        "id": "4pMeAM4H204D",
        "outputId": "0f2856f2-f68c-4573-cb6a-de7e22c8a0bb"
      },
      "outputs": [
        {
          "output_type": "stream",
          "name": "stdout",
          "text": [
            "Selecting previously unselected package poppler-utils.\n",
            "(Reading database ... 126319 files and directories currently installed.)\n",
            "Preparing to unpack .../poppler-utils_22.02.0-2ubuntu0.8_amd64.deb ...\n",
            "Unpacking poppler-utils (22.02.0-2ubuntu0.8) ...\n",
            "Setting up poppler-utils (22.02.0-2ubuntu0.8) ...\n",
            "Processing triggers for man-db (2.10.2-1) ...\n",
            "\u001b[2K     \u001b[90m━━━━━━━━━━━━━━━━━━━━━━━━━━━━━━━━━━━━━━\u001b[0m \u001b[32m981.5/981.5 kB\u001b[0m \u001b[31m16.3 MB/s\u001b[0m eta \u001b[36m0:00:00\u001b[0m\n",
            "\u001b[?25h  Preparing metadata (setup.py) ... \u001b[?25l\u001b[?25hdone\n",
            "\u001b[2K     \u001b[90m━━━━━━━━━━━━━━━━━━━━━━━━━━━━━━━━━━━━━━━━\u001b[0m \u001b[32m48.2/48.2 kB\u001b[0m \u001b[31m3.4 MB/s\u001b[0m eta \u001b[36m0:00:00\u001b[0m\n",
            "\u001b[2K   \u001b[90m━━━━━━━━━━━━━━━━━━━━━━━━━━━━━━━━━━━━━━━━\u001b[0m \u001b[32m17.6/17.6 MB\u001b[0m \u001b[31m90.2 MB/s\u001b[0m eta \u001b[36m0:00:00\u001b[0m\n",
            "\u001b[2K   \u001b[90m━━━━━━━━━━━━━━━━━━━━━━━━━━━━━━━━━━━━━━━━\u001b[0m \u001b[32m16.4/16.4 MB\u001b[0m \u001b[31m86.3 MB/s\u001b[0m eta \u001b[36m0:00:00\u001b[0m\n",
            "\u001b[2K   \u001b[90m━━━━━━━━━━━━━━━━━━━━━━━━━━━━━━━━━━━━━━━━\u001b[0m \u001b[32m253.0/253.0 kB\u001b[0m \u001b[31m16.7 MB/s\u001b[0m eta \u001b[36m0:00:00\u001b[0m\n",
            "\u001b[2K   \u001b[90m━━━━━━━━━━━━━━━━━━━━━━━━━━━━━━━━━━━━━━━━\u001b[0m \u001b[32m472.8/472.8 kB\u001b[0m \u001b[31m24.9 MB/s\u001b[0m eta \u001b[36m0:00:00\u001b[0m\n",
            "\u001b[2K   \u001b[90m━━━━━━━━━━━━━━━━━━━━━━━━━━━━━━━━━━━━━━━━\u001b[0m \u001b[32m48.1/48.1 kB\u001b[0m \u001b[31m3.4 MB/s\u001b[0m eta \u001b[36m0:00:00\u001b[0m\n",
            "\u001b[2K   \u001b[90m━━━━━━━━━━━━━━━━━━━━━━━━━━━━━━━━━━━━━━━━\u001b[0m \u001b[32m112.5/112.5 kB\u001b[0m \u001b[31m8.5 MB/s\u001b[0m eta \u001b[36m0:00:00\u001b[0m\n",
            "\u001b[2K   \u001b[90m━━━━━━━━━━━━━━━━━━━━━━━━━━━━━━━━━━━━━━━━\u001b[0m \u001b[32m590.6/590.6 kB\u001b[0m \u001b[31m35.6 MB/s\u001b[0m eta \u001b[36m0:00:00\u001b[0m\n",
            "\u001b[2K   \u001b[90m━━━━━━━━━━━━━━━━━━━━━━━━━━━━━━━━━━━━━━━━\u001b[0m \u001b[32m527.9/527.9 kB\u001b[0m \u001b[31m27.0 MB/s\u001b[0m eta \u001b[36m0:00:00\u001b[0m\n",
            "\u001b[2K   \u001b[90m━━━━━━━━━━━━━━━━━━━━━━━━━━━━━━━━━━━━━━━━\u001b[0m \u001b[32m5.6/5.6 MB\u001b[0m \u001b[31m84.1 MB/s\u001b[0m eta \u001b[36m0:00:00\u001b[0m\n",
            "\u001b[2K   \u001b[90m━━━━━━━━━━━━━━━━━━━━━━━━━━━━━━━━━━━━━━━━\u001b[0m \u001b[32m1.2/1.2 MB\u001b[0m \u001b[31m47.9 MB/s\u001b[0m eta \u001b[36m0:00:00\u001b[0m\n",
            "\u001b[2K   \u001b[90m━━━━━━━━━━━━━━━━━━━━━━━━━━━━━━━━━━━━━━━━\u001b[0m \u001b[32m2.5/2.5 MB\u001b[0m \u001b[31m60.3 MB/s\u001b[0m eta \u001b[36m0:00:00\u001b[0m\n",
            "\u001b[2K   \u001b[90m━━━━━━━━━━━━━━━━━━━━━━━━━━━━━━━━━━━━━━━━\u001b[0m \u001b[32m304.6/304.6 kB\u001b[0m \u001b[31m18.9 MB/s\u001b[0m eta \u001b[36m0:00:00\u001b[0m\n",
            "\u001b[2K   \u001b[90m━━━━━━━━━━━━━━━━━━━━━━━━━━━━━━━━━━━━━━━━\u001b[0m \u001b[32m167.6/167.6 kB\u001b[0m \u001b[31m12.0 MB/s\u001b[0m eta \u001b[36m0:00:00\u001b[0m\n",
            "\u001b[2K   \u001b[90m━━━━━━━━━━━━━━━━━━━━━━━━━━━━━━━━━━━━━━━━\u001b[0m \u001b[32m3.1/3.1 MB\u001b[0m \u001b[31m66.0 MB/s\u001b[0m eta \u001b[36m0:00:00\u001b[0m\n",
            "\u001b[2K   \u001b[90m━━━━━━━━━━━━━━━━━━━━━━━━━━━━━━━━━━━━━━━━\u001b[0m \u001b[32m1.8/1.8 MB\u001b[0m \u001b[31m53.7 MB/s\u001b[0m eta \u001b[36m0:00:00\u001b[0m\n",
            "\u001b[2K   \u001b[90m━━━━━━━━━━━━━━━━━━━━━━━━━━━━━━━━━━━━━━━━\u001b[0m \u001b[32m195.8/195.8 kB\u001b[0m \u001b[31m11.0 MB/s\u001b[0m eta \u001b[36m0:00:00\u001b[0m\n",
            "\u001b[2K   \u001b[90m━━━━━━━━━━━━━━━━━━━━━━━━━━━━━━━━━━━━━━━━\u001b[0m \u001b[32m50.9/50.9 kB\u001b[0m \u001b[31m3.2 MB/s\u001b[0m eta \u001b[36m0:00:00\u001b[0m\n",
            "\u001b[2K   \u001b[90m━━━━━━━━━━━━━━━━━━━━━━━━━━━━━━━━━━━━━━━━\u001b[0m \u001b[32m363.4/363.4 MB\u001b[0m \u001b[31m4.4 MB/s\u001b[0m eta \u001b[36m0:00:00\u001b[0m\n",
            "\u001b[2K   \u001b[90m━━━━━━━━━━━━━━━━━━━━━━━━━━━━━━━━━━━━━━━━\u001b[0m \u001b[32m13.8/13.8 MB\u001b[0m \u001b[31m107.7 MB/s\u001b[0m eta \u001b[36m0:00:00\u001b[0m\n",
            "\u001b[2K   \u001b[90m━━━━━━━━━━━━━━━━━━━━━━━━━━━━━━━━━━━━━━━━\u001b[0m \u001b[32m24.6/24.6 MB\u001b[0m \u001b[31m23.7 MB/s\u001b[0m eta \u001b[36m0:00:00\u001b[0m\n",
            "\u001b[2K   \u001b[90m━━━━━━━━━━━━━━━━━━━━━━━━━━━━━━━━━━━━━━━━\u001b[0m \u001b[32m883.7/883.7 kB\u001b[0m \u001b[31m45.4 MB/s\u001b[0m eta \u001b[36m0:00:00\u001b[0m\n",
            "\u001b[2K   \u001b[90m━━━━━━━━━━━━━━━━━━━━━━━━━━━━━━━━━━━━━━━━\u001b[0m \u001b[32m664.8/664.8 MB\u001b[0m \u001b[31m2.1 MB/s\u001b[0m eta \u001b[36m0:00:00\u001b[0m\n",
            "\u001b[2K   \u001b[90m━━━━━━━━━━━━━━━━━━━━━━━━━━━━━━━━━━━━━━━━\u001b[0m \u001b[32m211.5/211.5 MB\u001b[0m \u001b[31m4.2 MB/s\u001b[0m eta \u001b[36m0:00:00\u001b[0m\n",
            "\u001b[2K   \u001b[90m━━━━━━━━━━━━━━━━━━━━━━━━━━━━━━━━━━━━━━━━\u001b[0m \u001b[32m56.3/56.3 MB\u001b[0m \u001b[31m11.7 MB/s\u001b[0m eta \u001b[36m0:00:00\u001b[0m\n",
            "\u001b[2K   \u001b[90m━━━━━━━━━━━━━━━━━━━━━━━━━━━━━━━━━━━━━━━━\u001b[0m \u001b[32m127.9/127.9 MB\u001b[0m \u001b[31m7.6 MB/s\u001b[0m eta \u001b[36m0:00:00\u001b[0m\n",
            "\u001b[2K   \u001b[90m━━━━━━━━━━━━━━━━━━━━━━━━━━━━━━━━━━━━━━━━\u001b[0m \u001b[32m207.5/207.5 MB\u001b[0m \u001b[31m5.7 MB/s\u001b[0m eta \u001b[36m0:00:00\u001b[0m\n",
            "\u001b[2K   \u001b[90m━━━━━━━━━━━━━━━━━━━━━━━━━━━━━━━━━━━━━━━━\u001b[0m \u001b[32m21.1/21.1 MB\u001b[0m \u001b[31m41.3 MB/s\u001b[0m eta \u001b[36m0:00:00\u001b[0m\n",
            "\u001b[2K   \u001b[90m━━━━━━━━━━━━━━━━━━━━━━━━━━━━━━━━━━━━━━━━\u001b[0m \u001b[32m172.3/172.3 kB\u001b[0m \u001b[31m11.7 MB/s\u001b[0m eta \u001b[36m0:00:00\u001b[0m\n",
            "\u001b[2K   \u001b[90m━━━━━━━━━━━━━━━━━━━━━━━━━━━━━━━━━━━━━━━━\u001b[0m \u001b[32m46.0/46.0 kB\u001b[0m \u001b[31m2.9 MB/s\u001b[0m eta \u001b[36m0:00:00\u001b[0m\n",
            "\u001b[2K   \u001b[90m━━━━━━━━━━━━━━━━━━━━━━━━━━━━━━━━━━━━━━━━\u001b[0m \u001b[32m114.6/114.6 kB\u001b[0m \u001b[31m8.4 MB/s\u001b[0m eta \u001b[36m0:00:00\u001b[0m\n",
            "\u001b[2K   \u001b[90m━━━━━━━━━━━━━━━━━━━━━━━━━━━━━━━━━━━━━━━━\u001b[0m \u001b[32m2.9/2.9 MB\u001b[0m \u001b[31m89.5 MB/s\u001b[0m eta \u001b[36m0:00:00\u001b[0m\n",
            "\u001b[2K   \u001b[90m━━━━━━━━━━━━━━━━━━━━━━━━━━━━━━━━━━━━━━━━\u001b[0m \u001b[32m86.8/86.8 kB\u001b[0m \u001b[31m6.4 MB/s\u001b[0m eta \u001b[36m0:00:00\u001b[0m\n",
            "\u001b[?25h  Building wheel for langdetect (setup.py) ... \u001b[?25l\u001b[?25hdone\n",
            "Collecting pymupdf\n",
            "  Downloading pymupdf-1.26.1-cp39-abi3-manylinux_2_28_x86_64.whl.metadata (3.4 kB)\n",
            "Downloading pymupdf-1.26.1-cp39-abi3-manylinux_2_28_x86_64.whl (24.1 MB)\n",
            "\u001b[2K   \u001b[90m━━━━━━━━━━━━━━━━━━━━━━━━━━━━━━━━━━━━━━━━\u001b[0m \u001b[32m24.1/24.1 MB\u001b[0m \u001b[31m85.2 MB/s\u001b[0m eta \u001b[36m0:00:00\u001b[0m\n",
            "\u001b[?25hInstalling collected packages: pymupdf\n",
            "Successfully installed pymupdf-1.26.1\n",
            "Collecting langchain-openai\n",
            "  Downloading langchain_openai-0.3.24-py3-none-any.whl.metadata (2.3 kB)\n",
            "Requirement already satisfied: langchain-core<1.0.0,>=0.3.65 in /usr/local/lib/python3.11/dist-packages (from langchain-openai) (0.3.65)\n",
            "Requirement already satisfied: openai<2.0.0,>=1.86.0 in /usr/local/lib/python3.11/dist-packages (from langchain-openai) (1.86.0)\n",
            "Requirement already satisfied: tiktoken<1,>=0.7 in /usr/local/lib/python3.11/dist-packages (from langchain-openai) (0.9.0)\n",
            "Requirement already satisfied: langsmith<0.4,>=0.3.45 in /usr/local/lib/python3.11/dist-packages (from langchain-core<1.0.0,>=0.3.65->langchain-openai) (0.3.45)\n",
            "Requirement already satisfied: tenacity!=8.4.0,<10.0.0,>=8.1.0 in /usr/local/lib/python3.11/dist-packages (from langchain-core<1.0.0,>=0.3.65->langchain-openai) (9.1.2)\n",
            "Requirement already satisfied: jsonpatch<2.0,>=1.33 in /usr/local/lib/python3.11/dist-packages (from langchain-core<1.0.0,>=0.3.65->langchain-openai) (1.33)\n",
            "Requirement already satisfied: PyYAML>=5.3 in /usr/local/lib/python3.11/dist-packages (from langchain-core<1.0.0,>=0.3.65->langchain-openai) (6.0.2)\n",
            "Requirement already satisfied: packaging<25,>=23.2 in /usr/local/lib/python3.11/dist-packages (from langchain-core<1.0.0,>=0.3.65->langchain-openai) (24.2)\n",
            "Requirement already satisfied: typing-extensions>=4.7 in /usr/local/lib/python3.11/dist-packages (from langchain-core<1.0.0,>=0.3.65->langchain-openai) (4.14.0)\n",
            "Requirement already satisfied: pydantic>=2.7.4 in /usr/local/lib/python3.11/dist-packages (from langchain-core<1.0.0,>=0.3.65->langchain-openai) (2.11.7)\n",
            "Requirement already satisfied: anyio<5,>=3.5.0 in /usr/local/lib/python3.11/dist-packages (from openai<2.0.0,>=1.86.0->langchain-openai) (4.9.0)\n",
            "Requirement already satisfied: distro<2,>=1.7.0 in /usr/local/lib/python3.11/dist-packages (from openai<2.0.0,>=1.86.0->langchain-openai) (1.9.0)\n",
            "Requirement already satisfied: httpx<1,>=0.23.0 in /usr/local/lib/python3.11/dist-packages (from openai<2.0.0,>=1.86.0->langchain-openai) (0.28.1)\n",
            "Requirement already satisfied: jiter<1,>=0.4.0 in /usr/local/lib/python3.11/dist-packages (from openai<2.0.0,>=1.86.0->langchain-openai) (0.10.0)\n",
            "Requirement already satisfied: sniffio in /usr/local/lib/python3.11/dist-packages (from openai<2.0.0,>=1.86.0->langchain-openai) (1.3.1)\n",
            "Requirement already satisfied: tqdm>4 in /usr/local/lib/python3.11/dist-packages (from openai<2.0.0,>=1.86.0->langchain-openai) (4.67.1)\n",
            "Requirement already satisfied: regex>=2022.1.18 in /usr/local/lib/python3.11/dist-packages (from tiktoken<1,>=0.7->langchain-openai) (2024.11.6)\n",
            "Requirement already satisfied: requests>=2.26.0 in /usr/local/lib/python3.11/dist-packages (from tiktoken<1,>=0.7->langchain-openai) (2.32.3)\n",
            "Requirement already satisfied: idna>=2.8 in /usr/local/lib/python3.11/dist-packages (from anyio<5,>=3.5.0->openai<2.0.0,>=1.86.0->langchain-openai) (3.10)\n",
            "Requirement already satisfied: certifi in /usr/local/lib/python3.11/dist-packages (from httpx<1,>=0.23.0->openai<2.0.0,>=1.86.0->langchain-openai) (2025.6.15)\n",
            "Requirement already satisfied: httpcore==1.* in /usr/local/lib/python3.11/dist-packages (from httpx<1,>=0.23.0->openai<2.0.0,>=1.86.0->langchain-openai) (1.0.9)\n",
            "Requirement already satisfied: h11>=0.16 in /usr/local/lib/python3.11/dist-packages (from httpcore==1.*->httpx<1,>=0.23.0->openai<2.0.0,>=1.86.0->langchain-openai) (0.16.0)\n",
            "Requirement already satisfied: jsonpointer>=1.9 in /usr/local/lib/python3.11/dist-packages (from jsonpatch<2.0,>=1.33->langchain-core<1.0.0,>=0.3.65->langchain-openai) (3.0.0)\n",
            "Requirement already satisfied: orjson<4.0.0,>=3.9.14 in /usr/local/lib/python3.11/dist-packages (from langsmith<0.4,>=0.3.45->langchain-core<1.0.0,>=0.3.65->langchain-openai) (3.10.18)\n",
            "Requirement already satisfied: requests-toolbelt<2.0.0,>=1.0.0 in /usr/local/lib/python3.11/dist-packages (from langsmith<0.4,>=0.3.45->langchain-core<1.0.0,>=0.3.65->langchain-openai) (1.0.0)\n",
            "Requirement already satisfied: zstandard<0.24.0,>=0.23.0 in /usr/local/lib/python3.11/dist-packages (from langsmith<0.4,>=0.3.45->langchain-core<1.0.0,>=0.3.65->langchain-openai) (0.23.0)\n",
            "Requirement already satisfied: annotated-types>=0.6.0 in /usr/local/lib/python3.11/dist-packages (from pydantic>=2.7.4->langchain-core<1.0.0,>=0.3.65->langchain-openai) (0.7.0)\n",
            "Requirement already satisfied: pydantic-core==2.33.2 in /usr/local/lib/python3.11/dist-packages (from pydantic>=2.7.4->langchain-core<1.0.0,>=0.3.65->langchain-openai) (2.33.2)\n",
            "Requirement already satisfied: typing-inspection>=0.4.0 in /usr/local/lib/python3.11/dist-packages (from pydantic>=2.7.4->langchain-core<1.0.0,>=0.3.65->langchain-openai) (0.4.1)\n",
            "Requirement already satisfied: charset-normalizer<4,>=2 in /usr/local/lib/python3.11/dist-packages (from requests>=2.26.0->tiktoken<1,>=0.7->langchain-openai) (3.4.2)\n",
            "Requirement already satisfied: urllib3<3,>=1.21.1 in /usr/local/lib/python3.11/dist-packages (from requests>=2.26.0->tiktoken<1,>=0.7->langchain-openai) (2.4.0)\n",
            "Downloading langchain_openai-0.3.24-py3-none-any.whl (68 kB)\n",
            "\u001b[2K   \u001b[90m━━━━━━━━━━━━━━━━━━━━━━━━━━━━━━━━━━━━━━━━\u001b[0m \u001b[32m69.0/69.0 kB\u001b[0m \u001b[31m2.2 MB/s\u001b[0m eta \u001b[36m0:00:00\u001b[0m\n",
            "\u001b[?25hInstalling collected packages: langchain-openai\n",
            "Successfully installed langchain-openai-0.3.24\n",
            "Requirement already satisfied: langchain in /usr/local/lib/python3.11/dist-packages (0.3.25)\n",
            "Requirement already satisfied: langchain-core<1.0.0,>=0.3.58 in /usr/local/lib/python3.11/dist-packages (from langchain) (0.3.65)\n",
            "Requirement already satisfied: langchain-text-splitters<1.0.0,>=0.3.8 in /usr/local/lib/python3.11/dist-packages (from langchain) (0.3.8)\n",
            "Requirement already satisfied: langsmith<0.4,>=0.1.17 in /usr/local/lib/python3.11/dist-packages (from langchain) (0.3.45)\n",
            "Requirement already satisfied: pydantic<3.0.0,>=2.7.4 in /usr/local/lib/python3.11/dist-packages (from langchain) (2.11.7)\n",
            "Requirement already satisfied: SQLAlchemy<3,>=1.4 in /usr/local/lib/python3.11/dist-packages (from langchain) (2.0.41)\n",
            "Requirement already satisfied: requests<3,>=2 in /usr/local/lib/python3.11/dist-packages (from langchain) (2.32.3)\n",
            "Requirement already satisfied: PyYAML>=5.3 in /usr/local/lib/python3.11/dist-packages (from langchain) (6.0.2)\n",
            "Requirement already satisfied: tenacity!=8.4.0,<10.0.0,>=8.1.0 in /usr/local/lib/python3.11/dist-packages (from langchain-core<1.0.0,>=0.3.58->langchain) (9.1.2)\n",
            "Requirement already satisfied: jsonpatch<2.0,>=1.33 in /usr/local/lib/python3.11/dist-packages (from langchain-core<1.0.0,>=0.3.58->langchain) (1.33)\n",
            "Requirement already satisfied: packaging<25,>=23.2 in /usr/local/lib/python3.11/dist-packages (from langchain-core<1.0.0,>=0.3.58->langchain) (24.2)\n",
            "Requirement already satisfied: typing-extensions>=4.7 in /usr/local/lib/python3.11/dist-packages (from langchain-core<1.0.0,>=0.3.58->langchain) (4.14.0)\n",
            "Requirement already satisfied: httpx<1,>=0.23.0 in /usr/local/lib/python3.11/dist-packages (from langsmith<0.4,>=0.1.17->langchain) (0.28.1)\n",
            "Requirement already satisfied: orjson<4.0.0,>=3.9.14 in /usr/local/lib/python3.11/dist-packages (from langsmith<0.4,>=0.1.17->langchain) (3.10.18)\n",
            "Requirement already satisfied: requests-toolbelt<2.0.0,>=1.0.0 in /usr/local/lib/python3.11/dist-packages (from langsmith<0.4,>=0.1.17->langchain) (1.0.0)\n",
            "Requirement already satisfied: zstandard<0.24.0,>=0.23.0 in /usr/local/lib/python3.11/dist-packages (from langsmith<0.4,>=0.1.17->langchain) (0.23.0)\n",
            "Requirement already satisfied: annotated-types>=0.6.0 in /usr/local/lib/python3.11/dist-packages (from pydantic<3.0.0,>=2.7.4->langchain) (0.7.0)\n",
            "Requirement already satisfied: pydantic-core==2.33.2 in /usr/local/lib/python3.11/dist-packages (from pydantic<3.0.0,>=2.7.4->langchain) (2.33.2)\n",
            "Requirement already satisfied: typing-inspection>=0.4.0 in /usr/local/lib/python3.11/dist-packages (from pydantic<3.0.0,>=2.7.4->langchain) (0.4.1)\n",
            "Requirement already satisfied: charset-normalizer<4,>=2 in /usr/local/lib/python3.11/dist-packages (from requests<3,>=2->langchain) (3.4.2)\n",
            "Requirement already satisfied: idna<4,>=2.5 in /usr/local/lib/python3.11/dist-packages (from requests<3,>=2->langchain) (3.10)\n",
            "Requirement already satisfied: urllib3<3,>=1.21.1 in /usr/local/lib/python3.11/dist-packages (from requests<3,>=2->langchain) (2.4.0)\n",
            "Requirement already satisfied: certifi>=2017.4.17 in /usr/local/lib/python3.11/dist-packages (from requests<3,>=2->langchain) (2025.6.15)\n",
            "Requirement already satisfied: greenlet>=1 in /usr/local/lib/python3.11/dist-packages (from SQLAlchemy<3,>=1.4->langchain) (3.2.3)\n",
            "Requirement already satisfied: anyio in /usr/local/lib/python3.11/dist-packages (from httpx<1,>=0.23.0->langsmith<0.4,>=0.1.17->langchain) (4.9.0)\n",
            "Requirement already satisfied: httpcore==1.* in /usr/local/lib/python3.11/dist-packages (from httpx<1,>=0.23.0->langsmith<0.4,>=0.1.17->langchain) (1.0.9)\n",
            "Requirement already satisfied: h11>=0.16 in /usr/local/lib/python3.11/dist-packages (from httpcore==1.*->httpx<1,>=0.23.0->langsmith<0.4,>=0.1.17->langchain) (0.16.0)\n",
            "Requirement already satisfied: jsonpointer>=1.9 in /usr/local/lib/python3.11/dist-packages (from jsonpatch<2.0,>=1.33->langchain-core<1.0.0,>=0.3.58->langchain) (3.0.0)\n",
            "Requirement already satisfied: sniffio>=1.1 in /usr/local/lib/python3.11/dist-packages (from anyio->httpx<1,>=0.23.0->langsmith<0.4,>=0.1.17->langchain) (1.3.1)\n",
            "Collecting qdrant-client\n",
            "  Downloading qdrant_client-1.14.3-py3-none-any.whl.metadata (10 kB)\n",
            "Requirement already satisfied: grpcio>=1.41.0 in /usr/local/lib/python3.11/dist-packages (from qdrant-client) (1.73.0)\n",
            "Requirement already satisfied: httpx>=0.20.0 in /usr/local/lib/python3.11/dist-packages (from httpx[http2]>=0.20.0->qdrant-client) (0.28.1)\n",
            "Requirement already satisfied: numpy>=1.21 in /usr/local/lib/python3.11/dist-packages (from qdrant-client) (2.0.2)\n",
            "Collecting portalocker<3.0.0,>=2.7.0 (from qdrant-client)\n",
            "  Downloading portalocker-2.10.1-py3-none-any.whl.metadata (8.5 kB)\n",
            "Requirement already satisfied: protobuf>=3.20.0 in /usr/local/lib/python3.11/dist-packages (from qdrant-client) (5.29.5)\n",
            "Requirement already satisfied: pydantic!=2.0.*,!=2.1.*,!=2.2.0,>=1.10.8 in /usr/local/lib/python3.11/dist-packages (from qdrant-client) (2.11.7)\n",
            "Requirement already satisfied: urllib3<3,>=1.26.14 in /usr/local/lib/python3.11/dist-packages (from qdrant-client) (2.4.0)\n",
            "Requirement already satisfied: anyio in /usr/local/lib/python3.11/dist-packages (from httpx>=0.20.0->httpx[http2]>=0.20.0->qdrant-client) (4.9.0)\n",
            "Requirement already satisfied: certifi in /usr/local/lib/python3.11/dist-packages (from httpx>=0.20.0->httpx[http2]>=0.20.0->qdrant-client) (2025.6.15)\n",
            "Requirement already satisfied: httpcore==1.* in /usr/local/lib/python3.11/dist-packages (from httpx>=0.20.0->httpx[http2]>=0.20.0->qdrant-client) (1.0.9)\n",
            "Requirement already satisfied: idna in /usr/local/lib/python3.11/dist-packages (from httpx>=0.20.0->httpx[http2]>=0.20.0->qdrant-client) (3.10)\n",
            "Requirement already satisfied: h11>=0.16 in /usr/local/lib/python3.11/dist-packages (from httpcore==1.*->httpx>=0.20.0->httpx[http2]>=0.20.0->qdrant-client) (0.16.0)\n",
            "Requirement already satisfied: h2<5,>=3 in /usr/local/lib/python3.11/dist-packages (from httpx[http2]>=0.20.0->qdrant-client) (4.2.0)\n",
            "Requirement already satisfied: annotated-types>=0.6.0 in /usr/local/lib/python3.11/dist-packages (from pydantic!=2.0.*,!=2.1.*,!=2.2.0,>=1.10.8->qdrant-client) (0.7.0)\n",
            "Requirement already satisfied: pydantic-core==2.33.2 in /usr/local/lib/python3.11/dist-packages (from pydantic!=2.0.*,!=2.1.*,!=2.2.0,>=1.10.8->qdrant-client) (2.33.2)\n",
            "Requirement already satisfied: typing-extensions>=4.12.2 in /usr/local/lib/python3.11/dist-packages (from pydantic!=2.0.*,!=2.1.*,!=2.2.0,>=1.10.8->qdrant-client) (4.14.0)\n",
            "Requirement already satisfied: typing-inspection>=0.4.0 in /usr/local/lib/python3.11/dist-packages (from pydantic!=2.0.*,!=2.1.*,!=2.2.0,>=1.10.8->qdrant-client) (0.4.1)\n",
            "Requirement already satisfied: hyperframe<7,>=6.1 in /usr/local/lib/python3.11/dist-packages (from h2<5,>=3->httpx[http2]>=0.20.0->qdrant-client) (6.1.0)\n",
            "Requirement already satisfied: hpack<5,>=4.1 in /usr/local/lib/python3.11/dist-packages (from h2<5,>=3->httpx[http2]>=0.20.0->qdrant-client) (4.1.0)\n",
            "Requirement already satisfied: sniffio>=1.1 in /usr/local/lib/python3.11/dist-packages (from anyio->httpx>=0.20.0->httpx[http2]>=0.20.0->qdrant-client) (1.3.1)\n",
            "Downloading qdrant_client-1.14.3-py3-none-any.whl (328 kB)\n",
            "\u001b[2K   \u001b[90m━━━━━━━━━━━━━━━━━━━━━━━━━━━━━━━━━━━━━━━━\u001b[0m \u001b[32m329.0/329.0 kB\u001b[0m \u001b[31m5.6 MB/s\u001b[0m eta \u001b[36m0:00:00\u001b[0m\n",
            "\u001b[?25hDownloading portalocker-2.10.1-py3-none-any.whl (18 kB)\n",
            "Installing collected packages: portalocker, qdrant-client\n",
            "Successfully installed portalocker-2.10.1 qdrant-client-1.14.3\n",
            "Requirement already satisfied: nltk in /usr/local/lib/python3.11/dist-packages (3.9.1)\n",
            "Requirement already satisfied: click in /usr/local/lib/python3.11/dist-packages (from nltk) (8.2.1)\n",
            "Requirement already satisfied: joblib in /usr/local/lib/python3.11/dist-packages (from nltk) (1.5.1)\n",
            "Requirement already satisfied: regex>=2021.8.3 in /usr/local/lib/python3.11/dist-packages (from nltk) (2024.11.6)\n",
            "Requirement already satisfied: tqdm in /usr/local/lib/python3.11/dist-packages (from nltk) (4.67.1)\n"
          ]
        }
      ],
      "source": [
        "!apt-get -qq install poppler-utils tesseract-ocr\n",
        "%pip install -q --user --upgrade pillow\n",
        "%pip install -q --upgrade unstructured[\"all-docs\"]\n",
        "%pip install pymupdf\n",
        "%pip install langchain-openai\n",
        "%pip install langchain\n",
        "%pip install qdrant-client\n",
        "#%pip install langchain-community\n",
        "%pip install --upgrade nltk\n",
        "%pip install -U langchain-community"
      ]
    },
    {
      "cell_type": "code",
      "execution_count": null,
      "metadata": {
        "colab": {
          "base_uri": "https://localhost:8080/"
        },
        "id": "5ueeTQH-26Cs",
        "outputId": "c8236b14-e316-4f72-f801-126a6a5def85"
      },
      "outputs": [
        {
          "output_type": "stream",
          "name": "stderr",
          "text": [
            "/tmp/ipython-input-2-68272029.py:4: DeprecationWarning: unstructured.ingest will be removed in a future version. Functionality moved to the unstructured-ingest project.\n",
            "  from unstructured.embed.openai import OpenAIEmbeddingConfig, OpenAIEmbeddingEncoder\n",
            "[nltk_data] Downloading package punkt to /root/nltk_data...\n",
            "[nltk_data]   Unzipping tokenizers/punkt.zip.\n"
          ]
        },
        {
          "output_type": "execute_result",
          "data": {
            "text/plain": [
              "True"
            ]
          },
          "metadata": {},
          "execution_count": 2
        }
      ],
      "source": [
        "import os\n",
        "from unstructured.partition.pdf import partition_pdf\n",
        "from unstructured.partition.auto import partition\n",
        "from unstructured.embed.openai import OpenAIEmbeddingConfig, OpenAIEmbeddingEncoder\n",
        "import fitz\n",
        "from langchain_openai import OpenAIEmbeddings\n",
        "from langchain.chains import RetrievalQA\n",
        "from langchain_openai import ChatOpenAI\n",
        "import nltk\n",
        "nltk.download('punkt')"
      ]
    },
    {
      "cell_type": "code",
      "execution_count": null,
      "metadata": {
        "id": "LZxo0jeoSA8J"
      },
      "outputs": [],
      "source": [
        "from google.colab import userdata\n",
        "OPENAI_API_KEY = userdata.get('OPENAI_API_KEY')\n",
        "os.environ[\"OPENAI_API_KEY\"] = OPENAI_API_KEY"
      ]
    },
    {
      "cell_type": "code",
      "execution_count": null,
      "metadata": {
        "colab": {
          "base_uri": "https://localhost:8080/"
        },
        "id": "aG5y7I5M3KX8",
        "outputId": "5fc3dcd2-72c7-4604-af88-de5b2b388df5"
      },
      "outputs": [
        {
          "output_type": "stream",
          "name": "stdout",
          "text": [
            "--2025-06-23 10:30:55--  https://s21.q4cdn.com/399680738/files/doc_news/Meta-Reports-Second-Quarter-2024-Results-2024.pdf\n",
            "Resolving s21.q4cdn.com (s21.q4cdn.com)... 68.70.205.2, 68.70.205.3, 68.70.205.1, ...\n",
            "Connecting to s21.q4cdn.com (s21.q4cdn.com)|68.70.205.2|:443... connected.\n",
            "HTTP request sent, awaiting response... 200 OK\n",
            "Length: 195613 (191K) [application/pdf]\n",
            "Saving to: ‘./doc1.pdf’\n",
            "\n",
            "./doc1.pdf          100%[===================>] 191.03K  --.-KB/s    in 0.05s   \n",
            "\n",
            "2025-06-23 10:30:55 (3.70 MB/s) - ‘./doc1.pdf’ saved [195613/195613]\n",
            "\n"
          ]
        }
      ],
      "source": [
        "!wget 'https://s21.q4cdn.com/399680738/files/doc_news/Meta-Reports-Second-Quarter-2024-Results-2024.pdf' -O './doc1.pdf'"
      ]
    },
    {
      "cell_type": "markdown",
      "metadata": {
        "id": "Bk-JrSIw3Luc"
      },
      "source": [
        "# Document reading"
      ]
    },
    {
      "cell_type": "code",
      "execution_count": null,
      "metadata": {
        "colab": {
          "base_uri": "https://localhost:8080/"
        },
        "id": "rr3pi9eXR5y5",
        "outputId": "c07d1a2f-94ec-41dc-a5a1-3b11baf06e4a"
      },
      "outputs": [
        {
          "output_type": "stream",
          "name": "stderr",
          "text": [
            "WARNING:pdfminer.pdffont:Could get FontBBox from font descriptor because None cannot be parsed as 4 floats\n",
            "WARNING:pdfminer.pdffont:Could get FontBBox from font descriptor because None cannot be parsed as 4 floats\n",
            "WARNING:pdfminer.pdffont:Could get FontBBox from font descriptor because None cannot be parsed as 4 floats\n",
            "WARNING:pdfminer.pdffont:Could get FontBBox from font descriptor because None cannot be parsed as 4 floats\n",
            "WARNING:pdfminer.pdffont:Could get FontBBox from font descriptor because None cannot be parsed as 4 floats\n",
            "WARNING:pdfminer.pdffont:Could get FontBBox from font descriptor because None cannot be parsed as 4 floats\n",
            "WARNING:pdfminer.pdffont:Could get FontBBox from font descriptor because None cannot be parsed as 4 floats\n",
            "WARNING:pdfminer.pdffont:Could get FontBBox from font descriptor because None cannot be parsed as 4 floats\n",
            "WARNING:pdfminer.pdffont:Could get FontBBox from font descriptor because None cannot be parsed as 4 floats\n",
            "WARNING:pdfminer.pdffont:Could get FontBBox from font descriptor because None cannot be parsed as 4 floats\n",
            "WARNING:pdfminer.pdffont:Could get FontBBox from font descriptor because None cannot be parsed as 4 floats\n",
            "WARNING:pdfminer.pdffont:Could get FontBBox from font descriptor because None cannot be parsed as 4 floats\n",
            "WARNING:pdfminer.pdffont:Could get FontBBox from font descriptor because None cannot be parsed as 4 floats\n",
            "WARNING:pdfminer.pdffont:Could get FontBBox from font descriptor because None cannot be parsed as 4 floats\n"
          ]
        }
      ],
      "source": [
        "elements = partition_pdf('./doc1.pdf',\n",
        "                              strategy=\"hi_res\",\n",
        "                              infer_table_structure=True,\n",
        "                              chunking_strategy=\"by_title\",\n",
        "                              max_characters=400,\n",
        "                              combine_text_under_n_chars=50,\n",
        "                              new_after_n_chars=200\n",
        "                              )"
      ]
    },
    {
      "cell_type": "code",
      "execution_count": null,
      "metadata": {
        "colab": {
          "base_uri": "https://localhost:8080/",
          "height": 53
        },
        "id": "xsGKPtvNSpvT",
        "outputId": "7ea7ace2-e8df-474a-a075-5b172374c9dc"
      },
      "outputs": [
        {
          "output_type": "display_data",
          "data": {
            "text/plain": [
              "Counter({unstructured.documents.elements.CompositeElement: 57,\n",
              "         unstructured.documents.elements.TableChunk: 12})"
            ]
          },
          "metadata": {}
        }
      ],
      "source": [
        "from collections import Counter\n",
        "display(Counter(type(element) for element in elements))"
      ]
    },
    {
      "cell_type": "code",
      "execution_count": null,
      "metadata": {
        "colab": {
          "base_uri": "https://localhost:8080/",
          "height": 1000
        },
        "id": "3hFmK_wrvj4U",
        "outputId": "5a3feebf-7072-4307-d6dd-df40304db13d",
        "collapsed": true
      },
      "outputs": [
        {
          "output_type": "display_data",
          "data": {
            "text/plain": [
              "<IPython.core.display.Markdown object>"
            ],
            "text/markdown": "FACEBOOK\n\nNEWS RELEASE\n\nMeta Reports Second Quarter 2024 Results\n\nMENLO PARK, Calif., July 31, 2024 /PRNewswire/ -- Meta Platforms, Inc. (Nasdaq: META) today reported nancial results for the quarter ended June 30, 2024."
          },
          "metadata": {}
        },
        {
          "output_type": "display_data",
          "data": {
            "text/plain": [
              "<IPython.core.display.Markdown object>"
            ],
            "text/markdown": "\"We had a strong quarter, and Meta AI is on track to be the most used AI assistant in the world by the end of the year,\" said Mark Zuckerberg, Meta founder and CEO. \"We've released the rst frontier-level open source AI model, we continue to see good traction with our Ray-Ban Meta AI glasses, and we're driving good growth across our apps.\""
          },
          "metadata": {}
        },
        {
          "output_type": "display_data",
          "data": {
            "text/plain": [
              "<IPython.core.display.Markdown object>"
            ],
            "text/markdown": "Second Quarter 2024 Financial Highlights\n\nThree Months Ended June 30, In millions, except percentages and per share amounts 2024 2023 % Change Revenue $ 39,071 $ 31,999 22 % Costs and expenses 24,224 22,607 7 % Income from operations $ 14,847 $ 9,392 58 % Operating margin 38 % 29 % Provision for income taxes $ 1,641 $ 1,505 9 % Effective tax rate 11 % 16 % Net income $ 13,465 $ 7,788 73 % Diluted earnings per share (EPS) $ 5.16 $ 2.98 73 %"
          },
          "metadata": {}
        },
        {
          "output_type": "display_data",
          "data": {
            "text/plain": [
              "<IPython.core.display.Markdown object>"
            ],
            "text/markdown": "Second Quarter 2024 Operational and Other Financial Highlights\n\nFamily daily active people (DAP) – DAP was 3.27 billion on average for June 2024, an increase of 7% year-over- year.\n\nAd impressions – Ad impressions delivered across our Family of Apps increased by 10% year-over-year."
          },
          "metadata": {}
        },
        {
          "output_type": "display_data",
          "data": {
            "text/plain": [
              "<IPython.core.display.Markdown object>"
            ],
            "text/markdown": "e\n\ne\n\nAverage price per ad – Average price per ad increased by 10% year-over-year.\n\nRevenue – Total revenue was $39.07 billion, an increase of 22% year-over-year. Revenue on a constant"
          },
          "metadata": {}
        },
        {
          "output_type": "display_data",
          "data": {
            "text/plain": [
              "<IPython.core.display.Markdown object>"
            ],
            "text/markdown": "e\n\ncurrency basis would have increased 23% year-over-year.\n\n¢\n\nCosts and expenses – Total costs and expenses were $24.22 billion, an increase of 7% year-over-year.\n\nCapital expenditures – Capital expenditures, including principal payments on nance leases, were $8.47 billion.\n\nCapital return program – Share repurchases were $6.32 billion of our Class A common stock and dividend payments were $1.27 billion."
          },
          "metadata": {}
        },
        {
          "output_type": "display_data",
          "data": {
            "text/plain": [
              "<IPython.core.display.Markdown object>"
            ],
            "text/markdown": "Cash, cash equivalents, and marketable securities – Cash, cash equivalents, and marketable securities were $58.08 billion as of June 30, 2024. Free cash ow was $10.90 billion."
          },
          "metadata": {}
        },
        {
          "output_type": "display_data",
          "data": {
            "text/plain": [
              "<IPython.core.display.Markdown object>"
            ],
            "text/markdown": "e\n\nHeadcount – Headcount was 70,799 as of June 30, 2024, a decrease of 1% year-over-year."
          },
          "metadata": {}
        },
        {
          "output_type": "display_data",
          "data": {
            "text/plain": [
              "<IPython.core.display.Markdown object>"
            ],
            "text/markdown": "CFO Outlook Commentary\n\nWe expect third quarter 2024 total revenue to be in the range of $38.5-41 billion. Our guidance assumes foreign currency is a 2% headwind to year-over-year total revenue growth, based on current exchange rates."
          },
          "metadata": {}
        },
        {
          "output_type": "display_data",
          "data": {
            "text/plain": [
              "<IPython.core.display.Markdown object>"
            ],
            "text/markdown": "We expect full-year 2024 total expenses to be in the range of $96-99 billion, unchanged from our prior outlook. For Reality Labs, we continue to expect 2024 operating losses to increase meaningfully year-over-year due to our ongoing product development eorts and investments to further scale our ecosystem."
          },
          "metadata": {}
        },
        {
          "output_type": "display_data",
          "data": {
            "text/plain": [
              "<IPython.core.display.Markdown object>"
            ],
            "text/markdown": "While we do not intend to provide any quantitative guidance for 2025 until the fourth quarter call, we expect infrastructure costs will be a signicant driver of expense growth next year as we recognize depreciation and operating costs associated with our expanded infrastructure footprint."
          },
          "metadata": {}
        },
        {
          "output_type": "display_data",
          "data": {
            "text/plain": [
              "<IPython.core.display.Markdown object>"
            ],
            "text/markdown": "We anticipate our full-year 2024 capital expenditures will be in the range of $37-40 billion, updated from our prior range of $35-40 billion. While we continue to rene our plans for next year, we currently expect signicant capital expenditures growth in 2025 as we invest to support our articial intelligence research and product development eorts."
          },
          "metadata": {}
        },
        {
          "output_type": "display_data",
          "data": {
            "text/plain": [
              "<IPython.core.display.Markdown object>"
            ],
            "text/markdown": "Absent any changes to our tax landscape, we expect our full-year 2024 tax rate to be in the mid-teens.\n\nIn addition, we continue to monitor an active regulatory landscape, including the increasing legal and regulatory headwinds in the EU and the U.S. that could signicantly impact our business and our nancial results."
          },
          "metadata": {}
        },
        {
          "output_type": "display_data",
          "data": {
            "text/plain": [
              "<IPython.core.display.Markdown object>"
            ],
            "text/markdown": "Webcast and Conference Call Information\n\nMeta will host a conference call to discuss the results at 2:00 p.m. PT / 5:00 p.m. ET today. The live webcast of\n\nMeta's earnings conference call can be accessed at the Meta Investor Relations website at investor.fb.com, along with the earnings press release, nancial tables, and slide presentation."
          },
          "metadata": {}
        },
        {
          "output_type": "display_data",
          "data": {
            "text/plain": [
              "<IPython.core.display.Markdown object>"
            ],
            "text/markdown": "Following the call, a replay will be available at the same website. Transcripts of conference calls with publishing equity research analysts held today will also be posted to the investor.fb.com website."
          },
          "metadata": {}
        },
        {
          "output_type": "display_data",
          "data": {
            "text/plain": [
              "<IPython.core.display.Markdown object>"
            ],
            "text/markdown": "Disclosure Information\n\nMeta uses the investor.fb.com and about.fb.com/news/ websites as well as Mark Zuckerberg's Facebook Page (facebook.com/zuck), Instagram account (instagram.com/zuck) and Threads prole (threads.net/zuck) as means of disclosing material non-public information and for complying with its disclosure obligations under Regulation FD."
          },
          "metadata": {}
        },
        {
          "output_type": "display_data",
          "data": {
            "text/plain": [
              "<IPython.core.display.Markdown object>"
            ],
            "text/markdown": "About Meta\n\nMeta builds technologies that help people connect, nd communities, and grow businesses. When Facebook launched in 2004, it changed the way people connect. Apps like Messenger, Instagram, and WhatsApp further empowered billions around the world. Now, Meta is moving beyond 2D screens toward immersive experiences like augmented and virtual reality to help build the next evolution in social technology."
          },
          "metadata": {}
        },
        {
          "output_type": "display_data",
          "data": {
            "text/plain": [
              "<IPython.core.display.Markdown object>"
            ],
            "text/markdown": "Contacts\n\nInvestors:\n\nKenneth Dorell\n\ninvestor@meta.com / investor.fb.com\n\nPress:"
          },
          "metadata": {}
        },
        {
          "output_type": "display_data",
          "data": {
            "text/plain": [
              "<IPython.core.display.Markdown object>"
            ],
            "text/markdown": "Ryan Moore\n\npress@meta.com / about.fb.com/news/\n\nForward-Looking Statements"
          },
          "metadata": {}
        },
        {
          "output_type": "display_data",
          "data": {
            "text/plain": [
              "<IPython.core.display.Markdown object>"
            ],
            "text/markdown": "This press release contains forward-looking statements regarding our future business plans and expectations. These forward-looking statements are only predictions and may dier materially from actual results due to a variety of factors including: the impact of macroeconomic conditions on our business and nancial results, including as a result of geopolitical events; our ability to retain or increase users and engagement levels; our reliance on advertising revenue; our dependency on data signals"
          },
          "metadata": {}
        },
        {
          "output_type": "display_data",
          "data": {
            "text/plain": [
              "<IPython.core.display.Markdown object>"
            ],
            "text/markdown": "and mobile operating systems, networks, and standards that we do not control; changes to the content or application of third-party policies that impact our advertising practices; risks associated with new products and changes to existing products as well as other new business initiatives, including our articial intelligence initiatives and metaverse eorts; our emphasis on community growth and engagement and the user experience over short-term nancial results; maintaining and enhancing our brand"
          },
          "metadata": {}
        },
        {
          "output_type": "display_data",
          "data": {
            "text/plain": [
              "<IPython.core.display.Markdown object>"
            ],
            "text/markdown": "and reputation; our ongoing privacy, safety, security, and content review eorts; competition; risks associated with government actions that could restrict access to our products or impair our ability to sell advertising in certain countries; litigation and government inquiries; privacy, legislative, and regulatory concerns or developments; risks associated with acquisitions; security breaches; our ability to manage our scale and geographically-dispersed operations; and market conditions or other"
          },
          "metadata": {}
        },
        {
          "output_type": "display_data",
          "data": {
            "text/plain": [
              "<IPython.core.display.Markdown object>"
            ],
            "text/markdown": "factors aecting the payment of dividends. These and other potential risks and uncertainties that could cause actual results to dier from the results predicted are more fully detailed under the caption \"Risk Factors\" in our Quarterly Report on Form 10-Q led with the SEC on April 25, 2024, which is available on our Investor Relations website at investor.fb.com and on the SEC website at www.sec.gov. Additional information will also be set forth in our Quarterly Report on Form 10-Q for the quarter"
          },
          "metadata": {}
        },
        {
          "output_type": "display_data",
          "data": {
            "text/plain": [
              "<IPython.core.display.Markdown object>"
            ],
            "text/markdown": "ended June 30, 2024. In addition, please note that the date of this press release is July 31, 2024, and any forward-looking statements contained herein are based on assumptions that we believe to be reasonable as of this date. We undertake no obligation to update these statements as a result of new information or future events."
          },
          "metadata": {}
        },
        {
          "output_type": "display_data",
          "data": {
            "text/plain": [
              "<IPython.core.display.Markdown object>"
            ],
            "text/markdown": "For a discussion of limitations in the measurement of certain of our community metrics, see the section entitled \"Limitations of Key Metrics and Other Data\" in our most recent quarterly or annual report led with the SEC."
          },
          "metadata": {}
        },
        {
          "output_type": "display_data",
          "data": {
            "text/plain": [
              "<IPython.core.display.Markdown object>"
            ],
            "text/markdown": "Non-GAAP Financial Measures"
          },
          "metadata": {}
        },
        {
          "output_type": "display_data",
          "data": {
            "text/plain": [
              "<IPython.core.display.Markdown object>"
            ],
            "text/markdown": "To supplement our condensed consolidated nancial statements, which are prepared and presented in accordance with generally accepted accounting principles in the United States (GAAP), we use the following non-GAAP nancial measures: revenue excluding foreign exchange eect, advertising revenue excluding foreign exchange eect, and free cash ow. The presentation of these nancial measures is not intended to be considered in isolation or as a substitute for, or superior to, nancial information prepared"
          },
          "metadata": {}
        },
        {
          "output_type": "display_data",
          "data": {
            "text/plain": [
              "<IPython.core.display.Markdown object>"
            ],
            "text/markdown": "and presented in accordance with GAAP. Investors are cautioned that there are material limitations associated with the use of non-GAAP nancial measures as an analytical tool. In addition, these measures may be dierent from non-GAAP nancial measures used by other companies, limiting their usefulness for comparison purposes. We compensate for these limitations by providing specic information regarding the GAAP amounts excluded from these non-GAAP nancial measures."
          },
          "metadata": {}
        },
        {
          "output_type": "display_data",
          "data": {
            "text/plain": [
              "<IPython.core.display.Markdown object>"
            ],
            "text/markdown": "We believe these non-GAAP nancial measures provide investors with useful supplemental information about the\n\nnancial performance of our business, enable comparison of nancial results between periods where certain items may vary independent of business performance, and allow for greater transparency with respect to key metrics used by management in operating our business."
          },
          "metadata": {}
        },
        {
          "output_type": "display_data",
          "data": {
            "text/plain": [
              "<IPython.core.display.Markdown object>"
            ],
            "text/markdown": "Our non-GAAP nancial measures are adjusted for the following items:\n\nForeign exchange eect on revenue. We translated revenue for the three and six months ended June 30, 2024 using the prior year's monthly exchange rates for our settlement or billing currencies other than the U.S. dollar, which we believe is a useful metric that facilitates comparison to our historical performance."
          },
          "metadata": {}
        },
        {
          "output_type": "display_data",
          "data": {
            "text/plain": [
              "<IPython.core.display.Markdown object>"
            ],
            "text/markdown": "Purchases of property and equipment; Principal payments on nance leases. We subtract both purchases of property and equipment, net of proceeds and principal payments on nance leases in our calculation of free cash ow because we believe that these two items collectively represent the amount of property and equipment we need to procure to support our business, regardless of whether we procure such property or equipment with a nance lease. We believe that this methodology can provide useful"
          },
          "metadata": {}
        },
        {
          "output_type": "display_data",
          "data": {
            "text/plain": [
              "<IPython.core.display.Markdown object>"
            ],
            "text/markdown": "supplemental information to help investors better understand underlying trends in our business. Free cash ow is not intended to represent our residual cash ow available for discretionary expenditures."
          },
          "metadata": {}
        },
        {
          "output_type": "display_data",
          "data": {
            "text/plain": [
              "<IPython.core.display.Markdown object>"
            ],
            "text/markdown": "For more information on our non-GAAP nancial measures and a reconciliation of GAAP to non-GAAP measures, please see the \"Reconciliation of GAAP to Non-GAAP Results\" table in this press release."
          },
          "metadata": {}
        },
        {
          "output_type": "display_data",
          "data": {
            "text/plain": [
              "<IPython.core.display.Markdown object>"
            ],
            "text/markdown": "META PLATFORMS, INC.\n\nCONDENSED CONSOLIDATED STATEMENTS OF INCOME"
          },
          "metadata": {}
        },
        {
          "output_type": "display_data",
          "data": {
            "text/plain": [
              "<IPython.core.display.Markdown object>"
            ],
            "text/markdown": "(In millions, except per share amounts)\n\n(Unaudited)\n\nThree Months Ended June 30, Six Months Ended June 30,"
          },
          "metadata": {}
        },
        {
          "output_type": "stream",
          "name": "stdout",
          "text": [
            "----------------------NEW_TABLE----------------------\n",
            "Page no: 5\n"
          ]
        },
        {
          "output_type": "display_data",
          "data": {
            "text/plain": [
              "<IPython.core.display.HTML object>"
            ],
            "text/html": [
              "<table><tr><td>Revenue</td><td>2024</td><td>2023</td><td>2024</td><td>2023</td></tr><tr><td>39,071</td><td>$</td><td>31,999</td><td>$</td><td>75,527</td><td>$</td><td>60,64!</td></tr><tr><td>Costs and expenses:</td></tr><tr><td>Cost of revenue</td><td>7,308</td><td/><td>5,945</td><td/><td>13,948</td><td/><td>12,05.</td></tr><tr><td>Research and development</td><td>10,537</td><td/><td>9,344</td><td/><td>20,515</td><td/><td>18,72:</td></tr><tr><td>Marketing and sales</td><td>2,721</td><td/><td>3,154</td><td/><td>5,285</td><td/><td>6,19%</td></tr><tr><td>General and administrative (1)</td><td>3,658</td><td/><td>4,164</td><td/><td>7,114</td><td/><td>7,04</td></tr><tr><td>Total costs and expenses</td><td>24,224</td><td/><td>22,607</td><td/><td>46,862</td><td/><td>44,02</td></tr><tr><td>Income from operations</td><td>14,847</td><td/><td>9,392</td><td/><td>28,665</td><td/><td>16,61:</td></tr><tr><td>Interest and other income (expense), net</td><td>259</td><td/><td>(99)</td><td/><td>624</td><td/><td>(19</td></tr><tr><td>Income before provision for income taxes</td><td>15,106</td><td/><td>9,293</td><td/><td>29,289</td><td/><td>16,60</td></tr></table>"
            ]
          },
          "metadata": {}
        },
        {
          "output_type": "display_data",
          "data": {
            "text/plain": [
              "<IPython.core.display.HTML object>"
            ],
            "text/html": [
              "<table><tr><td>Provision for income taxes</td><td>1,641</td><td/><td>1,505</td><td/><td>3,455</td><td/><td>3,10:</td></tr><tr><td>Net income</td><td>13,465</td><td>$</td><td>7,788</td><td>$</td><td>25,834</td><td>$</td><td>13,498</td></tr></table>"
            ]
          },
          "metadata": {}
        },
        {
          "output_type": "display_data",
          "data": {
            "text/plain": [
              "<IPython.core.display.Markdown object>"
            ],
            "text/markdown": "$ 31,999 $ 75,527 $ 60,645\n\n12,054\n\n18,725\n\n6,198\n\n7,049\n\n44,026\n\n16,619\n\n(19)\n\n16,600\n\n3,102\n\n$ 7,788 $ 25,834 $ 13,498"
          },
          "metadata": {}
        },
        {
          "output_type": "display_data",
          "data": {
            "text/plain": [
              "<IPython.core.display.Markdown object>"
            ],
            "text/markdown": "Earnings per share:\n\nBasic $ 5.31 Diluted $ 5.16 Weighted-average shares used to compute earnings per share: Basic 2,534 2,568 2,540\n\n$ 3.03 $ 10.17 $ 5.24\n\n$ 2.98 $ 9.86 $ 5.18\n\n2,577\n\n2,610\n\n2,612\n\n2,619"
          },
          "metadata": {}
        },
        {
          "output_type": "display_data",
          "data": {
            "text/plain": [
              "<IPython.core.display.Markdown object>"
            ],
            "text/markdown": "Diluted\n\n2,604\n\n(1) The second quarter 2024 general and administrative expenses include a charge for the recent settlement with the State of Texas. The settlement amount is fully accrued as of June 30, 2024."
          },
          "metadata": {}
        },
        {
          "output_type": "display_data",
          "data": {
            "text/plain": [
              "<IPython.core.display.Markdown object>"
            ],
            "text/markdown": "META PLATFORMS, INC.\n\nCONDENSED CONSOLIDATED BALANCE SHEETS\n\n(In millions)"
          },
          "metadata": {}
        },
        {
          "output_type": "display_data",
          "data": {
            "text/plain": [
              "<IPython.core.display.Markdown object>"
            ],
            "text/markdown": "(Unaudited)"
          },
          "metadata": {}
        },
        {
          "output_type": "stream",
          "name": "stdout",
          "text": [
            "----------------------NEW_TABLE----------------------\n",
            "Page no: 6\n"
          ]
        },
        {
          "output_type": "display_data",
          "data": {
            "text/plain": [
              "<IPython.core.display.HTML object>"
            ],
            "text/html": [
              "<table><tr><td>Assets</td><td/><td/><td/><td/></tr><tr><td>Current assets:</td><td/><td/><td/><td/></tr><tr><td>Cash and cash equivalents</td><td>$</td><td>32,045</td><td>$</td><td>41,862</td></tr><tr><td>Marketable securities</td><td/><td>26,035</td><td/><td>23,541</td></tr><tr><td>Accounts receivable, net</td><td/><td>14,505</td><td/><td>16,169</td></tr><tr><td>Prepaid expenses and other current assets</td><td/><td>3,846</td><td/><td>3,793</td></tr><tr><td>Total current assets</td><td/><td>76431</td><td/><td>85,365</td></tr><tr><td>Non-marketable equity securities</td><td/><td>6,207</td><td/><td>6,141</td></tr><tr><td>Property and equipment, net</td><td/><td>102,959</td><td/><td>96,587</td></tr><tr><td>Operating lease right-of-use assets</td><td/><td>14,058</td><td/><td>13,294</td></tr><tr><td>Goodwill</td><td/><td>20,654</td><td/><td>20,654</td></tr><tr><td>Other assets</td><td/><td>9,929</td><td/><td>7,582</td></tr><tr><td>Total assets</td><td>$</td><td>230,238</td><td>$</td><td>229,623</td></tr><tr><td>Liabilities and stockholders’ equity</td></tr></table>"
            ]
          },
          "metadata": {}
        },
        {
          "output_type": "display_data",
          "data": {
            "text/plain": [
              "<IPython.core.display.HTML object>"
            ],
            "text/html": [
              "<table><tr><td>Current liabilities:</td></tr><tr><td>Accounts payable</td><td>$</td><td>3,173</td><td>$</td><td>4,849</td></tr><tr><td>Operating lease liabilities, current</td><td/><td>4,917</td><td/><td>1,623</td></tr><tr><td>Accrued expenses and other current liabilities</td><td/><td>21,914</td><td/><td>25,488</td></tr><tr><td>Total current liabilities</td><td/><td>27,004</td><td/><td>31,960</td></tr><tr><td>Operating lease liabilities, non-current</td><td/><td>17,685</td><td/><td>17,226</td></tr><tr><td>Long-term debt</td><td/><td>18,389</td><td/><td>18,385</td></tr><tr><td>Long-term income taxes</td><td/><td>7,897</td><td/><td>7,514</td></tr><tr><td>Other liabilities</td><td/><td>2,500</td><td/><td>1,370</td></tr><tr><td>Total liabilities</td><td/><td>73,475</td><td/><td>76,455</td></tr><tr><td>Commitments and contingencies</td></tr><tr><td>Stockholders’ equity:</td><td/><td>78,270</td><td/><td/></tr></table>"
            ]
          },
          "metadata": {}
        },
        {
          "output_type": "display_data",
          "data": {
            "text/plain": [
              "<IPython.core.display.Markdown object>"
            ],
            "text/markdown": "Common stock and additional paid-in capital\n\n78,270\n\n73,253\n\n(2,695) (2,155) 81,188 82,070 156,763 153,168 $ 230,238 $ 229,623\n\nAccumulated other comprehensive loss\n\nRetained earnings"
          },
          "metadata": {}
        },
        {
          "output_type": "display_data",
          "data": {
            "text/plain": [
              "<IPython.core.display.Markdown object>"
            ],
            "text/markdown": "Total stockholders' equity\n\nTotal liabilities and stockholders' equity"
          },
          "metadata": {}
        },
        {
          "output_type": "display_data",
          "data": {
            "text/plain": [
              "<IPython.core.display.Markdown object>"
            ],
            "text/markdown": "META PLATFORMS, INC.\n\nCONDENSED CONSOLIDATED STATEMENTS OF CASH FLOWS\n\n(In millions)"
          },
          "metadata": {}
        },
        {
          "output_type": "stream",
          "name": "stdout",
          "text": [
            "----------------------NEW_TABLE----------------------\n",
            "Page no: 7\n"
          ]
        },
        {
          "output_type": "display_data",
          "data": {
            "text/plain": [
              "<IPython.core.display.HTML object>"
            ],
            "text/html": [
              "<table><tr><td>Cash flows from operating activities</td><td>Three Months</td><td>Ended June 30,</td><td>Six Months Ended</td><td>June 30</td></tr><tr><td>2024</td><td/><td>2023</td><td>2024</td><td>2023</td></tr><tr><td/><td/><td/><td/><td/><td/><td/><td/></tr><tr><td>Net income</td><td>$</td><td>13,465</td><td>$</td><td>7,788</td><td>$</td><td>25,834</td><td>$</td><td>13,49</td></tr><tr><td>Adjustments to reconcile net income to net cash provided by operating activities:</td><td/><td/><td/><td/><td/><td/><td/><td/></tr><tr><td>Depreciation and amortization</td><td/><td>3,637</td><td/><td>2,623</td><td/><td>7,011</td><td/><td>5,14</td></tr><tr><td>Share-based compensation</td><td/><td>4,616</td><td/><td>4,060</td><td/><td>8,178</td><td/><td>7,11</td></tr><tr><td>Deferred income taxes</td><td/><td>(1,643)</td><td/><td>(1,137)</td><td/><td>(2,098)</td><td/><td>(1,757</td></tr><tr><td>Impairment charges for facilities consolidation, net</td><td/><td>41</td><td/><td>232</td><td/><td>280</td><td/><td>1,00</td></tr><tr><td>Other</td><td/><td>(6)</td><td/><td>212</td><td/><td>(71)</td><td/><td>20</td></tr></table>"
            ]
          },
          "metadata": {}
        },
        {
          "output_type": "display_data",
          "data": {
            "text/plain": [
              "<IPython.core.display.HTML object>"
            ],
            "text/html": [
              "<table><tr><td>Changes in assets and liabilities:</td><td/><td/><td/><td/><td/><td/><td/><td/></tr><tr><td>Accounts receivable</td><td/><td>(1,171)</td><td/><td>(1,424)</td><td/><td>1,350</td><td/><td>1,12</td></tr><tr><td>Prepaid expenses and other current assets</td><td/><td>(84)</td><td/><td>(54)</td><td/><td>16</td><td/><td>76</td></tr><tr><td>Accounts payable</td><td/><td>250</td><td/><td>(51)</td><td/><td>(41) (862)</td><td/><td>(1,158</td></tr><tr><td>Accrued expenses and other current liabilities</td><td/><td>(497)</td><td/><td>5,174</td><td/><td>(1,771)</td><td/><td>5,26</td></tr><tr><td>Other liabilities</td><td/><td>708</td><td/><td>(151)</td><td/><td>790</td><td/><td/></tr><tr><td>Net cash provided by operating activities</td><td/><td>19,370</td><td/><td>17,309</td><td/><td>38,616</td><td/><td>31,30</td></tr><tr><td>Cash flows from investing activities</td></tr><tr><td>Purchases of property and equipment, net</td><td/><td>(8,173)</td><td/><td>(6,134)</td><td/><td>(14,573)</td><td/><td>(12,957</td></tr></table>"
            ]
          },
          "metadata": {}
        },
        {
          "output_type": "display_data",
          "data": {
            "text/plain": [
              "<IPython.core.display.HTML object>"
            ],
            "text/html": [
              "<table><tr><td>Purchases of marketable debt securities</td><td/><td>(3,289)</td><td/><td>(717)</td><td/><td>(10,176)</td><td/><td>(80%</td></tr><tr><td>Sales and maturities of marketable debt securities</td><td/><td>3,233</td><td/><td>1,816</td><td/><td>7,858</td><td/><td>2,35</td></tr><tr><td>Acquisitions of businesses and intangible assets</td><td/><td>(57)</td><td/><td>(83)</td><td/><td>(129)</td><td/><td>(627</td></tr><tr><td>Other investing activities</td><td/><td>(12)</td><td/><td>(85)</td><td/><td>(12)</td><td/><td>(1C</td></tr><tr><td>Net cash used in investing activities</td><td/><td>(8,298)</td><td/><td>(5,203)</td><td/><td>(17,032)</td><td/><td>(11,94€</td></tr><tr><td>Cash flows from financing activities</td></tr><tr><td>Taxes paid related to net share settlement of equity awards</td><td/><td>(3,208)</td><td/><td>(1,692)</td><td/><td>(6,370)</td><td/><td>(2,701</td></tr></table>"
            ]
          },
          "metadata": {}
        },
        {
          "output_type": "display_data",
          "data": {
            "text/plain": [
              "<IPython.core.display.HTML object>"
            ],
            "text/html": [
              "<table><tr><td>Repurchases of Class A common stock</td><td/><td>(6,299)</td><td/><td>(898)</td><td/><td>(21,307)</td><td/><td>(10,263</td></tr><tr><td>Dividend payments</td><td/><td>(1,266)</td><td/><td>_</td><td/><td>(2,539)</td><td/><td/></tr><tr><td>Proceeds from issuance of long-term debt, net</td><td/><td>—</td><td/><td>8,455</td><td/><td>—_</td><td/><td>8,45</td></tr><tr><td>Principal payments on finance leases</td><td/><td>(299)</td><td/><td>(220)</td><td/><td>(614)</td><td/><td>(484</td></tr><tr><td>Other financing activities</td><td/><td>(106)</td><td/><td>(353)</td><td/><td>(115)</td><td/><td>(231</td></tr><tr><td>Net cash provided by (used in) financing activities</td><td/><td>(11,178)</td><td/><td>5,292</td><td/><td>(30,945)</td><td/><td>(5,224</td></tr><tr><td>Effect of exchange rate changes on cash, cash equivalents, and restricted cash</td><td/><td>(152)</td><td/><td>(14)</td><td/><td>(440)</td><td/><td>7</td></tr></table>"
            ]
          },
          "metadata": {}
        },
        {
          "output_type": "display_data",
          "data": {
            "text/plain": [
              "<IPython.core.display.HTML object>"
            ],
            "text/html": [
              "<table><tr><td>Net increase (decrease) in cash, cash equivalents, and restricted cash</td><td/><td>(258)</td><td/><td>17,384</td><td/><td>(9,801)</td><td/><td>14,20</td></tr><tr><td>Cash, cash equivalents, and restricted cash at beginning of the period oe</td><td/><td/><td/><td>12,420</td><td/><td/><td/><td>15,59</td></tr></table>"
            ]
          },
          "metadata": {}
        },
        {
          "output_type": "display_data",
          "data": {
            "text/plain": [
              "<IPython.core.display.Markdown object>"
            ],
            "text/markdown": "Three Months Ended June 30, Six Months Ended June 30,\n\n$ 13,498\n\n5,147\n\n7,111\n\n(1,757)\n\n1,002\n\n204\n\n1,122\n\n767\n\n67\n\n(1,155)\n\n5,268\n\n33\n\n31,307\n\n(12,957)\n\n(803)\n\n2,351\n\n(527)\n\n(10)\n\n(11,946)\n\n(2,701)\n\n(10,263)\n\n—\n\n8,455\n\n(484)\n\n(231)\n\n(5,224)\n\n71\n\n14,208\n\n15,596\n\nCash, cash equivalents, and restricted cash at end of the period"
          },
          "metadata": {}
        },
        {
          "output_type": "display_data",
          "data": {
            "text/plain": [
              "<IPython.core.display.Markdown object>"
            ],
            "text/markdown": "$ 33,026\n\n$ 29,804\n\n$ 33,026\n\n$ 29,804\n\nReconciliation of cash, cash equivalents, and restricted cash to the\n\ncondensed consolidated balance sheets Cash and cash equivalents $ 32,045 $ 28,785 $ 32,045 Restricted cash, included in prepaid expenses and other current assets 100 165 100 Restricted cash, included in other assets 881 854 881 Total cash, cash equivalents, and restricted cash $ 33,026 $ 29,804 $ 33,026"
          },
          "metadata": {}
        },
        {
          "output_type": "display_data",
          "data": {
            "text/plain": [
              "<IPython.core.display.Markdown object>"
            ],
            "text/markdown": "$ 28,785\n\n165\n\n854\n\n$ 29,804\n\nMETA PLATFORMS, INC."
          },
          "metadata": {}
        },
        {
          "output_type": "display_data",
          "data": {
            "text/plain": [
              "<IPython.core.display.Markdown object>"
            ],
            "text/markdown": "CONDENSED CONSOLIDATED STATEMENTS OF CASH FLOWS\n\n(In millions)"
          },
          "metadata": {}
        },
        {
          "output_type": "display_data",
          "data": {
            "text/plain": [
              "<IPython.core.display.Markdown object>"
            ],
            "text/markdown": "(Unaudited)\n\nThree Months Ended June 30, Six Months Ended June 30,"
          },
          "metadata": {}
        },
        {
          "output_type": "stream",
          "name": "stdout",
          "text": [
            "----------------------NEW_TABLE----------------------\n",
            "Page no: 8\n"
          ]
        },
        {
          "output_type": "display_data",
          "data": {
            "text/plain": [
              "<IPython.core.display.HTML object>"
            ],
            "text/html": [
              "<table><tr><td>Supplemental cash flow data</td><td>2024</td><td>2023</td><td>2024</td><td>2023</td></tr><tr><td/><td/><td/><td/><td/><td/><td/><td/></tr><tr><td>Cash paid for income taxes, net</td><td>“</td><td>5,929</td><td>“</td><td>1,102</td><td>“</td><td>6,559</td><td>$</td><td>1,50</td></tr><tr><td>Cash paid for interest, net of amounts capitalized</td><td>“</td><td>124</td><td>$</td><td>_—</td><td>$</td><td>245</td><td>$</td><td>18;</td></tr><tr><td>Non-cash investing and financing activities:</td></tr><tr><td>Property and equipment in accounts payable and accrued expenses and other current liabilities</td><td>$</td><td>3,229</td><td>$</td><td>3,845</td><td>$</td><td>3,229</td><td>$</td><td>3,84!</td></tr><tr><td>Acquisition of businesses and intangible assets in accrued expenses and other current liabilities and other liabilities</td><td>$</td><td>267</td><td>$</td><td>217</td><td>$</td><td>267</td><td>$</td><td>21)</td></tr></table>"
            ]
          },
          "metadata": {}
        },
        {
          "output_type": "display_data",
          "data": {
            "text/plain": [
              "<IPython.core.display.Markdown object>"
            ],
            "text/markdown": "$ 1,507\n\n$ 182\n\n$ 3,845\n\n$ 217\n\nSegment Results\n\nWe report our nancial results for our two reportable segments: Family of Apps (FoA) and Reality Labs (RL). FoA includes Facebook, Instagram, Messenger, WhatsApp, and other services. RL includes our virtual, augmented, and mixed reality related consumer hardware, software, and content."
          },
          "metadata": {}
        },
        {
          "output_type": "display_data",
          "data": {
            "text/plain": [
              "<IPython.core.display.Markdown object>"
            ],
            "text/markdown": "The following table presents our segment information of revenue and income (loss) from operations:"
          },
          "metadata": {}
        },
        {
          "output_type": "display_data",
          "data": {
            "text/plain": [
              "<IPython.core.display.Markdown object>"
            ],
            "text/markdown": "Segment Information\n\n(In millions)"
          },
          "metadata": {}
        },
        {
          "output_type": "display_data",
          "data": {
            "text/plain": [
              "<IPython.core.display.Markdown object>"
            ],
            "text/markdown": "(Unaudited)\n\nThree Months Ended June 30, Six Months Ended June 30,\n\n2024\n\n2023\n\n2024\n\n2023\n\nRevenue:\n\nAdvertising $ 38,329 $ 31,498 $ 73,965 $ 59,599 Other revenue 389 225 769 430 Family of Apps 38,718 31,723 74,734 60,029 Reality Labs 353 276 793 616 Total revenue $ 39,071 $ 31,999 $ 75,527 $ 60,645 Income (loss) from operations: Family of Apps $ 19,335 $ 13,131 $ 36,999 $ 24,351 Reality Labs (4,488) (3,739) (8,334) (7,732) Total income from operations $ 14,847 $ 9,392 $ 28,665 $ 16,619"
          },
          "metadata": {}
        },
        {
          "output_type": "display_data",
          "data": {
            "text/plain": [
              "<IPython.core.display.Markdown object>"
            ],
            "text/markdown": "Reconciliation of GAAP to Non-GAAP Results\n\n(In millions, except percentages)"
          },
          "metadata": {}
        },
        {
          "output_type": "display_data",
          "data": {
            "text/plain": [
              "<IPython.core.display.Markdown object>"
            ],
            "text/markdown": "(Unaudited)\n\nThree Months Ended June 30, Six Months Ended June 30,"
          },
          "metadata": {}
        },
        {
          "output_type": "stream",
          "name": "stdout",
          "text": [
            "----------------------NEW_TABLE----------------------\n",
            "Page no: 9\n"
          ]
        },
        {
          "output_type": "display_data",
          "data": {
            "text/plain": [
              "<IPython.core.display.HTML object>"
            ],
            "text/html": [
              "<table><tr><td>GAAP revenue</td><td>2024</td><td>2023</td><td>2024</td><td>2023</td></tr><tr><td>39,071</td><td>$</td><td>31,999</td><td>75,527</td><td>$</td><td>60,6</td></tr><tr><td>Foreign exchange effect on 2024 revenue using 2023 rates</td><td>371</td><td/><td/><td>265</td><td/><td/></tr><tr><td>Revenue excluding foreign exchange effect</td><td>39,442</td><td/><td/><td>75,792</td><td/><td/></tr><tr><td>GAAP revenue year-over-year change %</td><td>22%</td><td/><td/><td>25 %</td><td/><td/></tr><tr><td>Revenue excluding foreign exchange effect year-over-year change %</td><td>23 %</td><td/><td/><td>25 %</td><td/><td/></tr><tr><td>GAAP advertising revenue</td><td>38,329</td><td>$</td><td>31,498</td><td>73,965</td><td>$</td><td>59,5:</td></tr><tr><td>Foreign exchange effect on 2024 advertising revenue using 2023 rates</td><td>367</td><td/><td/><td>261</td><td/><td/></tr></table>"
            ]
          },
          "metadata": {}
        },
        {
          "output_type": "display_data",
          "data": {
            "text/plain": [
              "<IPython.core.display.HTML object>"
            ],
            "text/html": [
              "<table><tr><td>Advertising revenue excluding foreign exchange effect</td><td>38,696</td><td/><td/><td>74,226</td><td/><td/></tr><tr><td>GAAP advertising revenue year-over-year change %</td><td>22%</td><td/><td/><td>24%</td><td/><td/></tr><tr><td>Advertising revenue excluding foreign exchange effect year-over-year change %</td><td>23 %</td><td/><td/><td>25 %</td><td/><td/></tr><tr><td>Net cash provided by operating activities</td><td>19,370</td><td>$</td><td>17,309</td><td>38,616</td><td>$</td><td>31,3</td></tr><tr><td>Purchases of property and equipment, net</td><td>(8,173)</td><td/><td>(6,134)</td><td>(14,573)</td><td/><td>(12,95</td></tr><tr><td>Principal payments on finance leases</td><td>(299) 10,898</td><td/><td>(220)</td><td>(614) 23,429</td><td/><td>(48</td></tr></table>"
            ]
          },
          "metadata": {}
        },
        {
          "output_type": "display_data",
          "data": {
            "text/plain": [
              "<IPython.core.display.Markdown object>"
            ],
            "text/markdown": "GAAP revenue\n\n$ 60,645\n\n$ 59,599\n\nchange %\n\n$ 31,307\n\n(12,957)\n\n(484)"
          },
          "metadata": {}
        },
        {
          "output_type": "display_data",
          "data": {
            "text/plain": [
              "<IPython.core.display.Markdown object>"
            ],
            "text/markdown": "Free cash flow\n\n$ 17,866\n\nView original content to download multimedia:https://www.prnewswire.com/news-releases/meta-reports- second-quarter-2024-results-302211512.html"
          },
          "metadata": {}
        },
        {
          "output_type": "display_data",
          "data": {
            "text/plain": [
              "<IPython.core.display.Markdown object>"
            ],
            "text/markdown": "SOURCE Meta"
          },
          "metadata": {}
        }
      ],
      "source": [
        "from IPython.display import Markdown, display, HTML\n",
        "\n",
        "for element in elements:\n",
        "  if element.to_dict()['type']==\"Table\":\n",
        "    if \"is_continuation\" in element.to_dict()[\"metadata\"]:\n",
        "      html_table = element.metadata.text_as_html\n",
        "      display(HTML(html_table))\n",
        "    else:\n",
        "      print(\"----------------------NEW_TABLE----------------------\")\n",
        "      page_no = element.to_dict()[\"metadata\"][\"page_number\"]\n",
        "      print(\"Page no:\", page_no)\n",
        "      html_table = element.metadata.text_as_html\n",
        "      display(HTML(html_table))\n",
        "  else:\n",
        "    display(Markdown(str(element.text)))"
      ]
    },
    {
      "cell_type": "code",
      "execution_count": null,
      "metadata": {
        "id": "VH8S3ZHVSv5m"
      },
      "outputs": [],
      "source": [
        "def extract_text_from_pdf(pdf_path):\n",
        "    text = \"\"\n",
        "    with fitz.open(pdf_path) as doc:\n",
        "        for page in doc:\n",
        "            text += page.get_text()\n",
        "    return text\n",
        "\n",
        "pdf_path = './doc1.pdf'\n",
        "document_content = extract_text_from_pdf(pdf_path)"
      ]
    },
    {
      "cell_type": "code",
      "execution_count": null,
      "metadata": {
        "colab": {
          "base_uri": "https://localhost:8080/",
          "height": 1000
        },
        "id": "57rrXdV1mBTL",
        "outputId": "1bd6838c-42e1-4b7e-b322-56a30011857c",
        "collapsed": true
      },
      "outputs": [
        {
          "data": {
            "text/markdown": "NEWS RELEASE\nMeta Reports Second Quarter 2024 Results\nMENLO PARK, Calif., July 31, 2024 /PRNewswire/ -- Meta Platforms, Inc. (Nasdaq: META) today reported ínancial\nresults for the quarter ended June 30, 2024.\n\"We had a strong quarter, and Meta AI is on track to be the most used AI assistant in the world by the end of the\nyear,\" said Mark Zuckerberg, Meta founder and CEO. \"We've released the írst frontier-level open source AI model,\nwe continue to see good traction with our Ray-Ban Meta AI glasses, and we're driving good growth across our\napps.\"\n \n \n Second Quarter 2024 Financial Highlights\n \nThree Months Ended June 30,\n \n % Change\nIn millions, except percentages and per share amounts               \n2024\n \n2023\n \nRevenue\n$                  39,071  \n$                  31,999  \n22 %\nCosts and expenses\n24,224  \n22,607  \n7 %\nIncome from operations\n$                  14,847  \n$                    9,392  \n58 %\nOperating margin\n38 %  \n29 %  \n \nProvision for income taxes\n$                    1,641  \n$                    1,505  \n9 %\nEffective tax rate\n11 %  \n16 %  \n \nNet income\n$                  13,465  \n$                    7,788  \n73 %\nDiluted earnings per share (EPS)\n$                      5.16  \n$                      2.98  \n73 %\n \n Second Quarter 2024 Operational and Other Financial Highlights\nFamily daily active people (DAP) – DAP was 3.27 billion on average for June 2024, an increase of 7% year-over-\nyear.\nAd impressions – Ad impressions delivered across our Family of Apps increased by 10% year-over-year.\nAverage price per ad – Average price per ad increased by 10% year-over-year.\nRevenue – Total revenue was $39.07 billion, an increase of 22% year-over-year. Revenue on a constant\n1\ncurrency basis would have increased 23% year-over-year.\nCosts and expenses – Total costs and expenses were $24.22 billion, an increase of 7% year-over-year.\nCapital expenditures – Capital expenditures, including principal payments on ínance leases, were $8.47\nbillion.\nCapital return program – Share repurchases were $6.32 billion of our Class A common stock and dividend\npayments were $1.27 billion.\nCash, cash equivalents, and marketable securities – Cash, cash equivalents, and marketable securities were\n$58.08 billion as of June 30, 2024. Free cash îow was $10.90 billion.\nHeadcount – Headcount was 70,799 as of June 30, 2024, a decrease of 1% year-over-year.\n \nCFO Outlook Commentary\n \n \nWe expect third quarter 2024 total revenue to be in the range of $38.5-41 billion. Our guidance assumes foreign\ncurrency is a 2% headwind to year-over-year total revenue growth, based on current exchange rates.\nWe expect full-year 2024 total expenses to be in the range of $96-99 billion, unchanged from our prior outlook. For\nReality Labs, we continue to expect 2024 operating losses to increase meaningfully year-over-year due to our\nongoing product development eìorts and investments to further scale our ecosystem.\nWhile we do not intend to provide any quantitative guidance for 2025 until the fourth quarter call, we expect\ninfrastructure costs will be a signiícant driver of expense growth next year as we recognize depreciation and\noperating costs associated with our expanded infrastructure footprint.\nWe anticipate our full-year 2024 capital expenditures will be in the range of $37-40 billion, updated from our prior\nrange of $35-40 billion. While we continue to reíne our plans for next year, we currently expect signiícant capital\nexpenditures growth in 2025 as we invest to support our artiícial intelligence research and product development\neìorts.\nAbsent any changes to our tax landscape, we expect our full-year 2024 tax rate to be in the mid-teens.\nIn addition, we continue to monitor an active regulatory landscape, including the increasing legal and regulatory\nheadwinds in the EU and the U.S. that could signiícantly impact our business and our ínancial results.\n \nWebcast and Conference Call Information\n \n \nMeta will host a conference call to discuss the results at 2:00 p.m. PT / 5:00 p.m. ET today. The live webcast of\n2\nMeta's earnings conference call can be accessed at the Meta Investor Relations website at investor.fb.com, along\nwith the earnings press release, ínancial tables, and slide presentation. \nFollowing the call, a replay will be available at the same website. Transcripts of conference calls with publishing\nequity research analysts held today will also be posted to the investor.fb.com website.\n \n \nDisclosure Information\n \n \nMeta uses the investor.fb.com and about.fb.com/news/ websites as well as Mark Zuckerberg's Facebook Page\n(facebook.com/zuck), Instagram account (instagram.com/zuck) and Threads proíle (threads.net/zuck) as means\nof disclosing material non-public information and for complying with its disclosure obligations under Regulation FD.\n \n \nAbout Meta\n \n \nMeta builds technologies that help people connect, índ communities, and grow businesses. When Facebook\nlaunched in 2004, it changed the way people connect. Apps like Messenger, Instagram, and WhatsApp further\nempowered billions around the world. Now, Meta is moving beyond 2D screens toward immersive experiences like\naugmented and virtual reality to help build the next evolution in social technology.\n \n \nContacts\n \n \nInvestors:\n \nKenneth Dorell\n \ninvestor@meta.com / investor.fb.com\nPress:\n \nRyan Moore\n \npress@meta.com / about.fb.com/news/\n \n \nForward-Looking Statements\n \n \n3\nThis press release contains forward-looking statements regarding our future business plans and expectations.\nThese forward-looking statements are only predictions and may diìer materially from actual results due to a variety\nof factors including: the impact of macroeconomic conditions on our business and ínancial results, including as a\nresult of geopolitical events; our ability to retain or increase users and engagement levels; our reliance on\nadvertising revenue; our dependency on data signals and mobile operating systems, networks, and standards that\nwe do not control; changes to the content or application of third-party policies that impact our advertising\npractices; risks associated with new products and changes to existing products as well as other new business\ninitiatives, including our artiícial intelligence initiatives and metaverse eìorts; our emphasis on community growth\nand engagement and the user experience over short-term ínancial results; maintaining and enhancing our brand\nand reputation; our ongoing privacy, safety, security, and content review eìorts; competition; risks associated with\ngovernment actions that could restrict access to our products or impair our ability to sell advertising in certain\ncountries; litigation and government inquiries; privacy, legislative, and regulatory concerns or developments; risks\nassociated with acquisitions; security breaches; our ability to manage our scale and geographically-dispersed\noperations; and market conditions or other factors aìecting the payment of dividends. These and other potential\nrisks and uncertainties that could cause actual results to diìer from the results predicted are more fully detailed\nunder the caption \"Risk Factors\" in our Quarterly Report on Form 10-Q íled with the SEC on April 25, 2024, which is\navailable on our Investor Relations website at investor.fb.com and on the SEC website at www.sec.gov. Additional\ninformation will also be set forth in our Quarterly Report on Form 10-Q for the quarter ended June 30, 2024. In\naddition, please note that the date of this press release is July 31, 2024, and any forward-looking statements\ncontained herein are based on assumptions that we believe to be reasonable as of this date. We undertake no\nobligation to update these statements as a result of new information or future events.\nFor a discussion of limitations in the measurement of certain of our community metrics, see the section entitled\n\"Limitations of Key Metrics and Other Data\" in our most recent quarterly or annual report íled with the SEC.\nNon-GAAP Financial Measures\nTo supplement our condensed consolidated ínancial statements, which are prepared and presented in accordance\nwith generally accepted accounting principles in the United States (GAAP), we use the following non-GAAP ínancial\nmeasures: revenue excluding foreign exchange eìect, advertising revenue excluding foreign exchange eìect, and\nfree cash îow. The presentation of these ínancial measures is not intended to be considered in isolation or as a\nsubstitute for, or superior to, ínancial information prepared and presented in accordance with GAAP. Investors are\ncautioned that there are material limitations associated with the use of non-GAAP ínancial measures as an\nanalytical tool. In addition, these measures may be diìerent from non-GAAP ínancial measures used by other\ncompanies, limiting their usefulness for comparison purposes. We compensate for these limitations by providing\nspeciíc information regarding the GAAP amounts excluded from these non-GAAP ínancial measures.\nWe believe these non-GAAP ínancial measures provide investors with useful supplemental information about the\n4\nínancial performance of our business, enable comparison of ínancial results between periods where certain items\nmay vary independent of business performance, and allow for greater transparency with respect to key metrics\nused by management in operating our business.\nOur non-GAAP ínancial measures are adjusted for the following items:\nForeign exchange eìect on revenue. We translated revenue for the three and six months ended June 30, 2024 using\nthe prior year's monthly exchange rates for our settlement or billing currencies other than the U.S. dollar, which we\nbelieve is a useful metric that facilitates comparison to our historical performance.\nPurchases of property and equipment; Principal payments on ínance leases. We subtract both purchases of\nproperty and equipment, net of proceeds and principal payments on ínance leases in our calculation of free cash\nîow because we believe that these two items collectively represent the amount of property and equipment we\nneed to procure to support our business, regardless of whether we procure such property or equipment with a\nínance lease. We believe that this methodology can provide useful supplemental information to help investors\nbetter understand underlying trends in our business. Free cash îow is not intended to represent our residual cash\nîow available for discretionary expenditures.\nFor more information on our non-GAAP ínancial measures and a reconciliation of GAAP to non-GAAP measures,\nplease see the \"Reconciliation of GAAP to Non-GAAP Results\" table in this press release.\n \nMETA PLATFORMS, INC.\nCONDENSED CONSOLIDATED STATEMENTS OF INCOME\n(In millions, except per share amounts)\n(Unaudited)\n \nThree Months Ended June 30,  Six Months Ended June 30,\n \n2024\n \n2023\n \n2024\n \n2023\nRevenue\n$           39,071  \n$           31,999  $           75,527  $           60,645\nCosts and expenses:\n  \n  \n  \n \nCost of revenue\n7,308  \n5,945  \n13,948  \n12,054\nResearch and development\n10,537  \n9,344  \n20,515  \n18,725\nMarketing and sales\n2,721  \n3,154  \n5,285  \n6,198\nGeneral and administrative (1)\n3,658  \n4,164  \n7,114  \n7,049\nTotal costs and expenses\n24,224  \n22,607  \n46,862  \n44,026\nIncome from operations\n14,847  \n9,392  \n28,665  \n16,619\nInterest and other income (expense), net\n259  \n(99)  \n624  \n(19)\nIncome before provision for income taxes\n15,106  \n9,293  \n29,289  \n16,600\nProvision for income taxes\n1,641  \n1,505  \n3,455  \n3,102\nNet income\n$           13,465  \n$              7,788  $           25,834  $           13,498\n5\nEarnings per share:\n  \n  \n  \n \nBasic\n$               5.31  \n$                3.03  $             10.17  $               5.24\nDiluted\n$               5.16  \n$                2.98  $               9.86  $               5.18\nWeighted-average shares used to compute earnings per share:   \n  \n  \n  \n \nBasic\n2,534  \n2,568  \n2,540  \n2,577\nDiluted\n2,610  \n2,612  \n2,619  \n2,604\n \n \n \n \n \n(1) The second quarter 2024 general and administrative expenses include a charge for the recent settlement with the State of Texas. The\nsettlement amount is fully accrued as of June 30, 2024.\n \nMETA PLATFORMS, INC.\nCONDENSED CONSOLIDATED BALANCE SHEETS\n(In millions)\n(Unaudited)\n \nJune 30, 2024\n December 31, 2023\nAssets\n  \n \nCurrent assets:\n  \n \nCash and cash equivalents\n$                  32,045  \n$                  41,862\nMarketable securities\n26,035  \n23,541\nAccounts receivable, net\n14,505  \n16,169\nPrepaid expenses and other current assets                            \n3,846  \n3,793\nTotal current assets\n76,431  \n85,365\nNon-marketable equity securities\n6,207  \n6,141\nProperty and equipment, net\n102,959  \n96,587\nOperating lease right-of-use assets\n14,058  \n13,294\nGoodwill\n20,654  \n20,654\nOther assets\n9,929  \n7,582\nTotal assets\n$                230,238  \n$                229,623\n \n  \n \nLiabilities and stockholders' equity\n  \n \nCurrent liabilities:\n  \n \nAccounts payable\n$                    3,173  \n$                    4,849\nOperating lease liabilities, current\n1,917  \n1,623\nAccrued expenses and other current liabilities                                                 \n21,914  \n25,488\nTotal current liabilities\n27,004  \n31,960\nOperating lease liabilities, non-current\n17,685  \n17,226\nLong-term debt\n18,389  \n18,385\nLong-term income taxes\n7,897  \n7,514\nOther liabilities\n2,500  \n1,370\nTotal liabilities\n73,475  \n76,455\nCommitments and contingencies\n  \n \nStockholders' equity:\n  \n \nCommon stock and additional paid-in capital\n78,270  \n73,253\n6\nAccumulated other comprehensive loss\n(2,695)  \n(2,155)\nRetained earnings\n81,188  \n82,070\nTotal stockholders' equity\n156,763  \n153,168\nTotal liabilities and stockholders' equity\n$                230,238  \n$                229,623\n \nMETA PLATFORMS, INC.\nCONDENSED CONSOLIDATED STATEMENTS OF CASH FLOWS\n(In millions)\n(Unaudited)\n \nThree Months Ended June 30,  Six Months Ended June 30,\n \n2024\n \n2023\n \n2024\n \n2023\nCash flows from operating activities\n  \n  \n  \n \nNet income\n$      13,465  \n$        7,788  \n$      25,834  \n$      13,498\nAdjustments to reconcile net income to net cash provided by operating activities:\n  \n  \n  \n \nDepreciation and amortization\n3,637  \n2,623  \n7,011  \n5,147\nShare-based compensation\n4,616  \n4,060  \n8,178  \n7,111\nDeferred income taxes\n(1,643)  \n(1,137)  \n(2,098)  \n(1,757)\nImpairment charges for facilities consolidation, net\n41  \n232  \n280  \n1,002\nOther\n(6)  \n212  \n(71)  \n204\nChanges in assets and liabilities:\n  \n  \n  \n \nAccounts receivable\n(1,171)  \n(1,424)  \n1,350  \n1,122\nPrepaid expenses and other current assets\n(84)  \n(54)  \n16  \n767\nOther assets\n54  \n37  \n(41)  \n67\nAccounts payable\n250  \n(51)  \n(862)  \n(1,155)\nAccrued expenses and other current liabilities\n(497)  \n5,174  \n(1,771)  \n5,268\nOther liabilities\n708  \n(151)  \n790  \n33\nNet cash provided by operating activities\n19,370  \n17,309  \n38,616  \n31,307\nCash flows from investing activities\n  \n  \n  \n \nPurchases of property and equipment, net\n(8,173)  \n(6,134)  \n(14,573)  \n(12,957)\nPurchases of marketable debt securities\n(3,289)  \n(717)  \n(10,176)  \n(803)\nSales and maturities of marketable debt securities\n3,233  \n1,816  \n7,858  \n2,351\nAcquisitions of businesses and intangible assets\n(57)  \n(83)  \n(129)  \n(527)\nOther investing activities\n(12)  \n(85)  \n(12)  \n(10)\nNet cash used in investing activities\n(8,298)  \n(5,203)  \n(17,032)  \n(11,946)\nCash flows from financing activities\n  \n  \n  \n \nTaxes paid related to net share settlement of equity awards\n(3,208)  \n(1,692)  \n(6,370)  \n(2,701)\nRepurchases of Class A common stock\n(6,299)  \n(898)  \n(21,307)  \n(10,263)\nDividend payments\n(1,266)  \n—  \n(2,539)  \n—\nProceeds from issuance of long-term debt, net\n—  \n8,455  \n—  \n8,455\nPrincipal payments on finance leases\n(299)  \n(220)  \n(614)  \n(484)\nOther financing activities\n(106)  \n(353)  \n(115)  \n(231)\nNet cash provided by (used in) financing activities\n(11,178)  \n5,292  \n(30,945)  \n(5,224)\nEffect of exchange rate changes on cash, cash equivalents, and restricted cash\n(152)  \n(14)  \n(440)  \n71\nNet increase (decrease) in cash, cash equivalents, and restricted cash\n(258)  \n17,384  \n(9,801)  \n14,208\nCash, cash equivalents, and restricted cash at beginning of the period\n33,284  \n12,420  \n42,827  \n15,596\nCash, cash equivalents, and restricted cash at end of the period\n$      33,026  \n$      29,804  \n$      33,026  \n$      29,804\n7\n \n  \n  \n  \n \nReconciliation of cash, cash equivalents, and restricted cash to the\n \ncondensed consolidated balance sheets\n  \n  \n  \n \nCash and cash equivalents\n$      32,045  \n$      28,785  \n$      32,045  \n$      28,785\nRestricted cash, included in prepaid expenses and other current assets\n100  \n165  \n100  \n165\nRestricted cash, included in other assets\n881  \n854  \n881  \n854\nTotal cash, cash equivalents, and restricted cash\n$      33,026  \n$      29,804  \n$      33,026  \n$      29,804\n \nMETA PLATFORMS, INC.\nCONDENSED CONSOLIDATED STATEMENTS OF CASH FLOWS\n(In millions)\n(Unaudited)\n \nThree Months Ended June 30,  Six Months Ended June 30,\n \n2024\n \n2023\n \n2024\n \n2023\nSupplemental cash flow data\n  \n  \n  \n \nCash paid for income taxes, net\n$        5,929\n \n$        1,102  \n$        6,559  \n$        1,507\nCash paid for interest, net of amounts capitalized\n$           124  \n$             —  \n$           245  \n$           182\nNon-cash investing and financing activities:\n  \n  \n  \n \nProperty and equipment in accounts payable and accrued expenses and other\n \ncurrent liabilities\n$        3,229\n \n$        3,845  \n$        3,229  \n$        3,845\nAcquisition of businesses and intangible assets in accrued expenses and\n \nother current liabilities and other liabilities\n$           267  \n$           217  \n$           267  \n$           217\n \nSegment Results\nWe report our ínancial results for our two reportable segments: Family of Apps (FoA) and Reality Labs (RL). FoA\nincludes Facebook, Instagram, Messenger, WhatsApp, and other services. RL includes our virtual, augmented, and\nmixed reality related consumer hardware, software, and content.\nThe following table presents our segment information of revenue and income (loss) from operations:\nSegment Information\n(In millions)\n(Unaudited)\n \nThree Months Ended June 30,   Six Months Ended June 30,\n \n2024\n  \n2023\n  \n2024\n  \n2023\nRevenue:\n   \n   \n   \n \n8\nAdvertising\n$      38,329   \n$      31,498   \n$     73,965   \n$     59,599\nOther revenue\n389   \n225   \n769   \n430\nFamily of Apps\n38,718   \n31,723   \n74,734   \n60,029\nReality Labs\n353   \n276   \n793   \n616\nTotal revenue\n$      39,071   \n$      31,999   \n$     75,527   \n$     60,645\n \n   \n   \n   \n \nIncome (loss) from operations:\n   \n   \n   \n \nFamily of Apps\n$      19,335   \n$      13,131   \n$     36,999   \n$     24,351\nReality Labs\n(4,488)   \n(3,739)   \n(8,334)   \n(7,732)\nTotal income from operations                                           \n$      14,847   \n$        9,392   \n$     28,665   \n$     16,619\n \nReconciliation of GAAP to Non-GAAP Results\n(In millions, except percentages)\n(Unaudited)\n \nThree Months Ended June 30,  Six Months Ended June 30,\n \n2024\n \n2023\n \n2024\n \n2023\nGAAP revenue\n$      39,071  \n$      31,999  \n$      75,527  \n$       60,645\nForeign exchange effect on 2024 revenue using 2023 rates\n371  \n  \n265  \n \nRevenue excluding foreign exchange effect\n$      39,442  \n  \n$      75,792  \n \nGAAP revenue year-over-year change %\n22 %\n \n  \n25 %  \n \nRevenue excluding foreign exchange effect year-over-year change %\n23 %\n \n  \n25 %  \n \nGAAP advertising revenue\n$      38,329  \n$      31,498  \n$      73,965  \n$       59,599\nForeign exchange effect on 2024 advertising revenue using 2023 rates             \n367  \n  \n261  \n \nAdvertising revenue excluding foreign exchange effect\n$      38,696  \n  \n$      74,226  \n \nGAAP advertising revenue year-over-year change %\n22 %\n \n  \n24 %  \n \nAdvertising revenue excluding foreign exchange effect year-over-year\n \nchange %\n23 %\n \n  \n25 %  \n \n \n  \n  \n  \n \nNet cash provided by operating activities\n$      19,370  \n$      17,309  \n$      38,616  \n$       31,307\nPurchases of property and equipment, net\n(8,173)  \n(6,134)  \n(14,573)  \n(12,957)\nPrincipal payments on finance leases\n(299)  \n(220)  \n(614)  \n(484)\nFree cash flow\n$      10,898  \n$      10,955  \n$      23,429  \n$       17,866\n \nView original content to download multimedia:https://www.prnewswire.com/news-releases/meta-reports-\nsecond-quarter-2024-results-302211512.html\nSOURCE Meta\n9\n",
            "text/plain": [
              "<IPython.core.display.Markdown object>"
            ]
          },
          "metadata": {},
          "output_type": "display_data"
        }
      ],
      "source": [
        "display(Markdown(str(document_content)))"
      ]
    },
    {
      "cell_type": "code",
      "execution_count": null,
      "metadata": {
        "colab": {
          "base_uri": "https://localhost:8080/"
        },
        "id": "0zGC-MXUUw-n",
        "outputId": "b4d03814-f3c9-4c53-fa9b-a09c65596f0f"
      },
      "outputs": [
        {
          "output_type": "execute_result",
          "data": {
            "text/plain": [
              "20345"
            ]
          },
          "metadata": {},
          "execution_count": 12
        }
      ],
      "source": [
        "len(document_content)"
      ]
    },
    {
      "cell_type": "code",
      "execution_count": null,
      "metadata": {
        "colab": {
          "base_uri": "https://localhost:8080/",
          "height": 127
        },
        "id": "D6SnJFiVrIZ_",
        "outputId": "8e81a3de-5a15-4507-ecad-cc0a3a55d9b8"
      },
      "outputs": [
        {
          "output_type": "execute_result",
          "data": {
            "text/plain": [
              "'NEWS RELEASE\\nMeta Reports Second Quarter 2024 Results\\nMENLO PARK, Calif., July 31, 2024 /PRNewswire/ -- Meta Platforms, Inc. (Nasdaq: META) today reported ínancial\\nresults for the quarter ended June\\xa030, 2024.\\n\"We had a strong quarter, and Meta AI is on track to be the most used AI assistant in the world by the end of the\\nyear,\" said Mark Zuckerberg, Meta founder and CEO. \"We\\'ve released the írst frontier-level open source AI model,\\nwe continue to see\\xa0good traction with our Ray-Ban Meta AI glasses, and we\\'re driving good growth across our\\napps.\"\\n \\n \\n\\xa0Second Quarter 2024\\xa0Financial Highlights\\n \\nThree Months Ended June 30,\\n \\n % Change\\nIn millions, except percentages and per share amounts               \\n2024\\n \\n2023\\n \\nRevenue\\n$                  39,071  \\n$                  31,999  \\n22 %\\nCosts and expenses\\n24,224  \\n22,607  \\n7 %\\nIncome from operations\\n$                  14,847  \\n$                    9,392  \\n58 %\\nOperating margin\\n38 %  \\n29 %  \\n \\nProvision for income taxes\\n$                    1,'"
            ],
            "application/vnd.google.colaboratory.intrinsic+json": {
              "type": "string"
            }
          },
          "metadata": {},
          "execution_count": 13
        }
      ],
      "source": [
        "document_content[:1000]"
      ]
    },
    {
      "cell_type": "code",
      "execution_count": null,
      "metadata": {
        "id": "qCJ16dRYpltB"
      },
      "outputs": [],
      "source": [
        "# 8191 - embedding model\n",
        "# 1,28,000 - gpt-4o-mini"
      ]
    },
    {
      "cell_type": "markdown",
      "metadata": {
        "id": "kY2WcC-hR6ZE"
      },
      "source": [
        "# Document Table Processing"
      ]
    },
    {
      "cell_type": "code",
      "execution_count": null,
      "metadata": {
        "id": "eaXxUfl8R8SW"
      },
      "outputs": [],
      "source": [
        "import openai\n",
        "from openai import OpenAI\n",
        "client = OpenAI()\n",
        "\n",
        "def table_chunking(table_content, document_context):\n",
        "    prompt = f\"\"\"\n",
        "      You are a table restoration and summarization assistant.\n",
        "\n",
        "      You will be given:\n",
        "      - An HTML table chunk and\n",
        "      - Its context from the original document.\n",
        "\n",
        "      Your task:\n",
        "      1. Restore missing column headers using the document context.\n",
        "      2. Correct any corrupted values from the context.\n",
        "      3. Return the table in markdown format.\n",
        "      4. Describe the table briefly and assign it a semantic title.\n",
        "      5. If the column headers are split across multiple rows, flatten them into single-line column names\n",
        "        For example, if the table has headers like:\n",
        "\n",
        "      |                     | Three Months Ended June 30 | Six Months Ended June 30 |\n",
        "      |---------------------|----------------------------|--------------------------|\n",
        "      |                     | 2024 |   2023              | 2024 | 2023              |\n",
        "\n",
        "      Then flatten it into:\n",
        "\n",
        "      | Three Months Ended June 30 2024 | Three Months Ended June 30 2023 | Six Months Ended June 30 2024 | Six Months Ended June 30 2023 |\n",
        "\n",
        "\n",
        "      Original Document Context:\n",
        "      {document_context}\n",
        "\n",
        "      HTML Table Chunk:\n",
        "      {table_content}\n",
        "\n",
        "      Return your answer strictly in the following format:\n",
        "\n",
        "      TableDescription: <Brief natural language description of what the table contains>\n",
        "      TableHeader: <Semantic title for the table, e.g., \"Quarterly Financial Summary\">\n",
        "      TableMarkdown: <Markdown formatted table>\n",
        "\n",
        "      Answer:\n",
        "      \"\"\"\n",
        "\n",
        "    response = client.chat.completions.create(\n",
        "        model=\"gpt-4o-mini\",\n",
        "        messages=[\n",
        "            {\"role\": \"system\", \"content\": \"You are a helpful assistant that describes tables and formats them in markdown.\"},\n",
        "            {\"role\": \"user\", \"content\": prompt}\n",
        "        ]\n",
        "    )\n",
        "\n",
        "    return response.choices[0].message.content"
      ]
    },
    {
      "cell_type": "code",
      "execution_count": null,
      "metadata": {
        "id": "-BxeplVCUlvD",
        "colab": {
          "base_uri": "https://localhost:8080/"
        },
        "outputId": "dbb6df3c-7226-4a75-abc5-6cc5615ee18e"
      },
      "outputs": [
        {
          "output_type": "stream",
          "name": "stdout",
          "text": [
            "----------------------NEW_TABLE----------------------\n",
            "Page no: 5\n",
            "TableDescription: This table summarizes the condensed consolidated statements of income for Meta Platforms, Inc. for the three and six months ended June 30, 2024 and 2023, including revenues, costs and expenses, income from operations, and related financial figures in millions of dollars.\n",
            "\n",
            "TableHeader: Quarterly Financial Summary\n",
            "\n",
            "TableMarkdown:\n",
            "```markdown\n",
            "| Revenue                          | 2024       | 2023       | 2024       | 2023       |\n",
            "|----------------------------------|------------|------------|------------|------------|\n",
            "| Revenue                          | $39,071   | $31,999   | $75,527   | $60,645   |\n",
            "| Costs and expenses:              |            |            |            |            |\n",
            "| Cost of revenue                  | $7,308    | $5,945    | $13,948   | $12,054   |\n",
            "| Research and development          | $10,537   | $9,344    | $20,515   | $18,725   |\n",
            "| Marketing and sales              | $2,721    | $3,154    | $5,285    | $6,198    |\n",
            "| General and administrative (1)    | $3,658    | $4,164    | $7,114    | $7,049    |\n",
            "| Total costs and expenses         | $24,224   | $22,607   | $46,862   | $44,026   |\n",
            "| Income from operations            | $14,847   | $9,392    | $28,665   | $16,619   |\n",
            "| Interest and other income (expense), net | $259 | $(99)   | $624      | $(19)     |\n",
            "| Income before provision for income taxes | $15,106 | $9,293 | $29,289   | $16,600   |\n",
            "```\n",
            "TableDescription: This table contains the financial metrics related to provision for income taxes and net income for Meta Platforms, Inc. for the second quarter of 2024 and 2023, as well as the corresponding figures for the six months ended June 30, 2024 and 2023. It highlights the significant increases in both metrics over the year.  \n",
            "TableHeader: \"Second Quarter Financial Metrics for Income Taxes and Net Income\"  \n",
            "TableMarkdown:  \n",
            "```markdown\n",
            "| Financial Metric                  | Three Months Ended June 30, 2024 | Three Months Ended June 30, 2023 | Six Months Ended June 30, 2024 | Six Months Ended June 30, 2023 |\n",
            "|-----------------------------------|-----------------------------------|-----------------------------------|--------------------------------|--------------------------------|\n",
            "| Provision for income taxes         | 1,641                             | 1,505                             | 3,455                          | 3,102                          |\n",
            "| Net income                        | 13,465                            | 7,788                             | 25,834                         | 13,498                         |\n",
            "```\n",
            "----------------------NEW_TABLE----------------------\n",
            "Page no: 6\n",
            "TableDescription: This table presents the condensed consolidated balance sheets of Meta Platforms, Inc. as of June 30, 2024, and December 31, 2023, detailing their assets, liabilities, and stockholders' equity in millions of dollars.\n",
            "\n",
            "TableHeader: \"Condensed Consolidated Balance Sheets as of June 30, 2024\"\n",
            "\n",
            "TableMarkdown:\n",
            "```markdown\n",
            "| Category                                 |                June 30, 2024 |              December 31, 2023 |\n",
            "|------------------------------------------|-------------------------------|---------------------------------|\n",
            "| Assets                                   |                               |                                 |\n",
            "| Current assets:                         |                               |                                 |\n",
            "| Cash and cash equivalents                | $                         32,045 | $                         41,862 |\n",
            "| Marketable securities                    | $                         26,035 | $                         23,541 |\n",
            "| Accounts receivable, net                 | $                         14,505 | $                         16,169 |\n",
            "| Prepaid expenses and other current assets | $                          3,846 | $                          3,793 |\n",
            "| Total current assets                     | $                         76,431 | $                         85,365 |\n",
            "| Non-marketable equity securities         | $                          6,207 | $                          6,141 |\n",
            "| Property and equipment, net              | $                        102,959 | $                         96,587 |\n",
            "| Operating lease right-of-use assets      | $                         14,058 | $                         13,294 |\n",
            "| Goodwill                                 | $                         20,654 | $                         20,654 |\n",
            "| Other assets                             | $                          9,929 | $                          7,582 |\n",
            "| Total assets                             | $                        230,238 | $                       229,623 |\n",
            "| Liabilities and stockholders’ equity     |                               |                                 |\n",
            "```\n",
            "TableDescription: This table summarizes the liabilities and stockholders' equity for Meta Platforms, Inc. as of June 30, 2024, detailing current liabilities, non-current liabilities, and stockholders' equity amounts compared to the previous period ending December 31, 2023.\n",
            "\n",
            "TableHeader: Condensed Consolidated Liabilities and Stockholders' Equity\n",
            "\n",
            "TableMarkdown: \n",
            "```markdown\n",
            "| Current Liabilities                             | June 30, 2024 | December 31, 2023 |\n",
            "|------------------------------------------------|----------------|--------------------|\n",
            "| Accounts payable                                | $3,173         | $4,849             |\n",
            "| Operating lease liabilities, current            | $1,917         | $1,623             |\n",
            "| Accrued expenses and other current liabilities   | $21,914        | $25,488            |\n",
            "| Total current liabilities                        | $27,004        | $31,960            |\n",
            "| Operating lease liabilities, non-current        | $17,685        | $17,226            |\n",
            "| Long-term debt                                  | $18,389        | $18,385            |\n",
            "| Long-term income taxes                          | $7,897         | $7,514             |\n",
            "| Other liabilities                               | $2,500         | $1,370             |\n",
            "| Total liabilities                               | $73,475        | $76,455            |\n",
            "| Commitments and contingencies                   |                |                    |\n",
            "| Stockholders’ equity:                          | $78,270        | $73,253            |\n",
            "```\n",
            "----------------------NEW_TABLE----------------------\n",
            "Page no: 7\n",
            "TableDescription: This table presents the cash flows from operating activities of Meta Platforms, Inc. for the quarters ending on June 30, 2024, and June 30, 2023. It includes net income and various adjustments that reconcile net income to net cash provided by operating activities.\n",
            "\n",
            "TableHeader: Cash Flow from Operating Activities for the Quarters Ended June 30\n",
            "\n",
            "TableMarkdown: \n",
            "```markdown\n",
            "| Cash flows from operating activities                  | Three Months Ended June 30 2024 | Three Months Ended June 30 2023 | Six Months Ended June 30 2024 | Six Months Ended June 30 2023 |\n",
            "|-------------------------------------------------------|----------------------------------|----------------------------------|--------------------------------|--------------------------------|\n",
            "| Net income                                           | $13,465                          | $7,788                           | $25,834                        | $13,498                        |\n",
            "| Adjustments to reconcile net income to net cash provided by operating activities: |                                  |                                  |                                |                                |\n",
            "| Depreciation and amortization                         | $3,637                           | $2,623                           | $7,011                         | $5,147                         |\n",
            "| Share-based compensation                               | $4,616                           | $4,060                           | $8,178                         | $7,111                         |\n",
            "| Deferred income taxes                                 | $(1,643)                         | $(1,137)                         | $(2,098)                       | $(1,757)                       |\n",
            "| Impairment charges for facilities consolidation, net  | $41                              | $232                             | $280                           | $1,002                         |\n",
            "| Other                                                | $(6)                             | $212                             | $(71)                          | $204                           |\n",
            "```\n",
            "TableDescription: This table displays the changes in assets and liabilities, detailing various line items such as accounts receivable, prepaid expenses, accounts payable, accrued expenses, and net cash provided by operating activities for two periods: the three months and six months ended June 30 for the years 2024 and 2023. \n",
            "\n",
            "TableHeader: Changes in Assets and Liabilities for Q2 2024\n",
            "\n",
            "TableMarkdown: \n",
            "```markdown\n",
            "| Description                                        | Three Months Ended June 30 2024 | Three Months Ended June 30 2023 | Six Months Ended June 30 2024 | Six Months Ended June 30 2023 |\n",
            "|----------------------------------------------------|----------------------------------|----------------------------------|--------------------------------|--------------------------------|\n",
            "| Accounts receivable                                 | (1,171)                          | (1,424)                          | 1,350                          | 1,122                          |\n",
            "| Prepaid expenses and other current assets          | (84)                             | (54)                             | 16                             | 76                             |\n",
            "| Accounts payable                                    | 250                              | (51)                             | (862)                          | (1,158)                        |\n",
            "| Accrued expenses and other current liabilities      | (497)                            | 5,174                            | (1,771)                        | 5,26                           |\n",
            "| Other liabilities                                   | 708                              | (151)                            | 790                            |                                |\n",
            "| Net cash provided by operating activities           | 19,370                           | 17,309                           | 38,616                         | 31,30                          |\n",
            "| Purchases of property and equipment, net           | (8,173)                          | (6,134)                          | (14,573)                       | (12,957)                       |\n",
            "```\n",
            "TableDescription: This table provides a summary of cash flows related to investing and financing activities for Meta Platforms, Inc. for two periods, highlighting the purchases and sales of marketable securities, acquisitions, and related net cash used in these activities.\n",
            "TableHeader: \"Cash Flow Summary from Investing and Financing Activities\"\n",
            "TableMarkdown: \n",
            "```markdown\n",
            "| Activity                                                       | Three Months Ended June 30 2024 | Three Months Ended June 30 2023 | Six Months Ended June 30 2024 | Six Months Ended June 30 2023 |\n",
            "|---------------------------------------------------------------|----------------------------------|----------------------------------|--------------------------------|--------------------------------|\n",
            "| Purchases of marketable debt securities                        | $(3,289)                         | $(717)                           | $(10,176)                      | $(803)                         |\n",
            "| Sales and maturities of marketable debt securities             | $3,233                           | $1,816                           | $7,858                         | $2,351                         |\n",
            "| Acquisitions of businesses and intangible assets               | $(57)                            | $(83)                            | $(129)                         | $(527)                         |\n",
            "| Other investing activities                                      | $(12)                            | $(85)                            | $(12)                          | $(10)                          |\n",
            "| Net cash used in investing activities                           | $(8,298)                         | $(5,203)                         | $(17,032)                      | $(11,946)                     |\n",
            "| Taxes paid related to net share settlement of equity awards    | $(3,208)                         | $(1,692)                         | $(6,370)                       | $(2,701)                      |\n",
            "```\n",
            "TableDescription: This table summarizes the cash flows associated with financing activities for Meta Platforms, Inc. during two time periods: the three and six months ended June 30, 2024, and June 30, 2023.\n",
            "\n",
            "TableHeader: Financing Activities Cash Flow Summary\n",
            "\n",
            "TableMarkdown:\n",
            "```markdown\n",
            "| Financing Activity                                      | Three Months Ended June 30 2024 | Three Months Ended June 30 2023 | Six Months Ended June 30 2024 | Six Months Ended June 30 2023 |\n",
            "|-------------------------------------------------------|----------------------------------|----------------------------------|--------------------------------|--------------------------------|\n",
            "| Repurchases of Class A common stock                   | $(6,299)                         | $(898)                           | $(21,307)                      | $(10,263)                     |\n",
            "| Dividend payments                                      | $(1,266)                         | $—                               | $(2,539)                       | $—                             |\n",
            "| Proceeds from issuance of long-term debt, net         | $—                                | $8,455                           | $—                             | $8,455                         |\n",
            "| Principal payments on finance leases                   | $(299)                           | $(220)                          | $(614)                         | $(484)                        |\n",
            "| Other financing activities                              | $(106)                           | $(353)                          | $(115)                         | $(231)                        |\n",
            "| Net cash provided by (used in) financing activities    | $(11,178)                        | $5,292                          | $(30,945)                      | $(5,224)                      |\n",
            "| Effect of exchange rate changes on cash, cash equivalents, and restricted cash | $(152)                           | $(14)                           | $(440)                         | $71                           |\n",
            "```\n",
            "TableDescription: This table shows the net increase or decrease in cash, cash equivalents, and restricted cash during the specified periods, alongside the cash, cash equivalents, and restricted cash at the beginning of the period for the three and six months ended June 30, 2024, and 2023.\n",
            "\n",
            "TableHeader: \"Condensed Consolidated Statements of Cash Flows - Cash Flow Summary\"\n",
            "\n",
            "TableMarkdown:\n",
            "```markdown\n",
            "| Description                                                      | Three Months Ended June 30 2024 | Three Months Ended June 30 2023 | Six Months Ended June 30 2024 | Six Months Ended June 30 2023 |\n",
            "|------------------------------------------------------------------|----------------------------------|----------------------------------|--------------------------------|--------------------------------|\n",
            "| Net increase (decrease) in cash, cash equivalents, and restricted cash | (258)                            | 17,384                           | (9,801)                        | 14,208                         |\n",
            "| Cash, cash equivalents, and restricted cash at beginning of the period | 33,284                          | 12,420                           | 42,827                         | 15,596                         |\n",
            "```\n",
            "----------------------NEW_TABLE----------------------\n",
            "Page no: 8\n",
            "TableDescription: This table summarizes supplemental cash flow data for Meta Platforms, Inc. for the years 2024 and 2023, including cash paid for income taxes and interest, as well as non-cash investing and financing activities related to property and equipment and business acquisitions.\n",
            "\n",
            "TableHeader: Supplemental Cash Flow Data\n",
            "\n",
            "TableMarkdown:\n",
            "```markdown\n",
            "| Description                                                                           | Three Months Ended June 30 2024 | Three Months Ended June 30 2023 | Six Months Ended June 30 2024 | Six Months Ended June 30 2023 |\n",
            "|---------------------------------------------------------------------------------------|----------------------------------|----------------------------------|--------------------------------|--------------------------------|\n",
            "| Cash paid for income taxes, net                                                       | $5,929                           | $1,102                           | $6,559                         | $1,507                         |\n",
            "| Cash paid for interest, net of amounts capitalized                                     | $124                             | $0                               | $245                           | $182                           |\n",
            "| Non-cash investing and financing activities:                                           |                                  |                                  |                                |                                |\n",
            "| Property and equipment in accounts payable and accrued expenses and other current liabilities | $3,229                           | $3,845                           | $3,229                         | $3,845                         |\n",
            "| Acquisition of businesses and intangible assets in accrued expenses and other liabilities | $267                             | $217                             | $267                           | $217                           |\n",
            "```\n",
            "----------------------NEW_TABLE----------------------\n",
            "Page no: 9\n",
            "TableDescription: The table summarizes Meta's GAAP revenue, foreign exchange effects, and revenue changes for the years 2024 and 2023, including both total revenue and advertising revenue figures, along with year-over-year change percentages.\n",
            "\n",
            "TableHeader: Revenue and Changes Summary for Second Quarter 2024\n",
            "\n",
            "TableMarkdown: \n",
            "```markdown\n",
            "| Category                                                   | 2024       | 2023       | 2024       | 2023       |\n",
            "|-----------------------------------------------------------|------------|------------|------------|------------|\n",
            "| GAAP revenue                                              | $39,071    | $31,999    | $75,527    | $60,645    |\n",
            "| Foreign exchange effect on 2024 revenue using 2023 rates  | 371        |            | 265        |            |\n",
            "| Revenue excluding foreign exchange effect                  | $39,442    |            | $75,792    |            |\n",
            "| GAAP revenue year-over-year change %                       | 22%        |            | 25%        |            |\n",
            "| Revenue excluding foreign exchange effect year-over-year change % | 23%        |            | 25%        |            |\n",
            "| GAAP advertising revenue                                   | $38,329    | $31,498    | $73,965    | $59,599    |\n",
            "| Foreign exchange effect on 2024 advertising revenue using 2023 rates | 367        |            | 261        |            |\n",
            "```\n",
            "TableDescription: This table presents key financial metrics for Meta Platforms, Inc., comparing GAAP and non-GAAP advertising revenue, operating activities, purchases of property and equipment, and finance lease payments for two time periods: the most recent quarters and the corresponding prior year quarters.\n",
            "\n",
            "TableHeader: Advertising Revenue and Cash Flow Metrics\n",
            "\n",
            "TableMarkdown: \n",
            "```markdown\n",
            "| Metric                                                              | Q2 2024        | Q2 2023     | Six Months 2024 | Six Months 2023 |\n",
            "|---------------------------------------------------------------------|----------------|-------------|------------------|------------------|\n",
            "| Advertising revenue excluding foreign exchange effect                 | $38,696        | -           | $74,226          | -                |\n",
            "| GAAP advertising revenue year-over-year change %                     | 22%            | -           | 24%              | -                |\n",
            "| Advertising revenue excluding foreign exchange effect year-over-year change % | 23%            | -           | 25%              | -                |\n",
            "| Net cash provided by operating activities                             | $19,370        | $17,309     | $38,616          | $31,307          |\n",
            "| Purchases of property and equipment, net                             | $(8,173)       | $(6,134)    | $(14,573)        | $(12,957)        |\n",
            "| Principal payments on finance leases                                  | $(299)         | $(220)      | $(614)           | $(484)           |\n",
            "| Free cash flow                                                       | $10,898        | $10,955     | $23,429          | $17,866          |\n",
            "```\n"
          ]
        }
      ],
      "source": [
        "from IPython.display import Markdown, display, HTML\n",
        "\n",
        "c=0\n",
        "for element in elements:\n",
        "  if element.to_dict()['type']==\"Table\":\n",
        "    # c+=1\n",
        "    # if c>5:\n",
        "    #   break\n",
        "    if \"is_continuation\" in element.to_dict()[\"metadata\"]:\n",
        "      html_table = element.metadata.text_as_html\n",
        "      result = table_chunking(html_table,document_content)\n",
        "      print(result)\n",
        "      element.text = result\n",
        "    else:\n",
        "      print(\"----------------------NEW_TABLE----------------------\")\n",
        "      page_no = element.to_dict()[\"metadata\"][\"page_number\"]\n",
        "      print(\"Page no:\", page_no)\n",
        "      html_table = element.metadata.text_as_html\n",
        "      result = table_chunking(html_table,document_content)\n",
        "      element.text = result\n",
        "      print(result)"
      ]
    },
    {
      "cell_type": "markdown",
      "metadata": {
        "id": "408jLtwQU1pt"
      },
      "source": [
        "# Embedding"
      ]
    },
    {
      "cell_type": "code",
      "execution_count": null,
      "metadata": {
        "id": "ilfQoet1VA6X"
      },
      "outputs": [],
      "source": [
        "from unstructured.embed.openai import OpenAIEmbeddingConfig, OpenAIEmbeddingEncoder\n",
        "\n",
        "embedding_encoder = OpenAIEmbeddingEncoder(\n",
        "    config=OpenAIEmbeddingConfig(\n",
        "      model_name=\"text-embedding-3-small\",\n",
        "      api_key = OPENAI_API_KEY\n",
        "    )\n",
        ")\n",
        "elements = embedding_encoder.embed_documents(\n",
        "    elements=elements\n",
        ")"
      ]
    },
    {
      "cell_type": "markdown",
      "metadata": {
        "id": "TMVFTNB7VMCQ"
      },
      "source": [
        "# Qdrant"
      ]
    },
    {
      "cell_type": "code",
      "source": [
        "from qdrant_client.models import PointStruct\n",
        "import uuid\n",
        "\n",
        "points = []\n",
        "\n",
        "for idx, element in enumerate(elements):\n",
        "    vector = element.embeddings\n",
        "    if vector is None:\n",
        "        continue  # Skip unembedded\n",
        "\n",
        "    point = PointStruct(\n",
        "        id=str(uuid.uuid4()),\n",
        "        vector=vector,\n",
        "        payload={\n",
        "            \"text\": element.text,\n",
        "            \"metadata\": element.metadata.to_dict(),\n",
        "        }\n",
        "    )\n",
        "    points.append(point)"
      ],
      "metadata": {
        "id": "Cb1hZQTafdX8"
      },
      "execution_count": null,
      "outputs": []
    },
    {
      "cell_type": "code",
      "execution_count": null,
      "metadata": {
        "id": "i9xHXd14VO7E",
        "colab": {
          "base_uri": "https://localhost:8080/"
        },
        "outputId": "a9cb7e4f-af9e-4e00-8f6f-9b9a55216d80"
      },
      "outputs": [
        {
          "output_type": "stream",
          "name": "stdout",
          "text": [
            "collections=[CollectionDescription(name='meta_report')]\n"
          ]
        }
      ],
      "source": [
        "from qdrant_client import QdrantClient\n",
        "\n",
        "qdrant_cloud_key = userdata.get('QDRANT_CLOUD_KEY')\n",
        "\n",
        "client = QdrantClient(\n",
        "    url=\"https://01f14d7a-9e05-4804-bfd3-a69b4c3a97da.us-west-1-0.aws.cloud.qdrant.io:6333\",\n",
        "    api_key=qdrant_cloud_key,\n",
        ")\n",
        "\n",
        "print(client.get_collections())"
      ]
    },
    {
      "cell_type": "code",
      "execution_count": null,
      "metadata": {
        "id": "PQL2sIyrbeto",
        "colab": {
          "base_uri": "https://localhost:8080/"
        },
        "outputId": "369a1630-4c7c-45fd-ab77-447206e55098"
      },
      "outputs": [
        {
          "output_type": "stream",
          "name": "stderr",
          "text": [
            "/tmp/ipython-input-24-2263194056.py:6: DeprecationWarning: `recreate_collection` method is deprecated and will be removed in the future. Use `collection_exists` to check collection existence and `create_collection` instead.\n",
            "  client.recreate_collection(\n"
          ]
        }
      ],
      "source": [
        "from qdrant_client.models import VectorParams, Distance\n",
        "\n",
        "collection_name = \"meta_report_tables\"\n",
        "\n",
        "if collection_name not in [col.name for col in client.get_collections().collections]:\n",
        "    client.recreate_collection(\n",
        "        collection_name=collection_name,\n",
        "        vectors_config=VectorParams(size=len(points[0].vector), distance=Distance.COSINE)\n",
        "    )"
      ]
    },
    {
      "cell_type": "code",
      "source": [
        "client.upsert(\n",
        "    collection_name=collection_name,\n",
        "    points=points\n",
        ")"
      ],
      "metadata": {
        "colab": {
          "base_uri": "https://localhost:8080/"
        },
        "id": "UR_xqxHQfwnQ",
        "outputId": "fff3ba70-e3a0-4585-bad7-bfda7f82b4f7"
      },
      "execution_count": null,
      "outputs": [
        {
          "output_type": "execute_result",
          "data": {
            "text/plain": [
              "UpdateResult(operation_id=0, status=<UpdateStatus.COMPLETED: 'completed'>)"
            ]
          },
          "metadata": {},
          "execution_count": 25
        }
      ]
    },
    {
      "cell_type": "markdown",
      "source": [
        "# RAG Pipeline"
      ],
      "metadata": {
        "id": "vtRykKc3kLzq"
      }
    },
    {
      "cell_type": "markdown",
      "source": [
        "## Retreiver"
      ],
      "metadata": {
        "id": "U5I4Yp8lf0BO"
      }
    },
    {
      "cell_type": "code",
      "source": [
        "from langchain.vectorstores import Qdrant\n",
        "from langchain.embeddings.openai import OpenAIEmbeddings  # or any embedding model you're using\n",
        "\n",
        "# Optional: if you already have embeddings, this just helps for retriever\n",
        "embedding_function = OpenAIEmbeddings(model=\"text-embedding-3-small\")\n",
        "\n",
        "# Wrap Qdrant client with LangChain's Qdrant vector store\n",
        "vecdb = Qdrant(\n",
        "    client=client,\n",
        "    collection_name=collection_name,\n",
        "    embeddings=embedding_function,\n",
        "    content_payload_key=\"text\"\n",
        ")"
      ],
      "metadata": {
        "colab": {
          "base_uri": "https://localhost:8080/"
        },
        "id": "lqcjtVYQgKgn",
        "outputId": "462cb27a-ecad-4b24-8a5f-0add692781b0"
      },
      "execution_count": 34,
      "outputs": [
        {
          "output_type": "stream",
          "name": "stderr",
          "text": [
            "/tmp/ipython-input-34-339356876.py:5: LangChainDeprecationWarning: The class `OpenAIEmbeddings` was deprecated in LangChain 0.0.9 and will be removed in 1.0. An updated version of the class exists in the :class:`~langchain-openai package and should be used instead. To use it run `pip install -U :class:`~langchain-openai` and import as `from :class:`~langchain_openai import OpenAIEmbeddings``.\n",
            "  embedding_function = OpenAIEmbeddings(model=\"text-embedding-3-small\")\n",
            "/tmp/ipython-input-34-339356876.py:8: LangChainDeprecationWarning: The class `Qdrant` was deprecated in LangChain 0.0.37 and will be removed in 1.0. An updated version of the class exists in the :class:`~langchain-qdrant package and should be used instead. To use it run `pip install -U :class:`~langchain-qdrant` and import as `from :class:`~langchain_qdrant import Qdrant``.\n",
            "  vecdb = Qdrant(\n"
          ]
        }
      ]
    },
    {
      "cell_type": "code",
      "source": [
        "# At the end of 2023, what was the value of Meta's Goodwill assets?\n",
        "results = vecdb.similarity_search(\"what is the 2024 GAAP advertising Revenue in the three months \\\n",
        "     ended June 30th? What about net cash by operating activies\", k=5)\n",
        "for doc in results:\n",
        "    print(doc.page_content)"
      ],
      "metadata": {
        "colab": {
          "base_uri": "https://localhost:8080/"
        },
        "collapsed": true,
        "id": "uGogK78Igb4l",
        "outputId": "0b530797-28b2-4dd0-eb0d-0afcafd7afcd"
      },
      "execution_count": null,
      "outputs": [
        {
          "output_type": "stream",
          "name": "stdout",
          "text": [
            "TableDescription: This table presents key financial metrics for Meta Platforms, Inc., comparing GAAP and non-GAAP advertising revenue, operating activities, purchases of property and equipment, and finance lease payments for two time periods: the most recent quarters and the corresponding prior year quarters.\n",
            "\n",
            "TableHeader: Advertising Revenue and Cash Flow Metrics\n",
            "\n",
            "TableMarkdown: \n",
            "```markdown\n",
            "| Metric                                                              | Q2 2024        | Q2 2023     | Six Months 2024 | Six Months 2023 |\n",
            "|---------------------------------------------------------------------|----------------|-------------|------------------|------------------|\n",
            "| Advertising revenue excluding foreign exchange effect                 | $38,696        | -           | $74,226          | -                |\n",
            "| GAAP advertising revenue year-over-year change %                     | 22%            | -           | 24%              | -                |\n",
            "| Advertising revenue excluding foreign exchange effect year-over-year change % | 23%            | -           | 25%              | -                |\n",
            "| Net cash provided by operating activities                             | $19,370        | $17,309     | $38,616          | $31,307          |\n",
            "| Purchases of property and equipment, net                             | $(8,173)       | $(6,134)    | $(14,573)        | $(12,957)        |\n",
            "| Principal payments on finance leases                                  | $(299)         | $(220)      | $(614)           | $(484)           |\n",
            "| Free cash flow                                                       | $10,898        | $10,955     | $23,429          | $17,866          |\n",
            "```\n",
            "(Unaudited)\n",
            "\n",
            "Three Months Ended June 30, Six Months Ended June 30,\n",
            "\n",
            "2024\n",
            "\n",
            "2023\n",
            "\n",
            "2024\n",
            "\n",
            "2023\n",
            "\n",
            "Revenue:\n",
            "\n",
            "Advertising $ 38,329 $ 31,498 $ 73,965 $ 59,599 Other revenue 389 225 769 430 Family of Apps 38,718 31,723 74,734 60,029 Reality Labs 353 276 793 616 Total revenue $ 39,071 $ 31,999 $ 75,527 $ 60,645 Income (loss) from operations: Family of Apps $ 19,335 $ 13,131 $ 36,999 $ 24,351 Reality Labs (4,488) (3,739) (8,334) (7,732) Total income from operations $ 14,847 $ 9,392 $ 28,665 $ 16,619\n",
            "TableDescription: The table summarizes Meta's GAAP revenue, foreign exchange effects, and revenue changes for the years 2024 and 2023, including both total revenue and advertising revenue figures, along with year-over-year change percentages.\n",
            "\n",
            "TableHeader: Revenue and Changes Summary for Second Quarter 2024\n",
            "\n",
            "TableMarkdown: \n",
            "```markdown\n",
            "| Category                                                   | 2024       | 2023       | 2024       | 2023       |\n",
            "|-----------------------------------------------------------|------------|------------|------------|------------|\n",
            "| GAAP revenue                                              | $39,071    | $31,999    | $75,527    | $60,645    |\n",
            "| Foreign exchange effect on 2024 revenue using 2023 rates  | 371        |            | 265        |            |\n",
            "| Revenue excluding foreign exchange effect                  | $39,442    |            | $75,792    |            |\n",
            "| GAAP revenue year-over-year change %                       | 22%        |            | 25%        |            |\n",
            "| Revenue excluding foreign exchange effect year-over-year change % | 23%        |            | 25%        |            |\n",
            "| GAAP advertising revenue                                   | $38,329    | $31,498    | $73,965    | $59,599    |\n",
            "| Foreign exchange effect on 2024 advertising revenue using 2023 rates | 367        |            | 261        |            |\n",
            "```\n",
            "GAAP revenue\n",
            "\n",
            "$ 60,645\n",
            "\n",
            "$ 59,599\n",
            "\n",
            "change %\n",
            "\n",
            "$ 31,307\n",
            "\n",
            "(12,957)\n",
            "\n",
            "(484)\n",
            "Second Quarter 2024 Financial Highlights\n",
            "\n",
            "Three Months Ended June 30, In millions, except percentages and per share amounts 2024 2023 % Change Revenue $ 39,071 $ 31,999 22 % Costs and expenses 24,224 22,607 7 % Income from operations $ 14,847 $ 9,392 58 % Operating margin 38 % 29 % Provision for income taxes $ 1,641 $ 1,505 9 % Effective tax rate 11 % 16 % Net income $ 13,465 $ 7,788 73 % Diluted earnings per share (EPS) $ 5.16 $ 2.98 73 %\n"
          ]
        }
      ]
    },
    {
      "cell_type": "markdown",
      "metadata": {
        "id": "uMTRPPaGVZAd"
      },
      "source": [
        "## RAG"
      ]
    },
    {
      "cell_type": "code",
      "source": [
        "from langchain.chains import LLMChain\n",
        "from langchain.prompts import PromptTemplate\n",
        "from langchain.chat_models import ChatOpenAI\n",
        "\n",
        "prompt_template = PromptTemplate(\n",
        "    input_variables=[\"context\", \"question\"],\n",
        "    template=\"\"\"\n",
        "        You are an intelligent assistant. Use the following context to answer the question at the end.\n",
        "\n",
        "        Context:\n",
        "        {context}\n",
        "\n",
        "        Question:\n",
        "        {question}\n",
        "\n",
        "        Answer:\"\"\"\n",
        "        )\n",
        "\n",
        "llm = ChatOpenAI(model_name=\"gpt-4o-mini\")\n",
        "qa_chain = LLMChain(llm=llm, prompt=prompt_template)\n",
        "\n",
        "def rag(query: str, k: int = 5):\n",
        "    retrieved_docs = vecdb.similarity_search(query, k=k)\n",
        "\n",
        "    context = \"\\n\\n\".join([doc.page_content for doc in retrieved_docs])\n",
        "\n",
        "    result = qa_chain.run(context=context, question=query)\n",
        "\n",
        "    return {\n",
        "        \"answer\": result,\n",
        "        \"source_documents\": retrieved_docs\n",
        "    }"
      ],
      "metadata": {
        "id": "UlTOzvzugjYw"
      },
      "execution_count": 36,
      "outputs": []
    },
    {
      "cell_type": "code",
      "source": [
        "# Example usage\n",
        "response = rag(\"what is the 2024 GAAP advertising Revenue in the three months ended June 30th? What about net cash by operating activies\")\n",
        "print(\"Answer:\", response[\"answer\"])"
      ],
      "metadata": {
        "colab": {
          "base_uri": "https://localhost:8080/"
        },
        "id": "m8YzTQh9hU4X",
        "outputId": "df9d5a55-5f75-45d3-8db5-5fa763ef6eca"
      },
      "execution_count": 37,
      "outputs": [
        {
          "output_type": "stream",
          "name": "stderr",
          "text": [
            "/tmp/ipython-input-35-1474145917.py:27: LangChainDeprecationWarning: The method `Chain.run` was deprecated in langchain 0.1.0 and will be removed in 1.0. Use :meth:`~invoke` instead.\n",
            "  result = qa_chain.run(context=context, question=query)\n"
          ]
        },
        {
          "output_type": "stream",
          "name": "stdout",
          "text": [
            "Answer: The GAAP advertising revenue for the three months ended June 30, 2024, is $38,329 million. The net cash provided by operating activities for the same period is $19,370 million.\n"
          ]
        }
      ]
    },
    {
      "cell_type": "markdown",
      "source": [
        "# Evaluation"
      ],
      "metadata": {
        "id": "802MMWolyNrJ"
      }
    },
    {
      "cell_type": "code",
      "source": [
        "%pip install ares-ai\n",
        "%pip install ragas\n",
        "%pip install qdrant-client\n",
        "%pip install langchain-openai\n",
        "%pip install langchain\n",
        "%pip install -U langchain-community\n",
        "%pip install datasets"
      ],
      "metadata": {
        "colab": {
          "base_uri": "https://localhost:8080/"
        },
        "collapsed": true,
        "id": "5d9BaXNhyPOw",
        "outputId": "2c0e561c-9825-4f2a-c690-46bff6347375"
      },
      "execution_count": 29,
      "outputs": [
        {
          "output_type": "stream",
          "name": "stdout",
          "text": [
            "Requirement already satisfied: datasets in /usr/local/lib/python3.11/dist-packages (2.14.4)\n",
            "Requirement already satisfied: numpy>=1.17 in /usr/local/lib/python3.11/dist-packages (from datasets) (2.0.2)\n",
            "Requirement already satisfied: pyarrow>=8.0.0 in /usr/local/lib/python3.11/dist-packages (from datasets) (18.1.0)\n",
            "Requirement already satisfied: dill<0.3.8,>=0.3.0 in /usr/local/lib/python3.11/dist-packages (from datasets) (0.3.7)\n",
            "Requirement already satisfied: pandas in /usr/local/lib/python3.11/dist-packages (from datasets) (2.2.2)\n",
            "Requirement already satisfied: requests>=2.19.0 in /usr/local/lib/python3.11/dist-packages (from datasets) (2.32.3)\n",
            "Requirement already satisfied: tqdm>=4.62.1 in /usr/local/lib/python3.11/dist-packages (from datasets) (4.67.1)\n",
            "Requirement already satisfied: xxhash in /usr/local/lib/python3.11/dist-packages (from datasets) (3.5.0)\n",
            "Requirement already satisfied: multiprocess in /usr/local/lib/python3.11/dist-packages (from datasets) (0.70.15)\n",
            "Requirement already satisfied: fsspec>=2021.11.1 in /usr/local/lib/python3.11/dist-packages (from fsspec[http]>=2021.11.1->datasets) (2025.3.2)\n",
            "Requirement already satisfied: aiohttp in /usr/local/lib/python3.11/dist-packages (from datasets) (3.11.15)\n",
            "Requirement already satisfied: huggingface-hub<1.0.0,>=0.14.0 in /usr/local/lib/python3.11/dist-packages (from datasets) (0.33.0)\n",
            "Requirement already satisfied: packaging in /usr/local/lib/python3.11/dist-packages (from datasets) (24.2)\n",
            "Requirement already satisfied: pyyaml>=5.1 in /usr/local/lib/python3.11/dist-packages (from datasets) (6.0.2)\n",
            "Requirement already satisfied: aiohappyeyeballs>=2.3.0 in /usr/local/lib/python3.11/dist-packages (from aiohttp->datasets) (2.6.1)\n",
            "Requirement already satisfied: aiosignal>=1.1.2 in /usr/local/lib/python3.11/dist-packages (from aiohttp->datasets) (1.3.2)\n",
            "Requirement already satisfied: attrs>=17.3.0 in /usr/local/lib/python3.11/dist-packages (from aiohttp->datasets) (25.3.0)\n",
            "Requirement already satisfied: frozenlist>=1.1.1 in /usr/local/lib/python3.11/dist-packages (from aiohttp->datasets) (1.7.0)\n",
            "Requirement already satisfied: multidict<7.0,>=4.5 in /usr/local/lib/python3.11/dist-packages (from aiohttp->datasets) (6.5.0)\n",
            "Requirement already satisfied: propcache>=0.2.0 in /usr/local/lib/python3.11/dist-packages (from aiohttp->datasets) (0.3.2)\n",
            "Requirement already satisfied: yarl<2.0,>=1.17.0 in /usr/local/lib/python3.11/dist-packages (from aiohttp->datasets) (1.20.1)\n",
            "Requirement already satisfied: filelock in /usr/local/lib/python3.11/dist-packages (from huggingface-hub<1.0.0,>=0.14.0->datasets) (3.18.0)\n",
            "Requirement already satisfied: typing-extensions>=3.7.4.3 in /usr/local/lib/python3.11/dist-packages (from huggingface-hub<1.0.0,>=0.14.0->datasets) (4.14.0)\n",
            "Requirement already satisfied: hf-xet<2.0.0,>=1.1.2 in /usr/local/lib/python3.11/dist-packages (from huggingface-hub<1.0.0,>=0.14.0->datasets) (1.1.5)\n",
            "Requirement already satisfied: charset-normalizer<4,>=2 in /usr/local/lib/python3.11/dist-packages (from requests>=2.19.0->datasets) (3.4.2)\n",
            "Requirement already satisfied: idna<4,>=2.5 in /usr/local/lib/python3.11/dist-packages (from requests>=2.19.0->datasets) (3.10)\n",
            "Requirement already satisfied: urllib3<3,>=1.21.1 in /usr/local/lib/python3.11/dist-packages (from requests>=2.19.0->datasets) (2.4.0)\n",
            "Requirement already satisfied: certifi>=2017.4.17 in /usr/local/lib/python3.11/dist-packages (from requests>=2.19.0->datasets) (2025.6.15)\n",
            "Requirement already satisfied: python-dateutil>=2.8.2 in /usr/local/lib/python3.11/dist-packages (from pandas->datasets) (2.9.0.post0)\n",
            "Requirement already satisfied: pytz>=2020.1 in /usr/local/lib/python3.11/dist-packages (from pandas->datasets) (2025.2)\n",
            "Requirement already satisfied: tzdata>=2022.7 in /usr/local/lib/python3.11/dist-packages (from pandas->datasets) (2025.2)\n",
            "Requirement already satisfied: six>=1.5 in /usr/local/lib/python3.11/dist-packages (from python-dateutil>=2.8.2->pandas->datasets) (1.17.0)\n"
          ]
        }
      ]
    },
    {
      "cell_type": "code",
      "source": [
        "import os\n",
        "from google.colab import userdata\n",
        "\n",
        "os.environ[\"OPENAI_API_KEY\"] = userdata.get(\"OPENAI_API_KEY\")"
      ],
      "metadata": {
        "id": "U3yhk3wNSdC_"
      },
      "execution_count": 18,
      "outputs": []
    },
    {
      "cell_type": "markdown",
      "source": [
        "## Create synthetic data"
      ],
      "metadata": {
        "id": "ANOLpZhn8F8h"
      }
    },
    {
      "cell_type": "code",
      "source": [
        "import uuid\n",
        "from qdrant_client import QdrantClient\n",
        "from qdrant_client.models import Filter, FieldCondition, MatchValue, SearchParams\n",
        "from langchain.chat_models import ChatOpenAI\n",
        "from langchain.output_parsers import PydanticOutputParser\n",
        "from langchain.prompts import PromptTemplate\n",
        "from pydantic import BaseModel, Field\n",
        "from google.colab import userdata\n",
        "\n",
        "qdrant_cloud_key = userdata.get('QDRANT_CLOUD_KEY')\n",
        "client = QdrantClient(\n",
        "    url=\"https://01f14d7a-9e05-4804-bfd3-a69b4c3a97da.us-west-1-0.aws.cloud.qdrant.io:6333\",\n",
        "    api_key=qdrant_cloud_key\n",
        ")\n",
        "\n",
        "collection_name = \"meta_report_tables\"\n",
        "\n",
        "points = client.scroll(\n",
        "    collection_name=collection_name,\n",
        "    scroll_filter=None,\n",
        "    limit=100,\n",
        ")\n",
        "\n",
        "table_points = [\n",
        "    record for record in points[0]\n",
        "    if 'metadata' in record.payload and 'text_as_html' in record.payload['metadata']\n",
        "]"
      ],
      "metadata": {
        "id": "q9gUhV3n-bAk"
      },
      "execution_count": 14,
      "outputs": []
    },
    {
      "cell_type": "code",
      "source": [
        "table_points[0].payload[\"text\"]"
      ],
      "metadata": {
        "colab": {
          "base_uri": "https://localhost:8080/",
          "height": 72
        },
        "collapsed": true,
        "id": "kFwdYZ-qQN4g",
        "outputId": "2745c64b-2c8b-4c96-d856-4e528a15bedf"
      },
      "execution_count": 22,
      "outputs": [
        {
          "output_type": "execute_result",
          "data": {
            "text/plain": [
              "'Second Quarter 2024 Financial Highlights\\n\\nThree Months Ended June 30, In millions, except percentages and per share amounts 2024 2023 % Change Revenue $ 39,071 $ 31,999 22 % Costs and expenses 24,224 22,607 7 % Income from operations $ 14,847 $ 9,392 58 % Operating margin 38 % 29 % Provision for income taxes $ 1,641 $ 1,505 9 % Effective tax rate 11 % 16 % Net income $ 13,465 $ 7,788 73 % Diluted earnings per share (EPS) $ 5.16 $ 2.98 73 %'"
            ],
            "application/vnd.google.colaboratory.intrinsic+json": {
              "type": "string"
            }
          },
          "metadata": {},
          "execution_count": 22
        }
      ]
    },
    {
      "cell_type": "code",
      "source": [
        "from langchain_core.runnables import RunnableLambda\n",
        "from langchain.output_parsers import PydanticOutputParser\n",
        "from langchain.prompts import PromptTemplate\n",
        "from langchain.chat_models import ChatOpenAI\n",
        "from typing import List\n",
        "from pydantic import BaseModel, Field\n",
        "\n",
        "class QAPair(BaseModel):\n",
        "    question: str = Field(..., description=\"A question based on the context\")\n",
        "    answer: str = Field(..., description=\"The answer to the question based on the context\")\n",
        "\n",
        "class QAPairList(BaseModel):\n",
        "    context: str = Field(..., description=\"The document context\")\n",
        "    context_id: str = Field(..., description=\"Unique identifier of the context\")\n",
        "    qa_pairs: List[QAPair] = Field(..., description=\"A list of QA pairs generated from the context\")\n",
        "\n",
        "parser = PydanticOutputParser(pydantic_object=QAPairList)\n",
        "\n",
        "prompt = PromptTemplate.from_template(\n",
        "    \"\"\"You are a QA generator.\n",
        "\n",
        "    Context:\n",
        "    {context}\n",
        "\n",
        "    Generate 3 diverse and relevant question-answer pairs from the above context.\n",
        "    Format:\n",
        "    {format_instructions}\n",
        "    \"\"\"\n",
        ")\n",
        "\n",
        "llm = ChatOpenAI(model=\"gpt-4o-mini\", temperature=0.2)\n",
        "\n",
        "qa_chain = (\n",
        "    prompt |\n",
        "    llm |\n",
        "    parser\n",
        ")\n",
        "\n",
        "synthetic_data = []\n",
        "\n",
        "for point in table_points:\n",
        "    context_text = point.payload[\"text\"]\n",
        "    context_id = str(point.id)\n",
        "\n",
        "    result = qa_chain.invoke({\n",
        "        \"context\": context_text,\n",
        "        \"format_instructions\": parser.get_format_instructions()\n",
        "    })\n",
        "\n",
        "    result.context = context_text\n",
        "    result.context_id = context_id\n",
        "    synthetic_data.append(result)\n",
        "    break"
      ],
      "metadata": {
        "id": "Mi0ZkcWm8K4-"
      },
      "execution_count": 23,
      "outputs": []
    },
    {
      "cell_type": "code",
      "source": [
        "print(synthetic_data[0].qa_pairs)"
      ],
      "metadata": {
        "colab": {
          "base_uri": "https://localhost:8080/"
        },
        "id": "tBFwyXh2S8u3",
        "outputId": "7a4d943e-e5ba-483b-9a2d-9ad49a5519c6"
      },
      "execution_count": 27,
      "outputs": [
        {
          "output_type": "stream",
          "name": "stdout",
          "text": [
            "[QAPair(question='What was the revenue for the second quarter of 2024?', answer='$39,071 million'), QAPair(question='How much did the net income increase from 2023 to 2024 in percentage terms?', answer='73%'), QAPair(question='What was the operating margin for the second quarter of 2024?', answer='38%')]\n"
          ]
        }
      ]
    },
    {
      "cell_type": "code",
      "source": [
        "all_qa = []\n",
        "for item in synthetic_data:\n",
        "    for qa in item.qa_pairs:\n",
        "        all_qa.append({\n",
        "            \"question\": qa.question,\n",
        "            \"answer\": qa.answer,\n",
        "            \"context\": item.context,\n",
        "            \"context_id\": item.context_id\n",
        "        })"
      ],
      "metadata": {
        "id": "Y-LoZfgF-dJl"
      },
      "execution_count": 28,
      "outputs": []
    },
    {
      "cell_type": "code",
      "source": [
        "from datasets import Dataset\n",
        "\n",
        "hf_dataset = Dataset.from_list(all_qa)"
      ],
      "metadata": {
        "id": "ZxVK-wqfibfp"
      },
      "execution_count": 30,
      "outputs": []
    },
    {
      "cell_type": "code",
      "source": [
        "hf_dataset.push_to_hub(\"JC-24/meta-record-rag-synthetic-dataset\", token=userdata.get(\"HF_TOKEN\"))"
      ],
      "metadata": {
        "colab": {
          "base_uri": "https://localhost:8080/",
          "height": 81,
          "referenced_widgets": [
            "b30340088ed84ad5a69a8751b7da73ba",
            "6e97b9fffa634cecb7f8befac237bc0e",
            "75617f6ebddf45e7b463a3c807131768",
            "e12a655fe7e74ce09b820d5944dd0eb5",
            "f474c7491ae04859b8d7d3e76beb4282",
            "c93022774fb84f44b2ae281390f69b0d",
            "bfc40b34e1f14615aebe8f135c4ff457",
            "b5e631edfd2e411cb9b3424ef1657674",
            "ec7d64d670b547ac9dd407d8b1453de3",
            "aef7ebbf00c943fe9cbf1fc070d10bc4",
            "86801d817d5f406783f95ab6207dc9dd",
            "e528e300dc0247f1921c8d96ee473f7e",
            "a0e9c2791bb444dfa2b6f8b14657e9c5",
            "120b73af60a34ae7b3a7c7504c6a685e",
            "6f071d840f4d4bbe80af953a24380d7c",
            "9eec15948d9b45dfa27b6f42ce00ac4d",
            "08fa499ea68741ee811c5fb73732490c",
            "50e3ed71042942588b29c435323417b8",
            "3bfb05bba0b74f21ae3332393b07f55a",
            "40028783bdef4c7b9757c0ef2b709453",
            "c9ee2593659d416a8bffb4ce7c2ac1c1",
            "db5b7962a4ca4ef6bc09bb8407dd396d"
          ]
        },
        "id": "NB1dFQRhiokh",
        "outputId": "e3224536-3daa-41b3-bb5f-f79b98f97a2a"
      },
      "execution_count": 32,
      "outputs": [
        {
          "output_type": "display_data",
          "data": {
            "text/plain": [
              "Pushing dataset shards to the dataset hub:   0%|          | 0/1 [00:00<?, ?it/s]"
            ],
            "application/vnd.jupyter.widget-view+json": {
              "version_major": 2,
              "version_minor": 0,
              "model_id": "b30340088ed84ad5a69a8751b7da73ba"
            }
          },
          "metadata": {}
        },
        {
          "output_type": "display_data",
          "data": {
            "text/plain": [
              "Creating parquet from Arrow format:   0%|          | 0/1 [00:00<?, ?ba/s]"
            ],
            "application/vnd.jupyter.widget-view+json": {
              "version_major": 2,
              "version_minor": 0,
              "model_id": "e528e300dc0247f1921c8d96ee473f7e"
            }
          },
          "metadata": {}
        }
      ]
    },
    {
      "cell_type": "code",
      "source": [
        "hf_dataset"
      ],
      "metadata": {
        "colab": {
          "base_uri": "https://localhost:8080/"
        },
        "id": "1L9km6Y8jR-b",
        "outputId": "53cb3766-b1eb-4c3d-9dc7-2b0d6716e6b8"
      },
      "execution_count": 33,
      "outputs": [
        {
          "output_type": "execute_result",
          "data": {
            "text/plain": [
              "Dataset({\n",
              "    features: ['question', 'answer', 'context', 'context_id'],\n",
              "    num_rows: 3\n",
              "})"
            ]
          },
          "metadata": {},
          "execution_count": 33
        }
      ]
    },
    {
      "cell_type": "code",
      "source": [
        "# from datasets import load_dataset\n",
        "\n",
        "# dataset = load_dataset(\"JC-24/meta-record-rag-synthetic-dataset\")"
      ],
      "metadata": {
        "id": "x3pS9AWvjOHL"
      },
      "execution_count": 51,
      "outputs": []
    },
    {
      "cell_type": "code",
      "source": [
        "hf_dataset[0]"
      ],
      "metadata": {
        "colab": {
          "base_uri": "https://localhost:8080/"
        },
        "id": "ZloJ-REOnKku",
        "outputId": "31b579d7-2e7b-4bd3-8557-63ffa3733177"
      },
      "execution_count": 52,
      "outputs": [
        {
          "output_type": "execute_result",
          "data": {
            "text/plain": [
              "{'question': 'What was the revenue for the second quarter of 2024?',\n",
              " 'answer': '$39,071 million',\n",
              " 'context': 'Second Quarter 2024 Financial Highlights\\n\\nThree Months Ended June 30, In millions, except percentages and per share amounts 2024 2023 % Change Revenue $ 39,071 $ 31,999 22 % Costs and expenses 24,224 22,607 7 % Income from operations $ 14,847 $ 9,392 58 % Operating margin 38 % 29 % Provision for income taxes $ 1,641 $ 1,505 9 % Effective tax rate 11 % 16 % Net income $ 13,465 $ 7,788 73 % Diluted earnings per share (EPS) $ 5.16 $ 2.98 73 %',\n",
              " 'context_id': '00ce17c7-1a61-47d5-937f-78a001552ba4'}"
            ]
          },
          "metadata": {},
          "execution_count": 52
        }
      ]
    },
    {
      "cell_type": "markdown",
      "source": [
        "## Ragas"
      ],
      "metadata": {
        "id": "ckH7TRd48Io7"
      }
    },
    {
      "cell_type": "code",
      "source": [
        "from datasets import Dataset, load_dataset\n",
        "\n",
        "# dataset_path=\"JC-24/meta-record-rag-synthetic-dataset\"\n",
        "# hf_dataset = load_dataset(dataset_path, token=userdata.get(\"HF_TOKEN\"))\n",
        "\n",
        "ragas_dataset = []\n",
        "for item in hf_dataset:\n",
        "  query = item[\"question\"]\n",
        "  response = rag(query)\n",
        "  source_documents = response[\"source_documents\"]\n",
        "  answer = response[\"answer\"]\n",
        "  ragas_dataset.append(\n",
        "      {\n",
        "          \"question\": item[\"question\"],\n",
        "          \"ground_truth\": item[\"answer\"],\n",
        "          \"context\": [item[\"context\"]],\n",
        "          \"answer\":answer,\n",
        "          \"retrieved_contexts\":[d.page_content for d in source_documents]\n",
        "      }\n",
        "  )\n",
        "\n",
        "ragas_df = pd.DataFrame(ragas_dataset)\n",
        "ragas_df.to_csv(\"rag_evaluated_dataset.csv\", index=False)\n",
        "ragas_dataset_hf = Dataset.from_list(ragas_dataset)\n",
        "# for data in ragas_dataset:\n",
        "#   data[\"retrieved_contexts\"] = [d.page_content for d in data[\"retrieved_contexts\"]]"
      ],
      "metadata": {
        "id": "pEu9N5R-zR3L"
      },
      "execution_count": 64,
      "outputs": []
    },
    {
      "cell_type": "code",
      "source": [
        "from ragas.evaluation import evaluate\n",
        "from ragas.metrics import (\n",
        "    faithfulness,\n",
        "    answer_relevancy,\n",
        "    context_precision,\n",
        "    context_recall\n",
        ")\n",
        "\n",
        "result = evaluate(\n",
        "    ragas_dataset_hf,\n",
        "    metrics=[\n",
        "        faithfulness,\n",
        "        answer_relevancy,\n",
        "        context_precision,\n",
        "        context_recall\n",
        "    ]\n",
        ")\n",
        "print(result)"
      ],
      "metadata": {
        "id": "JzV15fkjzgUY",
        "colab": {
          "base_uri": "https://localhost:8080/",
          "height": 67,
          "referenced_widgets": [
            "c0ad00f98a384ceca466ef4c69ec8e09",
            "db1dcce7271042fb873cd60834f4e804",
            "680f284ec589480881491aee0240a132",
            "cfe53e363c1c405292884ff926a03c5f",
            "5d8c15eee97d48fea5e5e02ac05d72e4",
            "c8fb45404dc243bd9d9d9590642f3a04",
            "c170e7dbc0424fdc8cc0ef9201802a7e",
            "7da7f7adf4a84f1aa2dc5521e4c7c1e8",
            "33fb31a2537844ca985a41bcedbc8c80",
            "14ebbe7c4f9f4eada9c933575f5dc29d",
            "d9712d190451445faaa50c40c1d0aac8"
          ]
        },
        "outputId": "4dc6a2fb-385c-418f-fdc8-553aad4fee37"
      },
      "execution_count": 71,
      "outputs": [
        {
          "output_type": "display_data",
          "data": {
            "text/plain": [
              "Evaluating:   0%|          | 0/12 [00:00<?, ?it/s]"
            ],
            "application/vnd.jupyter.widget-view+json": {
              "version_major": 2,
              "version_minor": 0,
              "model_id": "c0ad00f98a384ceca466ef4c69ec8e09"
            }
          },
          "metadata": {}
        },
        {
          "output_type": "stream",
          "name": "stdout",
          "text": [
            "{'faithfulness': 0.7333, 'answer_relevancy': 0.9863, 'context_precision': 0.8000, 'context_recall': 1.0000}\n"
          ]
        }
      ]
    },
    {
      "cell_type": "code",
      "source": [
        "for data in ragas_dataset:\n",
        "  print(\"\\n\\nDATA-----------------------------------------#################################--------------------------------------\")\n",
        "  for col in data.keys():\n",
        "    if col==\"retrieved_contexts\":\n",
        "      print(\"*\",col,\":\")\n",
        "      for l in data[col]:\n",
        "        print(\"#######################################################\")\n",
        "        print(l)\n",
        "    else:\n",
        "      print(\"*\",col, \": \",data[col])"
      ],
      "metadata": {
        "colab": {
          "base_uri": "https://localhost:8080/"
        },
        "collapsed": true,
        "id": "O0eHNxptnxTi",
        "outputId": "b7985fbf-4048-4766-d53a-7b6f2c5c59b9"
      },
      "execution_count": 77,
      "outputs": [
        {
          "output_type": "stream",
          "name": "stdout",
          "text": [
            "\n",
            "\n",
            "DATA-----------------------------------------#################################--------------------------------------\n",
            "* question :  What was the revenue for the second quarter of 2024?\n",
            "* ground_truth :  $39,071 million\n",
            "* context :  ['Second Quarter 2024 Financial Highlights\\n\\nThree Months Ended June 30, In millions, except percentages and per share amounts 2024 2023 % Change Revenue $ 39,071 $ 31,999 22 % Costs and expenses 24,224 22,607 7 % Income from operations $ 14,847 $ 9,392 58 % Operating margin 38 % 29 % Provision for income taxes $ 1,641 $ 1,505 9 % Effective tax rate 11 % 16 % Net income $ 13,465 $ 7,788 73 % Diluted earnings per share (EPS) $ 5.16 $ 2.98 73 %']\n",
            "* answer :  The revenue for the second quarter of 2024 was $39,071 million.\n",
            "* retrieved_contexts :\n",
            "#######################################################\n",
            "Second Quarter 2024 Financial Highlights\n",
            "\n",
            "Three Months Ended June 30, In millions, except percentages and per share amounts 2024 2023 % Change Revenue $ 39,071 $ 31,999 22 % Costs and expenses 24,224 22,607 7 % Income from operations $ 14,847 $ 9,392 58 % Operating margin 38 % 29 % Provision for income taxes $ 1,641 $ 1,505 9 % Effective tax rate 11 % 16 % Net income $ 13,465 $ 7,788 73 % Diluted earnings per share (EPS) $ 5.16 $ 2.98 73 %\n",
            "#######################################################\n",
            "Free cash flow\n",
            "\n",
            "$ 17,866\n",
            "\n",
            "View original content to download multimedia:https://www.prnewswire.com/news-releases/meta-reports- second-quarter-2024-results-302211512.html\n",
            "#######################################################\n",
            "CFO Outlook Commentary\n",
            "\n",
            "We expect third quarter 2024 total revenue to be in the range of $38.5-41 billion. Our guidance assumes foreign currency is a 2% headwind to year-over-year total revenue growth, based on current exchange rates.\n",
            "#######################################################\n",
            "TableDescription: The table summarizes Meta's GAAP revenue, foreign exchange effects, and revenue changes for the years 2024 and 2023, including both total revenue and advertising revenue figures, along with year-over-year change percentages.\n",
            "\n",
            "TableHeader: Revenue and Changes Summary for Second Quarter 2024\n",
            "\n",
            "TableMarkdown: \n",
            "```markdown\n",
            "| Category                                                   | 2024       | 2023       | 2024       | 2023       |\n",
            "|-----------------------------------------------------------|------------|------------|------------|------------|\n",
            "| GAAP revenue                                              | $39,071    | $31,999    | $75,527    | $60,645    |\n",
            "| Foreign exchange effect on 2024 revenue using 2023 rates  | 371        |            | 265        |            |\n",
            "| Revenue excluding foreign exchange effect                  | $39,442    |            | $75,792    |            |\n",
            "| GAAP revenue year-over-year change %                       | 22%        |            | 25%        |            |\n",
            "| Revenue excluding foreign exchange effect year-over-year change % | 23%        |            | 25%        |            |\n",
            "| GAAP advertising revenue                                   | $38,329    | $31,498    | $73,965    | $59,599    |\n",
            "| Foreign exchange effect on 2024 advertising revenue using 2023 rates | 367        |            | 261        |            |\n",
            "```\n",
            "#######################################################\n",
            "(Unaudited)\n",
            "\n",
            "Three Months Ended June 30, Six Months Ended June 30,\n",
            "\n",
            "2024\n",
            "\n",
            "2023\n",
            "\n",
            "2024\n",
            "\n",
            "2023\n",
            "\n",
            "Revenue:\n",
            "\n",
            "Advertising $ 38,329 $ 31,498 $ 73,965 $ 59,599 Other revenue 389 225 769 430 Family of Apps 38,718 31,723 74,734 60,029 Reality Labs 353 276 793 616 Total revenue $ 39,071 $ 31,999 $ 75,527 $ 60,645 Income (loss) from operations: Family of Apps $ 19,335 $ 13,131 $ 36,999 $ 24,351 Reality Labs (4,488) (3,739) (8,334) (7,732) Total income from operations $ 14,847 $ 9,392 $ 28,665 $ 16,619\n",
            "\n",
            "\n",
            "DATA-----------------------------------------#################################--------------------------------------\n",
            "* question :  How much did the net income increase from 2023 to 2024 in percentage terms?\n",
            "* ground_truth :  73%\n",
            "* context :  ['Second Quarter 2024 Financial Highlights\\n\\nThree Months Ended June 30, In millions, except percentages and per share amounts 2024 2023 % Change Revenue $ 39,071 $ 31,999 22 % Costs and expenses 24,224 22,607 7 % Income from operations $ 14,847 $ 9,392 58 % Operating margin 38 % 29 % Provision for income taxes $ 1,641 $ 1,505 9 % Effective tax rate 11 % 16 % Net income $ 13,465 $ 7,788 73 % Diluted earnings per share (EPS) $ 5.16 $ 2.98 73 %']\n",
            "* answer :  To calculate the percentage increase in net income from 2023 to 2024, use the formula:\n",
            "\n",
            "\\[\n",
            "\\text{Percentage Increase} = \\left( \\frac{\\text{New Value} - \\text{Old Value}}{\\text{Old Value}} \\right) \\times 100\n",
            "\\]\n",
            "\n",
            "Here, the net income for 2023 is $7,788 million, and for 2024 it is $13,465 million.\n",
            "\n",
            "\\[\n",
            "\\text{Percentage Increase} = \\left( \\frac{13,465 - 7,788}{7,788} \\right) \\times 100\n",
            "\\]\n",
            "\n",
            "Calculating the difference:\n",
            "\n",
            "\\[\n",
            "13,465 - 7,788 = 5,677\n",
            "\\]\n",
            "\n",
            "Now, divide by the old value:\n",
            "\n",
            "\\[\n",
            "\\frac{5,677}{7,788} \\approx 0.728\n",
            "\\]\n",
            "\n",
            "Finally, multiply by 100 to get the percentage:\n",
            "\n",
            "\\[\n",
            "0.728 \\times 100 \\approx 72.8\\%\n",
            "\\]\n",
            "\n",
            "Thus, the net income increased by approximately **72.8%** from 2023 to 2024.\n",
            "* retrieved_contexts :\n",
            "#######################################################\n",
            "Second Quarter 2024 Financial Highlights\n",
            "\n",
            "Three Months Ended June 30, In millions, except percentages and per share amounts 2024 2023 % Change Revenue $ 39,071 $ 31,999 22 % Costs and expenses 24,224 22,607 7 % Income from operations $ 14,847 $ 9,392 58 % Operating margin 38 % 29 % Provision for income taxes $ 1,641 $ 1,505 9 % Effective tax rate 11 % 16 % Net income $ 13,465 $ 7,788 73 % Diluted earnings per share (EPS) $ 5.16 $ 2.98 73 %\n",
            "#######################################################\n",
            "GAAP revenue\n",
            "\n",
            "$ 60,645\n",
            "\n",
            "$ 59,599\n",
            "\n",
            "change %\n",
            "\n",
            "$ 31,307\n",
            "\n",
            "(12,957)\n",
            "\n",
            "(484)\n",
            "#######################################################\n",
            "Absent any changes to our tax landscape, we expect our full-year 2024 tax rate to be in the mid-teens.\n",
            "\n",
            "In addition, we continue to monitor an active regulatory landscape, including the increasing legal and regulatory headwinds in the EU and the U.S. that could signicantly impact our business and our nancial results.\n",
            "#######################################################\n",
            "e\n",
            "\n",
            "e\n",
            "\n",
            "Average price per ad – Average price per ad increased by 10% year-over-year.\n",
            "\n",
            "Revenue – Total revenue was $39.07 billion, an increase of 22% year-over-year. Revenue on a constant\n",
            "#######################################################\n",
            "e\n",
            "\n",
            "currency basis would have increased 23% year-over-year.\n",
            "\n",
            "¢\n",
            "\n",
            "Costs and expenses – Total costs and expenses were $24.22 billion, an increase of 7% year-over-year.\n",
            "\n",
            "Capital expenditures – Capital expenditures, including principal payments on nance leases, were $8.47 billion.\n",
            "\n",
            "Capital return program – Share repurchases were $6.32 billion of our Class A common stock and dividend payments were $1.27 billion.\n",
            "\n",
            "\n",
            "DATA-----------------------------------------#################################--------------------------------------\n",
            "* question :  What was the operating margin for the second quarter of 2024?\n",
            "* ground_truth :  38%\n",
            "* context :  ['Second Quarter 2024 Financial Highlights\\n\\nThree Months Ended June 30, In millions, except percentages and per share amounts 2024 2023 % Change Revenue $ 39,071 $ 31,999 22 % Costs and expenses 24,224 22,607 7 % Income from operations $ 14,847 $ 9,392 58 % Operating margin 38 % 29 % Provision for income taxes $ 1,641 $ 1,505 9 % Effective tax rate 11 % 16 % Net income $ 13,465 $ 7,788 73 % Diluted earnings per share (EPS) $ 5.16 $ 2.98 73 %']\n",
            "* answer :  The operating margin for the second quarter of 2024 was 38%.\n",
            "* retrieved_contexts :\n",
            "#######################################################\n",
            "Second Quarter 2024 Financial Highlights\n",
            "\n",
            "Three Months Ended June 30, In millions, except percentages and per share amounts 2024 2023 % Change Revenue $ 39,071 $ 31,999 22 % Costs and expenses 24,224 22,607 7 % Income from operations $ 14,847 $ 9,392 58 % Operating margin 38 % 29 % Provision for income taxes $ 1,641 $ 1,505 9 % Effective tax rate 11 % 16 % Net income $ 13,465 $ 7,788 73 % Diluted earnings per share (EPS) $ 5.16 $ 2.98 73 %\n",
            "#######################################################\n",
            "Free cash flow\n",
            "\n",
            "$ 17,866\n",
            "\n",
            "View original content to download multimedia:https://www.prnewswire.com/news-releases/meta-reports- second-quarter-2024-results-302211512.html\n",
            "#######################################################\n",
            "CFO Outlook Commentary\n",
            "\n",
            "We expect third quarter 2024 total revenue to be in the range of $38.5-41 billion. Our guidance assumes foreign currency is a 2% headwind to year-over-year total revenue growth, based on current exchange rates.\n",
            "#######################################################\n",
            "TableDescription: This table presents the cash flows from operating activities of Meta Platforms, Inc. for the quarters ending on June 30, 2024, and June 30, 2023. It includes net income and various adjustments that reconcile net income to net cash provided by operating activities.\n",
            "\n",
            "TableHeader: Cash Flow from Operating Activities for the Quarters Ended June 30\n",
            "\n",
            "TableMarkdown: \n",
            "```markdown\n",
            "| Cash flows from operating activities                  | Three Months Ended June 30 2024 | Three Months Ended June 30 2023 | Six Months Ended June 30 2024 | Six Months Ended June 30 2023 |\n",
            "|-------------------------------------------------------|----------------------------------|----------------------------------|--------------------------------|--------------------------------|\n",
            "| Net income                                           | $13,465                          | $7,788                           | $25,834                        | $13,498                        |\n",
            "| Adjustments to reconcile net income to net cash provided by operating activities: |                                  |                                  |                                |                                |\n",
            "| Depreciation and amortization                         | $3,637                           | $2,623                           | $7,011                         | $5,147                         |\n",
            "| Share-based compensation                               | $4,616                           | $4,060                           | $8,178                         | $7,111                         |\n",
            "| Deferred income taxes                                 | $(1,643)                         | $(1,137)                         | $(2,098)                       | $(1,757)                       |\n",
            "| Impairment charges for facilities consolidation, net  | $41                              | $232                             | $280                           | $1,002                         |\n",
            "| Other                                                | $(6)                             | $212                             | $(71)                          | $204                           |\n",
            "```\n",
            "#######################################################\n",
            "TableDescription: This table summarizes the condensed consolidated statements of income for Meta Platforms, Inc. for the three and six months ended June 30, 2024 and 2023, including revenues, costs and expenses, income from operations, and related financial figures in millions of dollars.\n",
            "\n",
            "TableHeader: Quarterly Financial Summary\n",
            "\n",
            "TableMarkdown:\n",
            "```markdown\n",
            "| Revenue                          | 2024       | 2023       | 2024       | 2023       |\n",
            "|----------------------------------|------------|------------|------------|------------|\n",
            "| Revenue                          | $39,071   | $31,999   | $75,527   | $60,645   |\n",
            "| Costs and expenses:              |            |            |            |            |\n",
            "| Cost of revenue                  | $7,308    | $5,945    | $13,948   | $12,054   |\n",
            "| Research and development          | $10,537   | $9,344    | $20,515   | $18,725   |\n",
            "| Marketing and sales              | $2,721    | $3,154    | $5,285    | $6,198    |\n",
            "| General and administrative (1)    | $3,658    | $4,164    | $7,114    | $7,049    |\n",
            "| Total costs and expenses         | $24,224   | $22,607   | $46,862   | $44,026   |\n",
            "| Income from operations            | $14,847   | $9,392    | $28,665   | $16,619   |\n",
            "| Interest and other income (expense), net | $259 | $(99)   | $624      | $(19)     |\n",
            "| Income before provision for income taxes | $15,106 | $9,293 | $29,289   | $16,600   |\n",
            "```\n"
          ]
        }
      ]
    },
    {
      "cell_type": "markdown",
      "source": [
        "# MLFlow"
      ],
      "metadata": {
        "id": "qOukR97vqc3c"
      }
    },
    {
      "cell_type": "code",
      "source": [
        "%pip install mlflow"
      ],
      "metadata": {
        "colab": {
          "base_uri": "https://localhost:8080/"
        },
        "collapsed": true,
        "id": "DnC_ju9H8haT",
        "outputId": "9eb23101-12bb-44c4-aeb7-c2f3cfe32d2a"
      },
      "execution_count": 78,
      "outputs": [
        {
          "output_type": "stream",
          "name": "stdout",
          "text": [
            "Collecting mlflow\n",
            "  Downloading mlflow-3.1.1-py3-none-any.whl.metadata (29 kB)\n",
            "Collecting mlflow-skinny==3.1.1 (from mlflow)\n",
            "  Downloading mlflow_skinny-3.1.1-py3-none-any.whl.metadata (30 kB)\n",
            "Requirement already satisfied: Flask<4 in /usr/local/lib/python3.11/dist-packages (from mlflow) (3.1.1)\n",
            "Collecting alembic!=1.10.0,<2 (from mlflow)\n",
            "  Downloading alembic-1.16.2-py3-none-any.whl.metadata (7.3 kB)\n",
            "Collecting docker<8,>=4.0.0 (from mlflow)\n",
            "  Downloading docker-7.1.0-py3-none-any.whl.metadata (3.8 kB)\n",
            "Collecting graphene<4 (from mlflow)\n",
            "  Downloading graphene-3.4.3-py2.py3-none-any.whl.metadata (6.9 kB)\n",
            "Collecting gunicorn<24 (from mlflow)\n",
            "  Downloading gunicorn-23.0.0-py3-none-any.whl.metadata (4.4 kB)\n",
            "Requirement already satisfied: matplotlib<4 in /usr/local/lib/python3.11/dist-packages (from mlflow) (3.10.0)\n",
            "Requirement already satisfied: numpy<3 in /usr/local/lib/python3.11/dist-packages (from mlflow) (2.0.2)\n",
            "Requirement already satisfied: pandas<3 in /usr/local/lib/python3.11/dist-packages (from mlflow) (2.2.2)\n",
            "Requirement already satisfied: pyarrow<21,>=4.0.0 in /usr/local/lib/python3.11/dist-packages (from mlflow) (18.1.0)\n",
            "Requirement already satisfied: scikit-learn<2 in /usr/local/lib/python3.11/dist-packages (from mlflow) (1.6.1)\n",
            "Requirement already satisfied: scipy<2 in /usr/local/lib/python3.11/dist-packages (from mlflow) (1.15.3)\n",
            "Requirement already satisfied: sqlalchemy<3,>=1.4.0 in /usr/local/lib/python3.11/dist-packages (from mlflow) (2.0.41)\n",
            "Requirement already satisfied: cachetools<7,>=5.0.0 in /usr/local/lib/python3.11/dist-packages (from mlflow-skinny==3.1.1->mlflow) (5.5.2)\n",
            "Requirement already satisfied: click<9,>=7.0 in /usr/local/lib/python3.11/dist-packages (from mlflow-skinny==3.1.1->mlflow) (8.2.1)\n",
            "Requirement already satisfied: cloudpickle<4 in /usr/local/lib/python3.11/dist-packages (from mlflow-skinny==3.1.1->mlflow) (3.1.1)\n",
            "Collecting databricks-sdk<1,>=0.20.0 (from mlflow-skinny==3.1.1->mlflow)\n",
            "  Downloading databricks_sdk-0.57.0-py3-none-any.whl.metadata (39 kB)\n",
            "Requirement already satisfied: fastapi<1 in /usr/local/lib/python3.11/dist-packages (from mlflow-skinny==3.1.1->mlflow) (0.115.13)\n",
            "Requirement already satisfied: gitpython<4,>=3.1.9 in /usr/local/lib/python3.11/dist-packages (from mlflow-skinny==3.1.1->mlflow) (3.1.44)\n",
            "Requirement already satisfied: importlib_metadata!=4.7.0,<9,>=3.7.0 in /usr/local/lib/python3.11/dist-packages (from mlflow-skinny==3.1.1->mlflow) (8.7.0)\n",
            "Collecting opentelemetry-api<3,>=1.9.0 (from mlflow-skinny==3.1.1->mlflow)\n",
            "  Downloading opentelemetry_api-1.34.1-py3-none-any.whl.metadata (1.5 kB)\n",
            "Collecting opentelemetry-sdk<3,>=1.9.0 (from mlflow-skinny==3.1.1->mlflow)\n",
            "  Downloading opentelemetry_sdk-1.34.1-py3-none-any.whl.metadata (1.6 kB)\n",
            "Requirement already satisfied: packaging<26 in /usr/local/lib/python3.11/dist-packages (from mlflow-skinny==3.1.1->mlflow) (24.2)\n",
            "Requirement already satisfied: protobuf<7,>=3.12.0 in /usr/local/lib/python3.11/dist-packages (from mlflow-skinny==3.1.1->mlflow) (5.29.5)\n",
            "Requirement already satisfied: pydantic<3,>=1.10.8 in /usr/local/lib/python3.11/dist-packages (from mlflow-skinny==3.1.1->mlflow) (2.11.7)\n",
            "Requirement already satisfied: pyyaml<7,>=5.1 in /usr/local/lib/python3.11/dist-packages (from mlflow-skinny==3.1.1->mlflow) (6.0.2)\n",
            "Requirement already satisfied: requests<3,>=2.17.3 in /usr/local/lib/python3.11/dist-packages (from mlflow-skinny==3.1.1->mlflow) (2.32.3)\n",
            "Requirement already satisfied: sqlparse<1,>=0.4.0 in /usr/local/lib/python3.11/dist-packages (from mlflow-skinny==3.1.1->mlflow) (0.5.3)\n",
            "Requirement already satisfied: typing-extensions<5,>=4.0.0 in /usr/local/lib/python3.11/dist-packages (from mlflow-skinny==3.1.1->mlflow) (4.14.0)\n",
            "Requirement already satisfied: uvicorn<1 in /usr/local/lib/python3.11/dist-packages (from mlflow-skinny==3.1.1->mlflow) (0.34.3)\n",
            "Requirement already satisfied: Mako in /usr/lib/python3/dist-packages (from alembic!=1.10.0,<2->mlflow) (1.1.3)\n",
            "Requirement already satisfied: urllib3>=1.26.0 in /usr/local/lib/python3.11/dist-packages (from docker<8,>=4.0.0->mlflow) (2.4.0)\n",
            "Requirement already satisfied: blinker>=1.9.0 in /usr/local/lib/python3.11/dist-packages (from Flask<4->mlflow) (1.9.0)\n",
            "Requirement already satisfied: itsdangerous>=2.2.0 in /usr/local/lib/python3.11/dist-packages (from Flask<4->mlflow) (2.2.0)\n",
            "Requirement already satisfied: jinja2>=3.1.2 in /usr/local/lib/python3.11/dist-packages (from Flask<4->mlflow) (3.1.6)\n",
            "Requirement already satisfied: markupsafe>=2.1.1 in /usr/local/lib/python3.11/dist-packages (from Flask<4->mlflow) (3.0.2)\n",
            "Requirement already satisfied: werkzeug>=3.1.0 in /usr/local/lib/python3.11/dist-packages (from Flask<4->mlflow) (3.1.3)\n",
            "Collecting graphql-core<3.3,>=3.1 (from graphene<4->mlflow)\n",
            "  Downloading graphql_core-3.2.6-py3-none-any.whl.metadata (11 kB)\n",
            "Collecting graphql-relay<3.3,>=3.1 (from graphene<4->mlflow)\n",
            "  Downloading graphql_relay-3.2.0-py3-none-any.whl.metadata (12 kB)\n",
            "Requirement already satisfied: python-dateutil<3,>=2.7.0 in /usr/local/lib/python3.11/dist-packages (from graphene<4->mlflow) (2.9.0.post0)\n",
            "Requirement already satisfied: contourpy>=1.0.1 in /usr/local/lib/python3.11/dist-packages (from matplotlib<4->mlflow) (1.3.2)\n",
            "Requirement already satisfied: cycler>=0.10 in /usr/local/lib/python3.11/dist-packages (from matplotlib<4->mlflow) (0.12.1)\n",
            "Requirement already satisfied: fonttools>=4.22.0 in /usr/local/lib/python3.11/dist-packages (from matplotlib<4->mlflow) (4.58.4)\n",
            "Requirement already satisfied: kiwisolver>=1.3.1 in /usr/local/lib/python3.11/dist-packages (from matplotlib<4->mlflow) (1.4.8)\n",
            "Requirement already satisfied: pillow>=8 in /usr/local/lib/python3.11/dist-packages (from matplotlib<4->mlflow) (11.2.1)\n",
            "Requirement already satisfied: pyparsing>=2.3.1 in /usr/local/lib/python3.11/dist-packages (from matplotlib<4->mlflow) (3.2.3)\n",
            "Requirement already satisfied: pytz>=2020.1 in /usr/local/lib/python3.11/dist-packages (from pandas<3->mlflow) (2025.2)\n",
            "Requirement already satisfied: tzdata>=2022.7 in /usr/local/lib/python3.11/dist-packages (from pandas<3->mlflow) (2025.2)\n",
            "Requirement already satisfied: joblib>=1.2.0 in /usr/local/lib/python3.11/dist-packages (from scikit-learn<2->mlflow) (1.5.1)\n",
            "Requirement already satisfied: threadpoolctl>=3.1.0 in /usr/local/lib/python3.11/dist-packages (from scikit-learn<2->mlflow) (3.6.0)\n",
            "Requirement already satisfied: greenlet>=1 in /usr/local/lib/python3.11/dist-packages (from sqlalchemy<3,>=1.4.0->mlflow) (3.2.3)\n",
            "Requirement already satisfied: google-auth~=2.0 in /usr/local/lib/python3.11/dist-packages (from databricks-sdk<1,>=0.20.0->mlflow-skinny==3.1.1->mlflow) (2.38.0)\n",
            "Requirement already satisfied: starlette<0.47.0,>=0.40.0 in /usr/local/lib/python3.11/dist-packages (from fastapi<1->mlflow-skinny==3.1.1->mlflow) (0.46.2)\n",
            "Requirement already satisfied: gitdb<5,>=4.0.1 in /usr/local/lib/python3.11/dist-packages (from gitpython<4,>=3.1.9->mlflow-skinny==3.1.1->mlflow) (4.0.12)\n",
            "Requirement already satisfied: zipp>=3.20 in /usr/local/lib/python3.11/dist-packages (from importlib_metadata!=4.7.0,<9,>=3.7.0->mlflow-skinny==3.1.1->mlflow) (3.23.0)\n",
            "Collecting opentelemetry-semantic-conventions==0.55b1 (from opentelemetry-sdk<3,>=1.9.0->mlflow-skinny==3.1.1->mlflow)\n",
            "  Downloading opentelemetry_semantic_conventions-0.55b1-py3-none-any.whl.metadata (2.5 kB)\n",
            "Requirement already satisfied: annotated-types>=0.6.0 in /usr/local/lib/python3.11/dist-packages (from pydantic<3,>=1.10.8->mlflow-skinny==3.1.1->mlflow) (0.7.0)\n",
            "Requirement already satisfied: pydantic-core==2.33.2 in /usr/local/lib/python3.11/dist-packages (from pydantic<3,>=1.10.8->mlflow-skinny==3.1.1->mlflow) (2.33.2)\n",
            "Requirement already satisfied: typing-inspection>=0.4.0 in /usr/local/lib/python3.11/dist-packages (from pydantic<3,>=1.10.8->mlflow-skinny==3.1.1->mlflow) (0.4.1)\n",
            "Requirement already satisfied: six>=1.5 in /usr/local/lib/python3.11/dist-packages (from python-dateutil<3,>=2.7.0->graphene<4->mlflow) (1.17.0)\n",
            "Requirement already satisfied: charset-normalizer<4,>=2 in /usr/local/lib/python3.11/dist-packages (from requests<3,>=2.17.3->mlflow-skinny==3.1.1->mlflow) (3.4.2)\n",
            "Requirement already satisfied: idna<4,>=2.5 in /usr/local/lib/python3.11/dist-packages (from requests<3,>=2.17.3->mlflow-skinny==3.1.1->mlflow) (3.10)\n",
            "Requirement already satisfied: certifi>=2017.4.17 in /usr/local/lib/python3.11/dist-packages (from requests<3,>=2.17.3->mlflow-skinny==3.1.1->mlflow) (2025.6.15)\n",
            "Requirement already satisfied: h11>=0.8 in /usr/local/lib/python3.11/dist-packages (from uvicorn<1->mlflow-skinny==3.1.1->mlflow) (0.16.0)\n",
            "Requirement already satisfied: smmap<6,>=3.0.1 in /usr/local/lib/python3.11/dist-packages (from gitdb<5,>=4.0.1->gitpython<4,>=3.1.9->mlflow-skinny==3.1.1->mlflow) (5.0.2)\n",
            "Requirement already satisfied: pyasn1-modules>=0.2.1 in /usr/local/lib/python3.11/dist-packages (from google-auth~=2.0->databricks-sdk<1,>=0.20.0->mlflow-skinny==3.1.1->mlflow) (0.4.2)\n",
            "Requirement already satisfied: rsa<5,>=3.1.4 in /usr/local/lib/python3.11/dist-packages (from google-auth~=2.0->databricks-sdk<1,>=0.20.0->mlflow-skinny==3.1.1->mlflow) (4.9.1)\n",
            "Requirement already satisfied: anyio<5,>=3.6.2 in /usr/local/lib/python3.11/dist-packages (from starlette<0.47.0,>=0.40.0->fastapi<1->mlflow-skinny==3.1.1->mlflow) (4.9.0)\n",
            "Requirement already satisfied: sniffio>=1.1 in /usr/local/lib/python3.11/dist-packages (from anyio<5,>=3.6.2->starlette<0.47.0,>=0.40.0->fastapi<1->mlflow-skinny==3.1.1->mlflow) (1.3.1)\n",
            "Requirement already satisfied: pyasn1<0.7.0,>=0.6.1 in /usr/local/lib/python3.11/dist-packages (from pyasn1-modules>=0.2.1->google-auth~=2.0->databricks-sdk<1,>=0.20.0->mlflow-skinny==3.1.1->mlflow) (0.6.1)\n",
            "Downloading mlflow-3.1.1-py3-none-any.whl (24.7 MB)\n",
            "\u001b[2K   \u001b[90m━━━━━━━━━━━━━━━━━━━━━━━━━━━━━━━━━━━━━━━━\u001b[0m \u001b[32m24.7/24.7 MB\u001b[0m \u001b[31m58.8 MB/s\u001b[0m eta \u001b[36m0:00:00\u001b[0m\n",
            "\u001b[?25hDownloading mlflow_skinny-3.1.1-py3-none-any.whl (1.9 MB)\n",
            "\u001b[2K   \u001b[90m━━━━━━━━━━━━━━━━━━━━━━━━━━━━━━━━━━━━━━━━\u001b[0m \u001b[32m1.9/1.9 MB\u001b[0m \u001b[31m79.9 MB/s\u001b[0m eta \u001b[36m0:00:00\u001b[0m\n",
            "\u001b[?25hDownloading alembic-1.16.2-py3-none-any.whl (242 kB)\n",
            "\u001b[2K   \u001b[90m━━━━━━━━━━━━━━━━━━━━━━━━━━━━━━━━━━━━━━━━\u001b[0m \u001b[32m242.7/242.7 kB\u001b[0m \u001b[31m18.1 MB/s\u001b[0m eta \u001b[36m0:00:00\u001b[0m\n",
            "\u001b[?25hDownloading docker-7.1.0-py3-none-any.whl (147 kB)\n",
            "\u001b[2K   \u001b[90m━━━━━━━━━━━━━━━━━━━━━━━━━━━━━━━━━━━━━━━━\u001b[0m \u001b[32m147.8/147.8 kB\u001b[0m \u001b[31m10.6 MB/s\u001b[0m eta \u001b[36m0:00:00\u001b[0m\n",
            "\u001b[?25hDownloading graphene-3.4.3-py2.py3-none-any.whl (114 kB)\n",
            "\u001b[2K   \u001b[90m━━━━━━━━━━━━━━━━━━━━━━━━━━━━━━━━━━━━━━━━\u001b[0m \u001b[32m114.9/114.9 kB\u001b[0m \u001b[31m8.8 MB/s\u001b[0m eta \u001b[36m0:00:00\u001b[0m\n",
            "\u001b[?25hDownloading gunicorn-23.0.0-py3-none-any.whl (85 kB)\n",
            "\u001b[2K   \u001b[90m━━━━━━━━━━━━━━━━━━━━━━━━━━━━━━━━━━━━━━━━\u001b[0m \u001b[32m85.0/85.0 kB\u001b[0m \u001b[31m6.9 MB/s\u001b[0m eta \u001b[36m0:00:00\u001b[0m\n",
            "\u001b[?25hDownloading databricks_sdk-0.57.0-py3-none-any.whl (733 kB)\n",
            "\u001b[2K   \u001b[90m━━━━━━━━━━━━━━━━━━━━━━━━━━━━━━━━━━━━━━━━\u001b[0m \u001b[32m733.8/733.8 kB\u001b[0m \u001b[31m42.5 MB/s\u001b[0m eta \u001b[36m0:00:00\u001b[0m\n",
            "\u001b[?25hDownloading graphql_core-3.2.6-py3-none-any.whl (203 kB)\n",
            "\u001b[2K   \u001b[90m━━━━━━━━━━━━━━━━━━━━━━━━━━━━━━━━━━━━━━━━\u001b[0m \u001b[32m203.4/203.4 kB\u001b[0m \u001b[31m13.8 MB/s\u001b[0m eta \u001b[36m0:00:00\u001b[0m\n",
            "\u001b[?25hDownloading graphql_relay-3.2.0-py3-none-any.whl (16 kB)\n",
            "Downloading opentelemetry_api-1.34.1-py3-none-any.whl (65 kB)\n",
            "\u001b[2K   \u001b[90m━━━━━━━━━━━━━━━━━━━━━━━━━━━━━━━━━━━━━━━━\u001b[0m \u001b[32m65.8/65.8 kB\u001b[0m \u001b[31m5.4 MB/s\u001b[0m eta \u001b[36m0:00:00\u001b[0m\n",
            "\u001b[?25hDownloading opentelemetry_sdk-1.34.1-py3-none-any.whl (118 kB)\n",
            "\u001b[2K   \u001b[90m━━━━━━━━━━━━━━━━━━━━━━━━━━━━━━━━━━━━━━━━\u001b[0m \u001b[32m118.5/118.5 kB\u001b[0m \u001b[31m9.4 MB/s\u001b[0m eta \u001b[36m0:00:00\u001b[0m\n",
            "\u001b[?25hDownloading opentelemetry_semantic_conventions-0.55b1-py3-none-any.whl (196 kB)\n",
            "\u001b[2K   \u001b[90m━━━━━━━━━━━━━━━━━━━━━━━━━━━━━━━━━━━━━━━━\u001b[0m \u001b[32m196.2/196.2 kB\u001b[0m \u001b[31m15.0 MB/s\u001b[0m eta \u001b[36m0:00:00\u001b[0m\n",
            "\u001b[?25hInstalling collected packages: gunicorn, graphql-core, opentelemetry-api, graphql-relay, docker, alembic, opentelemetry-semantic-conventions, graphene, databricks-sdk, opentelemetry-sdk, mlflow-skinny, mlflow\n",
            "Successfully installed alembic-1.16.2 databricks-sdk-0.57.0 docker-7.1.0 graphene-3.4.3 graphql-core-3.2.6 graphql-relay-3.2.0 gunicorn-23.0.0 mlflow-3.1.1 mlflow-skinny-3.1.1 opentelemetry-api-1.34.1 opentelemetry-sdk-1.34.1 opentelemetry-semantic-conventions-0.55b1\n"
          ]
        }
      ]
    },
    {
      "cell_type": "code",
      "source": [
        "import mlflow\n",
        "import pandas as pd\n",
        "from ragas.metrics import (\n",
        "    faithfulness,\n",
        "    answer_relevancy,\n",
        "    context_precision,\n",
        "    context_recall\n",
        ")\n",
        "from ragas import evaluate\n",
        "from datasets import Dataset\n",
        "\n",
        "def run_evaluation_pipeline(dataset_path: str, run_name: str = \"RAG_Eval_Run\"):\n",
        "    df = pd.read_csv(dataset_path)  # Or pd.read_json()\n",
        "\n",
        "    ragas_dataset = Dataset.from_pandas(df)\n",
        "\n",
        "    metric_list = [answer_relevancy, context_precision, context_recall, faithfulness]\n",
        "\n",
        "    with mlflow.start_run(run_name=run_name):\n",
        "        mlflow.log_param(\"dataset\", dataset_path)\n",
        "        mlflow.log_param(\"num_samples\", len(df))\n",
        "\n",
        "        results = evaluate(ragas_dataset, metrics=metric_list)\n",
        "\n",
        "        for metric in metric_list:\n",
        "            score = results[metric.name]\n",
        "            mlflow.log_metric(metric.name, score)\n",
        "\n",
        "        results_df = pd.DataFrame([results])\n",
        "        results_df.to_csv(\"results.csv\", index=False)\n",
        "        mlflow.log_artifact(\"results.csv\")\n",
        "\n",
        "        print(\"Evaluation completed and logged to MLflow.\")\n",
        "\n",
        "run_evaluation_pipeline(\"rag_evaluation_data.csv\")"
      ],
      "metadata": {
        "id": "WbOkAydA7hNW"
      },
      "execution_count": null,
      "outputs": []
    }
  ],
  "metadata": {
    "colab": {
      "provenance": []
    },
    "kernelspec": {
      "display_name": "Python 3",
      "name": "python3"
    },
    "language_info": {
      "name": "python"
    },
    "widgets": {
      "application/vnd.jupyter.widget-state+json": {
        "b30340088ed84ad5a69a8751b7da73ba": {
          "model_module": "@jupyter-widgets/controls",
          "model_name": "HBoxModel",
          "model_module_version": "1.5.0",
          "state": {
            "_dom_classes": [],
            "_model_module": "@jupyter-widgets/controls",
            "_model_module_version": "1.5.0",
            "_model_name": "HBoxModel",
            "_view_count": null,
            "_view_module": "@jupyter-widgets/controls",
            "_view_module_version": "1.5.0",
            "_view_name": "HBoxView",
            "box_style": "",
            "children": [
              "IPY_MODEL_6e97b9fffa634cecb7f8befac237bc0e",
              "IPY_MODEL_75617f6ebddf45e7b463a3c807131768",
              "IPY_MODEL_e12a655fe7e74ce09b820d5944dd0eb5"
            ],
            "layout": "IPY_MODEL_f474c7491ae04859b8d7d3e76beb4282"
          }
        },
        "6e97b9fffa634cecb7f8befac237bc0e": {
          "model_module": "@jupyter-widgets/controls",
          "model_name": "HTMLModel",
          "model_module_version": "1.5.0",
          "state": {
            "_dom_classes": [],
            "_model_module": "@jupyter-widgets/controls",
            "_model_module_version": "1.5.0",
            "_model_name": "HTMLModel",
            "_view_count": null,
            "_view_module": "@jupyter-widgets/controls",
            "_view_module_version": "1.5.0",
            "_view_name": "HTMLView",
            "description": "",
            "description_tooltip": null,
            "layout": "IPY_MODEL_c93022774fb84f44b2ae281390f69b0d",
            "placeholder": "​",
            "style": "IPY_MODEL_bfc40b34e1f14615aebe8f135c4ff457",
            "value": "Pushing dataset shards to the dataset hub: 100%"
          }
        },
        "75617f6ebddf45e7b463a3c807131768": {
          "model_module": "@jupyter-widgets/controls",
          "model_name": "FloatProgressModel",
          "model_module_version": "1.5.0",
          "state": {
            "_dom_classes": [],
            "_model_module": "@jupyter-widgets/controls",
            "_model_module_version": "1.5.0",
            "_model_name": "FloatProgressModel",
            "_view_count": null,
            "_view_module": "@jupyter-widgets/controls",
            "_view_module_version": "1.5.0",
            "_view_name": "ProgressView",
            "bar_style": "success",
            "description": "",
            "description_tooltip": null,
            "layout": "IPY_MODEL_b5e631edfd2e411cb9b3424ef1657674",
            "max": 1,
            "min": 0,
            "orientation": "horizontal",
            "style": "IPY_MODEL_ec7d64d670b547ac9dd407d8b1453de3",
            "value": 1
          }
        },
        "e12a655fe7e74ce09b820d5944dd0eb5": {
          "model_module": "@jupyter-widgets/controls",
          "model_name": "HTMLModel",
          "model_module_version": "1.5.0",
          "state": {
            "_dom_classes": [],
            "_model_module": "@jupyter-widgets/controls",
            "_model_module_version": "1.5.0",
            "_model_name": "HTMLModel",
            "_view_count": null,
            "_view_module": "@jupyter-widgets/controls",
            "_view_module_version": "1.5.0",
            "_view_name": "HTMLView",
            "description": "",
            "description_tooltip": null,
            "layout": "IPY_MODEL_aef7ebbf00c943fe9cbf1fc070d10bc4",
            "placeholder": "​",
            "style": "IPY_MODEL_86801d817d5f406783f95ab6207dc9dd",
            "value": " 1/1 [00:02&lt;00:00,  2.24s/it]"
          }
        },
        "f474c7491ae04859b8d7d3e76beb4282": {
          "model_module": "@jupyter-widgets/base",
          "model_name": "LayoutModel",
          "model_module_version": "1.2.0",
          "state": {
            "_model_module": "@jupyter-widgets/base",
            "_model_module_version": "1.2.0",
            "_model_name": "LayoutModel",
            "_view_count": null,
            "_view_module": "@jupyter-widgets/base",
            "_view_module_version": "1.2.0",
            "_view_name": "LayoutView",
            "align_content": null,
            "align_items": null,
            "align_self": null,
            "border": null,
            "bottom": null,
            "display": null,
            "flex": null,
            "flex_flow": null,
            "grid_area": null,
            "grid_auto_columns": null,
            "grid_auto_flow": null,
            "grid_auto_rows": null,
            "grid_column": null,
            "grid_gap": null,
            "grid_row": null,
            "grid_template_areas": null,
            "grid_template_columns": null,
            "grid_template_rows": null,
            "height": null,
            "justify_content": null,
            "justify_items": null,
            "left": null,
            "margin": null,
            "max_height": null,
            "max_width": null,
            "min_height": null,
            "min_width": null,
            "object_fit": null,
            "object_position": null,
            "order": null,
            "overflow": null,
            "overflow_x": null,
            "overflow_y": null,
            "padding": null,
            "right": null,
            "top": null,
            "visibility": null,
            "width": null
          }
        },
        "c93022774fb84f44b2ae281390f69b0d": {
          "model_module": "@jupyter-widgets/base",
          "model_name": "LayoutModel",
          "model_module_version": "1.2.0",
          "state": {
            "_model_module": "@jupyter-widgets/base",
            "_model_module_version": "1.2.0",
            "_model_name": "LayoutModel",
            "_view_count": null,
            "_view_module": "@jupyter-widgets/base",
            "_view_module_version": "1.2.0",
            "_view_name": "LayoutView",
            "align_content": null,
            "align_items": null,
            "align_self": null,
            "border": null,
            "bottom": null,
            "display": null,
            "flex": null,
            "flex_flow": null,
            "grid_area": null,
            "grid_auto_columns": null,
            "grid_auto_flow": null,
            "grid_auto_rows": null,
            "grid_column": null,
            "grid_gap": null,
            "grid_row": null,
            "grid_template_areas": null,
            "grid_template_columns": null,
            "grid_template_rows": null,
            "height": null,
            "justify_content": null,
            "justify_items": null,
            "left": null,
            "margin": null,
            "max_height": null,
            "max_width": null,
            "min_height": null,
            "min_width": null,
            "object_fit": null,
            "object_position": null,
            "order": null,
            "overflow": null,
            "overflow_x": null,
            "overflow_y": null,
            "padding": null,
            "right": null,
            "top": null,
            "visibility": null,
            "width": null
          }
        },
        "bfc40b34e1f14615aebe8f135c4ff457": {
          "model_module": "@jupyter-widgets/controls",
          "model_name": "DescriptionStyleModel",
          "model_module_version": "1.5.0",
          "state": {
            "_model_module": "@jupyter-widgets/controls",
            "_model_module_version": "1.5.0",
            "_model_name": "DescriptionStyleModel",
            "_view_count": null,
            "_view_module": "@jupyter-widgets/base",
            "_view_module_version": "1.2.0",
            "_view_name": "StyleView",
            "description_width": ""
          }
        },
        "b5e631edfd2e411cb9b3424ef1657674": {
          "model_module": "@jupyter-widgets/base",
          "model_name": "LayoutModel",
          "model_module_version": "1.2.0",
          "state": {
            "_model_module": "@jupyter-widgets/base",
            "_model_module_version": "1.2.0",
            "_model_name": "LayoutModel",
            "_view_count": null,
            "_view_module": "@jupyter-widgets/base",
            "_view_module_version": "1.2.0",
            "_view_name": "LayoutView",
            "align_content": null,
            "align_items": null,
            "align_self": null,
            "border": null,
            "bottom": null,
            "display": null,
            "flex": null,
            "flex_flow": null,
            "grid_area": null,
            "grid_auto_columns": null,
            "grid_auto_flow": null,
            "grid_auto_rows": null,
            "grid_column": null,
            "grid_gap": null,
            "grid_row": null,
            "grid_template_areas": null,
            "grid_template_columns": null,
            "grid_template_rows": null,
            "height": null,
            "justify_content": null,
            "justify_items": null,
            "left": null,
            "margin": null,
            "max_height": null,
            "max_width": null,
            "min_height": null,
            "min_width": null,
            "object_fit": null,
            "object_position": null,
            "order": null,
            "overflow": null,
            "overflow_x": null,
            "overflow_y": null,
            "padding": null,
            "right": null,
            "top": null,
            "visibility": null,
            "width": null
          }
        },
        "ec7d64d670b547ac9dd407d8b1453de3": {
          "model_module": "@jupyter-widgets/controls",
          "model_name": "ProgressStyleModel",
          "model_module_version": "1.5.0",
          "state": {
            "_model_module": "@jupyter-widgets/controls",
            "_model_module_version": "1.5.0",
            "_model_name": "ProgressStyleModel",
            "_view_count": null,
            "_view_module": "@jupyter-widgets/base",
            "_view_module_version": "1.2.0",
            "_view_name": "StyleView",
            "bar_color": null,
            "description_width": ""
          }
        },
        "aef7ebbf00c943fe9cbf1fc070d10bc4": {
          "model_module": "@jupyter-widgets/base",
          "model_name": "LayoutModel",
          "model_module_version": "1.2.0",
          "state": {
            "_model_module": "@jupyter-widgets/base",
            "_model_module_version": "1.2.0",
            "_model_name": "LayoutModel",
            "_view_count": null,
            "_view_module": "@jupyter-widgets/base",
            "_view_module_version": "1.2.0",
            "_view_name": "LayoutView",
            "align_content": null,
            "align_items": null,
            "align_self": null,
            "border": null,
            "bottom": null,
            "display": null,
            "flex": null,
            "flex_flow": null,
            "grid_area": null,
            "grid_auto_columns": null,
            "grid_auto_flow": null,
            "grid_auto_rows": null,
            "grid_column": null,
            "grid_gap": null,
            "grid_row": null,
            "grid_template_areas": null,
            "grid_template_columns": null,
            "grid_template_rows": null,
            "height": null,
            "justify_content": null,
            "justify_items": null,
            "left": null,
            "margin": null,
            "max_height": null,
            "max_width": null,
            "min_height": null,
            "min_width": null,
            "object_fit": null,
            "object_position": null,
            "order": null,
            "overflow": null,
            "overflow_x": null,
            "overflow_y": null,
            "padding": null,
            "right": null,
            "top": null,
            "visibility": null,
            "width": null
          }
        },
        "86801d817d5f406783f95ab6207dc9dd": {
          "model_module": "@jupyter-widgets/controls",
          "model_name": "DescriptionStyleModel",
          "model_module_version": "1.5.0",
          "state": {
            "_model_module": "@jupyter-widgets/controls",
            "_model_module_version": "1.5.0",
            "_model_name": "DescriptionStyleModel",
            "_view_count": null,
            "_view_module": "@jupyter-widgets/base",
            "_view_module_version": "1.2.0",
            "_view_name": "StyleView",
            "description_width": ""
          }
        },
        "e528e300dc0247f1921c8d96ee473f7e": {
          "model_module": "@jupyter-widgets/controls",
          "model_name": "HBoxModel",
          "model_module_version": "1.5.0",
          "state": {
            "_dom_classes": [],
            "_model_module": "@jupyter-widgets/controls",
            "_model_module_version": "1.5.0",
            "_model_name": "HBoxModel",
            "_view_count": null,
            "_view_module": "@jupyter-widgets/controls",
            "_view_module_version": "1.5.0",
            "_view_name": "HBoxView",
            "box_style": "",
            "children": [
              "IPY_MODEL_a0e9c2791bb444dfa2b6f8b14657e9c5",
              "IPY_MODEL_120b73af60a34ae7b3a7c7504c6a685e",
              "IPY_MODEL_6f071d840f4d4bbe80af953a24380d7c"
            ],
            "layout": "IPY_MODEL_9eec15948d9b45dfa27b6f42ce00ac4d"
          }
        },
        "a0e9c2791bb444dfa2b6f8b14657e9c5": {
          "model_module": "@jupyter-widgets/controls",
          "model_name": "HTMLModel",
          "model_module_version": "1.5.0",
          "state": {
            "_dom_classes": [],
            "_model_module": "@jupyter-widgets/controls",
            "_model_module_version": "1.5.0",
            "_model_name": "HTMLModel",
            "_view_count": null,
            "_view_module": "@jupyter-widgets/controls",
            "_view_module_version": "1.5.0",
            "_view_name": "HTMLView",
            "description": "",
            "description_tooltip": null,
            "layout": "IPY_MODEL_08fa499ea68741ee811c5fb73732490c",
            "placeholder": "​",
            "style": "IPY_MODEL_50e3ed71042942588b29c435323417b8",
            "value": "Creating parquet from Arrow format: 100%"
          }
        },
        "120b73af60a34ae7b3a7c7504c6a685e": {
          "model_module": "@jupyter-widgets/controls",
          "model_name": "FloatProgressModel",
          "model_module_version": "1.5.0",
          "state": {
            "_dom_classes": [],
            "_model_module": "@jupyter-widgets/controls",
            "_model_module_version": "1.5.0",
            "_model_name": "FloatProgressModel",
            "_view_count": null,
            "_view_module": "@jupyter-widgets/controls",
            "_view_module_version": "1.5.0",
            "_view_name": "ProgressView",
            "bar_style": "success",
            "description": "",
            "description_tooltip": null,
            "layout": "IPY_MODEL_3bfb05bba0b74f21ae3332393b07f55a",
            "max": 1,
            "min": 0,
            "orientation": "horizontal",
            "style": "IPY_MODEL_40028783bdef4c7b9757c0ef2b709453",
            "value": 1
          }
        },
        "6f071d840f4d4bbe80af953a24380d7c": {
          "model_module": "@jupyter-widgets/controls",
          "model_name": "HTMLModel",
          "model_module_version": "1.5.0",
          "state": {
            "_dom_classes": [],
            "_model_module": "@jupyter-widgets/controls",
            "_model_module_version": "1.5.0",
            "_model_name": "HTMLModel",
            "_view_count": null,
            "_view_module": "@jupyter-widgets/controls",
            "_view_module_version": "1.5.0",
            "_view_name": "HTMLView",
            "description": "",
            "description_tooltip": null,
            "layout": "IPY_MODEL_c9ee2593659d416a8bffb4ce7c2ac1c1",
            "placeholder": "​",
            "style": "IPY_MODEL_db5b7962a4ca4ef6bc09bb8407dd396d",
            "value": " 1/1 [00:00&lt;00:00, 53.70ba/s]"
          }
        },
        "9eec15948d9b45dfa27b6f42ce00ac4d": {
          "model_module": "@jupyter-widgets/base",
          "model_name": "LayoutModel",
          "model_module_version": "1.2.0",
          "state": {
            "_model_module": "@jupyter-widgets/base",
            "_model_module_version": "1.2.0",
            "_model_name": "LayoutModel",
            "_view_count": null,
            "_view_module": "@jupyter-widgets/base",
            "_view_module_version": "1.2.0",
            "_view_name": "LayoutView",
            "align_content": null,
            "align_items": null,
            "align_self": null,
            "border": null,
            "bottom": null,
            "display": null,
            "flex": null,
            "flex_flow": null,
            "grid_area": null,
            "grid_auto_columns": null,
            "grid_auto_flow": null,
            "grid_auto_rows": null,
            "grid_column": null,
            "grid_gap": null,
            "grid_row": null,
            "grid_template_areas": null,
            "grid_template_columns": null,
            "grid_template_rows": null,
            "height": null,
            "justify_content": null,
            "justify_items": null,
            "left": null,
            "margin": null,
            "max_height": null,
            "max_width": null,
            "min_height": null,
            "min_width": null,
            "object_fit": null,
            "object_position": null,
            "order": null,
            "overflow": null,
            "overflow_x": null,
            "overflow_y": null,
            "padding": null,
            "right": null,
            "top": null,
            "visibility": null,
            "width": null
          }
        },
        "08fa499ea68741ee811c5fb73732490c": {
          "model_module": "@jupyter-widgets/base",
          "model_name": "LayoutModel",
          "model_module_version": "1.2.0",
          "state": {
            "_model_module": "@jupyter-widgets/base",
            "_model_module_version": "1.2.0",
            "_model_name": "LayoutModel",
            "_view_count": null,
            "_view_module": "@jupyter-widgets/base",
            "_view_module_version": "1.2.0",
            "_view_name": "LayoutView",
            "align_content": null,
            "align_items": null,
            "align_self": null,
            "border": null,
            "bottom": null,
            "display": null,
            "flex": null,
            "flex_flow": null,
            "grid_area": null,
            "grid_auto_columns": null,
            "grid_auto_flow": null,
            "grid_auto_rows": null,
            "grid_column": null,
            "grid_gap": null,
            "grid_row": null,
            "grid_template_areas": null,
            "grid_template_columns": null,
            "grid_template_rows": null,
            "height": null,
            "justify_content": null,
            "justify_items": null,
            "left": null,
            "margin": null,
            "max_height": null,
            "max_width": null,
            "min_height": null,
            "min_width": null,
            "object_fit": null,
            "object_position": null,
            "order": null,
            "overflow": null,
            "overflow_x": null,
            "overflow_y": null,
            "padding": null,
            "right": null,
            "top": null,
            "visibility": null,
            "width": null
          }
        },
        "50e3ed71042942588b29c435323417b8": {
          "model_module": "@jupyter-widgets/controls",
          "model_name": "DescriptionStyleModel",
          "model_module_version": "1.5.0",
          "state": {
            "_model_module": "@jupyter-widgets/controls",
            "_model_module_version": "1.5.0",
            "_model_name": "DescriptionStyleModel",
            "_view_count": null,
            "_view_module": "@jupyter-widgets/base",
            "_view_module_version": "1.2.0",
            "_view_name": "StyleView",
            "description_width": ""
          }
        },
        "3bfb05bba0b74f21ae3332393b07f55a": {
          "model_module": "@jupyter-widgets/base",
          "model_name": "LayoutModel",
          "model_module_version": "1.2.0",
          "state": {
            "_model_module": "@jupyter-widgets/base",
            "_model_module_version": "1.2.0",
            "_model_name": "LayoutModel",
            "_view_count": null,
            "_view_module": "@jupyter-widgets/base",
            "_view_module_version": "1.2.0",
            "_view_name": "LayoutView",
            "align_content": null,
            "align_items": null,
            "align_self": null,
            "border": null,
            "bottom": null,
            "display": null,
            "flex": null,
            "flex_flow": null,
            "grid_area": null,
            "grid_auto_columns": null,
            "grid_auto_flow": null,
            "grid_auto_rows": null,
            "grid_column": null,
            "grid_gap": null,
            "grid_row": null,
            "grid_template_areas": null,
            "grid_template_columns": null,
            "grid_template_rows": null,
            "height": null,
            "justify_content": null,
            "justify_items": null,
            "left": null,
            "margin": null,
            "max_height": null,
            "max_width": null,
            "min_height": null,
            "min_width": null,
            "object_fit": null,
            "object_position": null,
            "order": null,
            "overflow": null,
            "overflow_x": null,
            "overflow_y": null,
            "padding": null,
            "right": null,
            "top": null,
            "visibility": null,
            "width": null
          }
        },
        "40028783bdef4c7b9757c0ef2b709453": {
          "model_module": "@jupyter-widgets/controls",
          "model_name": "ProgressStyleModel",
          "model_module_version": "1.5.0",
          "state": {
            "_model_module": "@jupyter-widgets/controls",
            "_model_module_version": "1.5.0",
            "_model_name": "ProgressStyleModel",
            "_view_count": null,
            "_view_module": "@jupyter-widgets/base",
            "_view_module_version": "1.2.0",
            "_view_name": "StyleView",
            "bar_color": null,
            "description_width": ""
          }
        },
        "c9ee2593659d416a8bffb4ce7c2ac1c1": {
          "model_module": "@jupyter-widgets/base",
          "model_name": "LayoutModel",
          "model_module_version": "1.2.0",
          "state": {
            "_model_module": "@jupyter-widgets/base",
            "_model_module_version": "1.2.0",
            "_model_name": "LayoutModel",
            "_view_count": null,
            "_view_module": "@jupyter-widgets/base",
            "_view_module_version": "1.2.0",
            "_view_name": "LayoutView",
            "align_content": null,
            "align_items": null,
            "align_self": null,
            "border": null,
            "bottom": null,
            "display": null,
            "flex": null,
            "flex_flow": null,
            "grid_area": null,
            "grid_auto_columns": null,
            "grid_auto_flow": null,
            "grid_auto_rows": null,
            "grid_column": null,
            "grid_gap": null,
            "grid_row": null,
            "grid_template_areas": null,
            "grid_template_columns": null,
            "grid_template_rows": null,
            "height": null,
            "justify_content": null,
            "justify_items": null,
            "left": null,
            "margin": null,
            "max_height": null,
            "max_width": null,
            "min_height": null,
            "min_width": null,
            "object_fit": null,
            "object_position": null,
            "order": null,
            "overflow": null,
            "overflow_x": null,
            "overflow_y": null,
            "padding": null,
            "right": null,
            "top": null,
            "visibility": null,
            "width": null
          }
        },
        "db5b7962a4ca4ef6bc09bb8407dd396d": {
          "model_module": "@jupyter-widgets/controls",
          "model_name": "DescriptionStyleModel",
          "model_module_version": "1.5.0",
          "state": {
            "_model_module": "@jupyter-widgets/controls",
            "_model_module_version": "1.5.0",
            "_model_name": "DescriptionStyleModel",
            "_view_count": null,
            "_view_module": "@jupyter-widgets/base",
            "_view_module_version": "1.2.0",
            "_view_name": "StyleView",
            "description_width": ""
          }
        },
        "c0ad00f98a384ceca466ef4c69ec8e09": {
          "model_module": "@jupyter-widgets/controls",
          "model_name": "HBoxModel",
          "model_module_version": "1.5.0",
          "state": {
            "_dom_classes": [],
            "_model_module": "@jupyter-widgets/controls",
            "_model_module_version": "1.5.0",
            "_model_name": "HBoxModel",
            "_view_count": null,
            "_view_module": "@jupyter-widgets/controls",
            "_view_module_version": "1.5.0",
            "_view_name": "HBoxView",
            "box_style": "",
            "children": [
              "IPY_MODEL_db1dcce7271042fb873cd60834f4e804",
              "IPY_MODEL_680f284ec589480881491aee0240a132",
              "IPY_MODEL_cfe53e363c1c405292884ff926a03c5f"
            ],
            "layout": "IPY_MODEL_5d8c15eee97d48fea5e5e02ac05d72e4"
          }
        },
        "db1dcce7271042fb873cd60834f4e804": {
          "model_module": "@jupyter-widgets/controls",
          "model_name": "HTMLModel",
          "model_module_version": "1.5.0",
          "state": {
            "_dom_classes": [],
            "_model_module": "@jupyter-widgets/controls",
            "_model_module_version": "1.5.0",
            "_model_name": "HTMLModel",
            "_view_count": null,
            "_view_module": "@jupyter-widgets/controls",
            "_view_module_version": "1.5.0",
            "_view_name": "HTMLView",
            "description": "",
            "description_tooltip": null,
            "layout": "IPY_MODEL_c8fb45404dc243bd9d9d9590642f3a04",
            "placeholder": "​",
            "style": "IPY_MODEL_c170e7dbc0424fdc8cc0ef9201802a7e",
            "value": "Evaluating: 100%"
          }
        },
        "680f284ec589480881491aee0240a132": {
          "model_module": "@jupyter-widgets/controls",
          "model_name": "FloatProgressModel",
          "model_module_version": "1.5.0",
          "state": {
            "_dom_classes": [],
            "_model_module": "@jupyter-widgets/controls",
            "_model_module_version": "1.5.0",
            "_model_name": "FloatProgressModel",
            "_view_count": null,
            "_view_module": "@jupyter-widgets/controls",
            "_view_module_version": "1.5.0",
            "_view_name": "ProgressView",
            "bar_style": "success",
            "description": "",
            "description_tooltip": null,
            "layout": "IPY_MODEL_7da7f7adf4a84f1aa2dc5521e4c7c1e8",
            "max": 12,
            "min": 0,
            "orientation": "horizontal",
            "style": "IPY_MODEL_33fb31a2537844ca985a41bcedbc8c80",
            "value": 12
          }
        },
        "cfe53e363c1c405292884ff926a03c5f": {
          "model_module": "@jupyter-widgets/controls",
          "model_name": "HTMLModel",
          "model_module_version": "1.5.0",
          "state": {
            "_dom_classes": [],
            "_model_module": "@jupyter-widgets/controls",
            "_model_module_version": "1.5.0",
            "_model_name": "HTMLModel",
            "_view_count": null,
            "_view_module": "@jupyter-widgets/controls",
            "_view_module_version": "1.5.0",
            "_view_name": "HTMLView",
            "description": "",
            "description_tooltip": null,
            "layout": "IPY_MODEL_14ebbe7c4f9f4eada9c933575f5dc29d",
            "placeholder": "​",
            "style": "IPY_MODEL_d9712d190451445faaa50c40c1d0aac8",
            "value": " 12/12 [00:15&lt;00:00,  1.66s/it]"
          }
        },
        "5d8c15eee97d48fea5e5e02ac05d72e4": {
          "model_module": "@jupyter-widgets/base",
          "model_name": "LayoutModel",
          "model_module_version": "1.2.0",
          "state": {
            "_model_module": "@jupyter-widgets/base",
            "_model_module_version": "1.2.0",
            "_model_name": "LayoutModel",
            "_view_count": null,
            "_view_module": "@jupyter-widgets/base",
            "_view_module_version": "1.2.0",
            "_view_name": "LayoutView",
            "align_content": null,
            "align_items": null,
            "align_self": null,
            "border": null,
            "bottom": null,
            "display": null,
            "flex": null,
            "flex_flow": null,
            "grid_area": null,
            "grid_auto_columns": null,
            "grid_auto_flow": null,
            "grid_auto_rows": null,
            "grid_column": null,
            "grid_gap": null,
            "grid_row": null,
            "grid_template_areas": null,
            "grid_template_columns": null,
            "grid_template_rows": null,
            "height": null,
            "justify_content": null,
            "justify_items": null,
            "left": null,
            "margin": null,
            "max_height": null,
            "max_width": null,
            "min_height": null,
            "min_width": null,
            "object_fit": null,
            "object_position": null,
            "order": null,
            "overflow": null,
            "overflow_x": null,
            "overflow_y": null,
            "padding": null,
            "right": null,
            "top": null,
            "visibility": null,
            "width": null
          }
        },
        "c8fb45404dc243bd9d9d9590642f3a04": {
          "model_module": "@jupyter-widgets/base",
          "model_name": "LayoutModel",
          "model_module_version": "1.2.0",
          "state": {
            "_model_module": "@jupyter-widgets/base",
            "_model_module_version": "1.2.0",
            "_model_name": "LayoutModel",
            "_view_count": null,
            "_view_module": "@jupyter-widgets/base",
            "_view_module_version": "1.2.0",
            "_view_name": "LayoutView",
            "align_content": null,
            "align_items": null,
            "align_self": null,
            "border": null,
            "bottom": null,
            "display": null,
            "flex": null,
            "flex_flow": null,
            "grid_area": null,
            "grid_auto_columns": null,
            "grid_auto_flow": null,
            "grid_auto_rows": null,
            "grid_column": null,
            "grid_gap": null,
            "grid_row": null,
            "grid_template_areas": null,
            "grid_template_columns": null,
            "grid_template_rows": null,
            "height": null,
            "justify_content": null,
            "justify_items": null,
            "left": null,
            "margin": null,
            "max_height": null,
            "max_width": null,
            "min_height": null,
            "min_width": null,
            "object_fit": null,
            "object_position": null,
            "order": null,
            "overflow": null,
            "overflow_x": null,
            "overflow_y": null,
            "padding": null,
            "right": null,
            "top": null,
            "visibility": null,
            "width": null
          }
        },
        "c170e7dbc0424fdc8cc0ef9201802a7e": {
          "model_module": "@jupyter-widgets/controls",
          "model_name": "DescriptionStyleModel",
          "model_module_version": "1.5.0",
          "state": {
            "_model_module": "@jupyter-widgets/controls",
            "_model_module_version": "1.5.0",
            "_model_name": "DescriptionStyleModel",
            "_view_count": null,
            "_view_module": "@jupyter-widgets/base",
            "_view_module_version": "1.2.0",
            "_view_name": "StyleView",
            "description_width": ""
          }
        },
        "7da7f7adf4a84f1aa2dc5521e4c7c1e8": {
          "model_module": "@jupyter-widgets/base",
          "model_name": "LayoutModel",
          "model_module_version": "1.2.0",
          "state": {
            "_model_module": "@jupyter-widgets/base",
            "_model_module_version": "1.2.0",
            "_model_name": "LayoutModel",
            "_view_count": null,
            "_view_module": "@jupyter-widgets/base",
            "_view_module_version": "1.2.0",
            "_view_name": "LayoutView",
            "align_content": null,
            "align_items": null,
            "align_self": null,
            "border": null,
            "bottom": null,
            "display": null,
            "flex": null,
            "flex_flow": null,
            "grid_area": null,
            "grid_auto_columns": null,
            "grid_auto_flow": null,
            "grid_auto_rows": null,
            "grid_column": null,
            "grid_gap": null,
            "grid_row": null,
            "grid_template_areas": null,
            "grid_template_columns": null,
            "grid_template_rows": null,
            "height": null,
            "justify_content": null,
            "justify_items": null,
            "left": null,
            "margin": null,
            "max_height": null,
            "max_width": null,
            "min_height": null,
            "min_width": null,
            "object_fit": null,
            "object_position": null,
            "order": null,
            "overflow": null,
            "overflow_x": null,
            "overflow_y": null,
            "padding": null,
            "right": null,
            "top": null,
            "visibility": null,
            "width": null
          }
        },
        "33fb31a2537844ca985a41bcedbc8c80": {
          "model_module": "@jupyter-widgets/controls",
          "model_name": "ProgressStyleModel",
          "model_module_version": "1.5.0",
          "state": {
            "_model_module": "@jupyter-widgets/controls",
            "_model_module_version": "1.5.0",
            "_model_name": "ProgressStyleModel",
            "_view_count": null,
            "_view_module": "@jupyter-widgets/base",
            "_view_module_version": "1.2.0",
            "_view_name": "StyleView",
            "bar_color": null,
            "description_width": ""
          }
        },
        "14ebbe7c4f9f4eada9c933575f5dc29d": {
          "model_module": "@jupyter-widgets/base",
          "model_name": "LayoutModel",
          "model_module_version": "1.2.0",
          "state": {
            "_model_module": "@jupyter-widgets/base",
            "_model_module_version": "1.2.0",
            "_model_name": "LayoutModel",
            "_view_count": null,
            "_view_module": "@jupyter-widgets/base",
            "_view_module_version": "1.2.0",
            "_view_name": "LayoutView",
            "align_content": null,
            "align_items": null,
            "align_self": null,
            "border": null,
            "bottom": null,
            "display": null,
            "flex": null,
            "flex_flow": null,
            "grid_area": null,
            "grid_auto_columns": null,
            "grid_auto_flow": null,
            "grid_auto_rows": null,
            "grid_column": null,
            "grid_gap": null,
            "grid_row": null,
            "grid_template_areas": null,
            "grid_template_columns": null,
            "grid_template_rows": null,
            "height": null,
            "justify_content": null,
            "justify_items": null,
            "left": null,
            "margin": null,
            "max_height": null,
            "max_width": null,
            "min_height": null,
            "min_width": null,
            "object_fit": null,
            "object_position": null,
            "order": null,
            "overflow": null,
            "overflow_x": null,
            "overflow_y": null,
            "padding": null,
            "right": null,
            "top": null,
            "visibility": null,
            "width": null
          }
        },
        "d9712d190451445faaa50c40c1d0aac8": {
          "model_module": "@jupyter-widgets/controls",
          "model_name": "DescriptionStyleModel",
          "model_module_version": "1.5.0",
          "state": {
            "_model_module": "@jupyter-widgets/controls",
            "_model_module_version": "1.5.0",
            "_model_name": "DescriptionStyleModel",
            "_view_count": null,
            "_view_module": "@jupyter-widgets/base",
            "_view_module_version": "1.2.0",
            "_view_name": "StyleView",
            "description_width": ""
          }
        }
      }
    }
  },
  "nbformat": 4,
  "nbformat_minor": 0
}